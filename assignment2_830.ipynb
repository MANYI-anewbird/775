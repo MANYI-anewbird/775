{
  "cells": [
    {
      "cell_type": "markdown",
      "metadata": {
        "id": "view-in-github",
        "colab_type": "text"
      },
      "source": [
        "<a href=\"https://colab.research.google.com/github/MANYI-anewbird/775/blob/main/assignment2_830.ipynb\" target=\"_parent\"><img src=\"https://colab.research.google.com/assets/colab-badge.svg\" alt=\"Open In Colab\"/></a>"
      ]
    },
    {
      "cell_type": "markdown",
      "id": "fddf81eb",
      "metadata": {
        "id": "fddf81eb"
      },
      "source": [
        "# Business Experimentation and Causal Methods\n",
        "\n",
        "## Assignment 2: Rocket Fuel\n",
        "\n",
        "### Due Date: 8am, February 6th, 2025\n",
        "\n",
        "Manyi Hong\n"
      ]
    },
    {
      "cell_type": "markdown",
      "id": "6dcacf10",
      "metadata": {
        "id": "6dcacf10"
      },
      "source": [
        "__Instructions:__\n",
        "\n",
        "Please read the case about RocketFuel from the HBS Case Pack.\n",
        "For the assignment you need to read the Rocketfuel case, but answer the questions in the assignment. You can ignore the questions on the HBS website\n",
        "\n",
        "\n",
        "__Important:__\n",
        "\n",
        "- Remember to write your name in the above markdown cell.\n",
        "\n",
        "- Remember to write out your answers in words, don't just output Python statistics.\n",
        "  - EX: Rather then outputting just `10000.0`, say \"TaskaBella made $10,000.00 profit from the campaign.\"\n",
        "\n",
        "- Before you submit the notebook, please make sure that the text is readable and does not spill over the right side of the screen. To prevent this from happening, make sure to write your verbal answer in the markdown blocks.\n",
        "  \n",
        "- The definitions for the columns in the data are in case! Please read them carefully.\n"
      ]
    },
    {
      "cell_type": "code",
      "execution_count": 1,
      "id": "CYyWpOIfs3Ua",
      "metadata": {
        "id": "CYyWpOIfs3Ua"
      },
      "outputs": [],
      "source": [
        "%%capture\n",
        "!pip install pingouin # install the package used for statistical analyses"
      ]
    },
    {
      "cell_type": "code",
      "execution_count": 2,
      "id": "D_EyllV7g8BJ",
      "metadata": {
        "id": "D_EyllV7g8BJ"
      },
      "outputs": [],
      "source": [
        "# import modules and functions\n",
        "import numpy as np\n",
        "import pandas as pd\n",
        "import seaborn as sns\n",
        "import pingouin as pg\n",
        "pg.options['round.column.CI95%'] = 6\n",
        "#from google.colab import drive\n",
        "#drive.mount('/content/drive')"
      ]
    },
    {
      "cell_type": "code",
      "execution_count": 3,
      "id": "01c2a3ba",
      "metadata": {
        "colab": {
          "base_uri": "https://localhost:8080/",
          "height": 424
        },
        "id": "01c2a3ba",
        "outputId": "c7b569aa-5285-4c2d-f0c1-1b2e13fac85c"
      },
      "outputs": [
        {
          "output_type": "execute_result",
          "data": {
            "text/plain": [
              "        user_id  test  converted  tot_impr  mode_impr_day  mode_impr_hour\n",
              "0       1069124     1          0       130              1              20\n",
              "1       1119715     1          0        93              2              22\n",
              "2       1144181     1          0        21              2              18\n",
              "3       1435133     1          0       355              2              10\n",
              "4       1015700     1          0       276              5              14\n",
              "...         ...   ...        ...       ...            ...             ...\n",
              "588106  1496403     1          0        24              2              19\n",
              "588107  1496404     1          0       199              6              19\n",
              "588108  1496405     1          0       211              6              15\n",
              "588109  1496406     1          0        98              5              19\n",
              "588110  1496407     1          0        19              2              19\n",
              "\n",
              "[588111 rows x 6 columns]"
            ],
            "text/html": [
              "\n",
              "  <div id=\"df-ba60bb5e-1af6-46da-9d4b-e76633870282\" class=\"colab-df-container\">\n",
              "    <div>\n",
              "<style scoped>\n",
              "    .dataframe tbody tr th:only-of-type {\n",
              "        vertical-align: middle;\n",
              "    }\n",
              "\n",
              "    .dataframe tbody tr th {\n",
              "        vertical-align: top;\n",
              "    }\n",
              "\n",
              "    .dataframe thead th {\n",
              "        text-align: right;\n",
              "    }\n",
              "</style>\n",
              "<table border=\"1\" class=\"dataframe\">\n",
              "  <thead>\n",
              "    <tr style=\"text-align: right;\">\n",
              "      <th></th>\n",
              "      <th>user_id</th>\n",
              "      <th>test</th>\n",
              "      <th>converted</th>\n",
              "      <th>tot_impr</th>\n",
              "      <th>mode_impr_day</th>\n",
              "      <th>mode_impr_hour</th>\n",
              "    </tr>\n",
              "  </thead>\n",
              "  <tbody>\n",
              "    <tr>\n",
              "      <th>0</th>\n",
              "      <td>1069124</td>\n",
              "      <td>1</td>\n",
              "      <td>0</td>\n",
              "      <td>130</td>\n",
              "      <td>1</td>\n",
              "      <td>20</td>\n",
              "    </tr>\n",
              "    <tr>\n",
              "      <th>1</th>\n",
              "      <td>1119715</td>\n",
              "      <td>1</td>\n",
              "      <td>0</td>\n",
              "      <td>93</td>\n",
              "      <td>2</td>\n",
              "      <td>22</td>\n",
              "    </tr>\n",
              "    <tr>\n",
              "      <th>2</th>\n",
              "      <td>1144181</td>\n",
              "      <td>1</td>\n",
              "      <td>0</td>\n",
              "      <td>21</td>\n",
              "      <td>2</td>\n",
              "      <td>18</td>\n",
              "    </tr>\n",
              "    <tr>\n",
              "      <th>3</th>\n",
              "      <td>1435133</td>\n",
              "      <td>1</td>\n",
              "      <td>0</td>\n",
              "      <td>355</td>\n",
              "      <td>2</td>\n",
              "      <td>10</td>\n",
              "    </tr>\n",
              "    <tr>\n",
              "      <th>4</th>\n",
              "      <td>1015700</td>\n",
              "      <td>1</td>\n",
              "      <td>0</td>\n",
              "      <td>276</td>\n",
              "      <td>5</td>\n",
              "      <td>14</td>\n",
              "    </tr>\n",
              "    <tr>\n",
              "      <th>...</th>\n",
              "      <td>...</td>\n",
              "      <td>...</td>\n",
              "      <td>...</td>\n",
              "      <td>...</td>\n",
              "      <td>...</td>\n",
              "      <td>...</td>\n",
              "    </tr>\n",
              "    <tr>\n",
              "      <th>588106</th>\n",
              "      <td>1496403</td>\n",
              "      <td>1</td>\n",
              "      <td>0</td>\n",
              "      <td>24</td>\n",
              "      <td>2</td>\n",
              "      <td>19</td>\n",
              "    </tr>\n",
              "    <tr>\n",
              "      <th>588107</th>\n",
              "      <td>1496404</td>\n",
              "      <td>1</td>\n",
              "      <td>0</td>\n",
              "      <td>199</td>\n",
              "      <td>6</td>\n",
              "      <td>19</td>\n",
              "    </tr>\n",
              "    <tr>\n",
              "      <th>588108</th>\n",
              "      <td>1496405</td>\n",
              "      <td>1</td>\n",
              "      <td>0</td>\n",
              "      <td>211</td>\n",
              "      <td>6</td>\n",
              "      <td>15</td>\n",
              "    </tr>\n",
              "    <tr>\n",
              "      <th>588109</th>\n",
              "      <td>1496406</td>\n",
              "      <td>1</td>\n",
              "      <td>0</td>\n",
              "      <td>98</td>\n",
              "      <td>5</td>\n",
              "      <td>19</td>\n",
              "    </tr>\n",
              "    <tr>\n",
              "      <th>588110</th>\n",
              "      <td>1496407</td>\n",
              "      <td>1</td>\n",
              "      <td>0</td>\n",
              "      <td>19</td>\n",
              "      <td>2</td>\n",
              "      <td>19</td>\n",
              "    </tr>\n",
              "  </tbody>\n",
              "</table>\n",
              "<p>588111 rows × 6 columns</p>\n",
              "</div>\n",
              "    <div class=\"colab-df-buttons\">\n",
              "\n",
              "  <div class=\"colab-df-container\">\n",
              "    <button class=\"colab-df-convert\" onclick=\"convertToInteractive('df-ba60bb5e-1af6-46da-9d4b-e76633870282')\"\n",
              "            title=\"Convert this dataframe to an interactive table.\"\n",
              "            style=\"display:none;\">\n",
              "\n",
              "  <svg xmlns=\"http://www.w3.org/2000/svg\" height=\"24px\" viewBox=\"0 -960 960 960\">\n",
              "    <path d=\"M120-120v-720h720v720H120Zm60-500h600v-160H180v160Zm220 220h160v-160H400v160Zm0 220h160v-160H400v160ZM180-400h160v-160H180v160Zm440 0h160v-160H620v160ZM180-180h160v-160H180v160Zm440 0h160v-160H620v160Z\"/>\n",
              "  </svg>\n",
              "    </button>\n",
              "\n",
              "  <style>\n",
              "    .colab-df-container {\n",
              "      display:flex;\n",
              "      gap: 12px;\n",
              "    }\n",
              "\n",
              "    .colab-df-convert {\n",
              "      background-color: #E8F0FE;\n",
              "      border: none;\n",
              "      border-radius: 50%;\n",
              "      cursor: pointer;\n",
              "      display: none;\n",
              "      fill: #1967D2;\n",
              "      height: 32px;\n",
              "      padding: 0 0 0 0;\n",
              "      width: 32px;\n",
              "    }\n",
              "\n",
              "    .colab-df-convert:hover {\n",
              "      background-color: #E2EBFA;\n",
              "      box-shadow: 0px 1px 2px rgba(60, 64, 67, 0.3), 0px 1px 3px 1px rgba(60, 64, 67, 0.15);\n",
              "      fill: #174EA6;\n",
              "    }\n",
              "\n",
              "    .colab-df-buttons div {\n",
              "      margin-bottom: 4px;\n",
              "    }\n",
              "\n",
              "    [theme=dark] .colab-df-convert {\n",
              "      background-color: #3B4455;\n",
              "      fill: #D2E3FC;\n",
              "    }\n",
              "\n",
              "    [theme=dark] .colab-df-convert:hover {\n",
              "      background-color: #434B5C;\n",
              "      box-shadow: 0px 1px 3px 1px rgba(0, 0, 0, 0.15);\n",
              "      filter: drop-shadow(0px 1px 2px rgba(0, 0, 0, 0.3));\n",
              "      fill: #FFFFFF;\n",
              "    }\n",
              "  </style>\n",
              "\n",
              "    <script>\n",
              "      const buttonEl =\n",
              "        document.querySelector('#df-ba60bb5e-1af6-46da-9d4b-e76633870282 button.colab-df-convert');\n",
              "      buttonEl.style.display =\n",
              "        google.colab.kernel.accessAllowed ? 'block' : 'none';\n",
              "\n",
              "      async function convertToInteractive(key) {\n",
              "        const element = document.querySelector('#df-ba60bb5e-1af6-46da-9d4b-e76633870282');\n",
              "        const dataTable =\n",
              "          await google.colab.kernel.invokeFunction('convertToInteractive',\n",
              "                                                    [key], {});\n",
              "        if (!dataTable) return;\n",
              "\n",
              "        const docLinkHtml = 'Like what you see? Visit the ' +\n",
              "          '<a target=\"_blank\" href=https://colab.research.google.com/notebooks/data_table.ipynb>data table notebook</a>'\n",
              "          + ' to learn more about interactive tables.';\n",
              "        element.innerHTML = '';\n",
              "        dataTable['output_type'] = 'display_data';\n",
              "        await google.colab.output.renderOutput(dataTable, element);\n",
              "        const docLink = document.createElement('div');\n",
              "        docLink.innerHTML = docLinkHtml;\n",
              "        element.appendChild(docLink);\n",
              "      }\n",
              "    </script>\n",
              "  </div>\n",
              "\n",
              "\n",
              "<div id=\"df-25c78038-c784-4ca1-8473-698080daa2d4\">\n",
              "  <button class=\"colab-df-quickchart\" onclick=\"quickchart('df-25c78038-c784-4ca1-8473-698080daa2d4')\"\n",
              "            title=\"Suggest charts\"\n",
              "            style=\"display:none;\">\n",
              "\n",
              "<svg xmlns=\"http://www.w3.org/2000/svg\" height=\"24px\"viewBox=\"0 0 24 24\"\n",
              "     width=\"24px\">\n",
              "    <g>\n",
              "        <path d=\"M19 3H5c-1.1 0-2 .9-2 2v14c0 1.1.9 2 2 2h14c1.1 0 2-.9 2-2V5c0-1.1-.9-2-2-2zM9 17H7v-7h2v7zm4 0h-2V7h2v10zm4 0h-2v-4h2v4z\"/>\n",
              "    </g>\n",
              "</svg>\n",
              "  </button>\n",
              "\n",
              "<style>\n",
              "  .colab-df-quickchart {\n",
              "      --bg-color: #E8F0FE;\n",
              "      --fill-color: #1967D2;\n",
              "      --hover-bg-color: #E2EBFA;\n",
              "      --hover-fill-color: #174EA6;\n",
              "      --disabled-fill-color: #AAA;\n",
              "      --disabled-bg-color: #DDD;\n",
              "  }\n",
              "\n",
              "  [theme=dark] .colab-df-quickchart {\n",
              "      --bg-color: #3B4455;\n",
              "      --fill-color: #D2E3FC;\n",
              "      --hover-bg-color: #434B5C;\n",
              "      --hover-fill-color: #FFFFFF;\n",
              "      --disabled-bg-color: #3B4455;\n",
              "      --disabled-fill-color: #666;\n",
              "  }\n",
              "\n",
              "  .colab-df-quickchart {\n",
              "    background-color: var(--bg-color);\n",
              "    border: none;\n",
              "    border-radius: 50%;\n",
              "    cursor: pointer;\n",
              "    display: none;\n",
              "    fill: var(--fill-color);\n",
              "    height: 32px;\n",
              "    padding: 0;\n",
              "    width: 32px;\n",
              "  }\n",
              "\n",
              "  .colab-df-quickchart:hover {\n",
              "    background-color: var(--hover-bg-color);\n",
              "    box-shadow: 0 1px 2px rgba(60, 64, 67, 0.3), 0 1px 3px 1px rgba(60, 64, 67, 0.15);\n",
              "    fill: var(--button-hover-fill-color);\n",
              "  }\n",
              "\n",
              "  .colab-df-quickchart-complete:disabled,\n",
              "  .colab-df-quickchart-complete:disabled:hover {\n",
              "    background-color: var(--disabled-bg-color);\n",
              "    fill: var(--disabled-fill-color);\n",
              "    box-shadow: none;\n",
              "  }\n",
              "\n",
              "  .colab-df-spinner {\n",
              "    border: 2px solid var(--fill-color);\n",
              "    border-color: transparent;\n",
              "    border-bottom-color: var(--fill-color);\n",
              "    animation:\n",
              "      spin 1s steps(1) infinite;\n",
              "  }\n",
              "\n",
              "  @keyframes spin {\n",
              "    0% {\n",
              "      border-color: transparent;\n",
              "      border-bottom-color: var(--fill-color);\n",
              "      border-left-color: var(--fill-color);\n",
              "    }\n",
              "    20% {\n",
              "      border-color: transparent;\n",
              "      border-left-color: var(--fill-color);\n",
              "      border-top-color: var(--fill-color);\n",
              "    }\n",
              "    30% {\n",
              "      border-color: transparent;\n",
              "      border-left-color: var(--fill-color);\n",
              "      border-top-color: var(--fill-color);\n",
              "      border-right-color: var(--fill-color);\n",
              "    }\n",
              "    40% {\n",
              "      border-color: transparent;\n",
              "      border-right-color: var(--fill-color);\n",
              "      border-top-color: var(--fill-color);\n",
              "    }\n",
              "    60% {\n",
              "      border-color: transparent;\n",
              "      border-right-color: var(--fill-color);\n",
              "    }\n",
              "    80% {\n",
              "      border-color: transparent;\n",
              "      border-right-color: var(--fill-color);\n",
              "      border-bottom-color: var(--fill-color);\n",
              "    }\n",
              "    90% {\n",
              "      border-color: transparent;\n",
              "      border-bottom-color: var(--fill-color);\n",
              "    }\n",
              "  }\n",
              "</style>\n",
              "\n",
              "  <script>\n",
              "    async function quickchart(key) {\n",
              "      const quickchartButtonEl =\n",
              "        document.querySelector('#' + key + ' button');\n",
              "      quickchartButtonEl.disabled = true;  // To prevent multiple clicks.\n",
              "      quickchartButtonEl.classList.add('colab-df-spinner');\n",
              "      try {\n",
              "        const charts = await google.colab.kernel.invokeFunction(\n",
              "            'suggestCharts', [key], {});\n",
              "      } catch (error) {\n",
              "        console.error('Error during call to suggestCharts:', error);\n",
              "      }\n",
              "      quickchartButtonEl.classList.remove('colab-df-spinner');\n",
              "      quickchartButtonEl.classList.add('colab-df-quickchart-complete');\n",
              "    }\n",
              "    (() => {\n",
              "      let quickchartButtonEl =\n",
              "        document.querySelector('#df-25c78038-c784-4ca1-8473-698080daa2d4 button');\n",
              "      quickchartButtonEl.style.display =\n",
              "        google.colab.kernel.accessAllowed ? 'block' : 'none';\n",
              "    })();\n",
              "  </script>\n",
              "</div>\n",
              "\n",
              "  <div id=\"id_307de552-f648-4ef3-8c12-1fd6cceabfdf\">\n",
              "    <style>\n",
              "      .colab-df-generate {\n",
              "        background-color: #E8F0FE;\n",
              "        border: none;\n",
              "        border-radius: 50%;\n",
              "        cursor: pointer;\n",
              "        display: none;\n",
              "        fill: #1967D2;\n",
              "        height: 32px;\n",
              "        padding: 0 0 0 0;\n",
              "        width: 32px;\n",
              "      }\n",
              "\n",
              "      .colab-df-generate:hover {\n",
              "        background-color: #E2EBFA;\n",
              "        box-shadow: 0px 1px 2px rgba(60, 64, 67, 0.3), 0px 1px 3px 1px rgba(60, 64, 67, 0.15);\n",
              "        fill: #174EA6;\n",
              "      }\n",
              "\n",
              "      [theme=dark] .colab-df-generate {\n",
              "        background-color: #3B4455;\n",
              "        fill: #D2E3FC;\n",
              "      }\n",
              "\n",
              "      [theme=dark] .colab-df-generate:hover {\n",
              "        background-color: #434B5C;\n",
              "        box-shadow: 0px 1px 3px 1px rgba(0, 0, 0, 0.15);\n",
              "        filter: drop-shadow(0px 1px 2px rgba(0, 0, 0, 0.3));\n",
              "        fill: #FFFFFF;\n",
              "      }\n",
              "    </style>\n",
              "    <button class=\"colab-df-generate\" onclick=\"generateWithVariable('ads_data')\"\n",
              "            title=\"Generate code using this dataframe.\"\n",
              "            style=\"display:none;\">\n",
              "\n",
              "  <svg xmlns=\"http://www.w3.org/2000/svg\" height=\"24px\"viewBox=\"0 0 24 24\"\n",
              "       width=\"24px\">\n",
              "    <path d=\"M7,19H8.4L18.45,9,17,7.55,7,17.6ZM5,21V16.75L18.45,3.32a2,2,0,0,1,2.83,0l1.4,1.43a1.91,1.91,0,0,1,.58,1.4,1.91,1.91,0,0,1-.58,1.4L9.25,21ZM18.45,9,17,7.55Zm-12,3A5.31,5.31,0,0,0,4.9,8.1,5.31,5.31,0,0,0,1,6.5,5.31,5.31,0,0,0,4.9,4.9,5.31,5.31,0,0,0,6.5,1,5.31,5.31,0,0,0,8.1,4.9,5.31,5.31,0,0,0,12,6.5,5.46,5.46,0,0,0,6.5,12Z\"/>\n",
              "  </svg>\n",
              "    </button>\n",
              "    <script>\n",
              "      (() => {\n",
              "      const buttonEl =\n",
              "        document.querySelector('#id_307de552-f648-4ef3-8c12-1fd6cceabfdf button.colab-df-generate');\n",
              "      buttonEl.style.display =\n",
              "        google.colab.kernel.accessAllowed ? 'block' : 'none';\n",
              "\n",
              "      buttonEl.onclick = () => {\n",
              "        google.colab.notebook.generateWithVariable('ads_data');\n",
              "      }\n",
              "      })();\n",
              "    </script>\n",
              "  </div>\n",
              "\n",
              "    </div>\n",
              "  </div>\n"
            ],
            "application/vnd.google.colaboratory.intrinsic+json": {
              "type": "dataframe",
              "variable_name": "ads_data"
            }
          },
          "metadata": {},
          "execution_count": 3
        }
      ],
      "source": [
        "# read data (change the path)\n",
        "# ads_data = pd.read_csv('/content/drive/MyDrive/rocketfuel_data.csv')\n",
        "ads_data = pd.read_csv('/content/rocketfuel_data.csv')\n",
        "ads_data\n"
      ]
    },
    {
      "cell_type": "markdown",
      "id": "k-wfHf4w9OEt",
      "metadata": {
        "id": "k-wfHf4w9OEt"
      },
      "source": [
        "**Shunto Note: There are like 3 rows with NaN. No point needs to be deducted if they are not removed, but it may create some differences in answers, like in Q4.**"
      ]
    },
    {
      "cell_type": "code",
      "source": [
        "ads_data.dropna(inplace=True)"
      ],
      "metadata": {
        "id": "RT78l0jRCfMu"
      },
      "id": "RT78l0jRCfMu",
      "execution_count": 4,
      "outputs": []
    },
    {
      "cell_type": "code",
      "source": [
        "ads_data.info()"
      ],
      "metadata": {
        "colab": {
          "base_uri": "https://localhost:8080/"
        },
        "id": "kgKTAE-mCnYS",
        "outputId": "8d1086d1-06e2-48fd-aa65-7ad502ecca24"
      },
      "id": "kgKTAE-mCnYS",
      "execution_count": 5,
      "outputs": [
        {
          "output_type": "stream",
          "name": "stdout",
          "text": [
            "<class 'pandas.core.frame.DataFrame'>\n",
            "RangeIndex: 588111 entries, 0 to 588110\n",
            "Data columns (total 6 columns):\n",
            " #   Column          Non-Null Count   Dtype\n",
            "---  ------          --------------   -----\n",
            " 0   user_id         588111 non-null  int64\n",
            " 1   test            588111 non-null  int64\n",
            " 2   converted       588111 non-null  int64\n",
            " 3   tot_impr        588111 non-null  int64\n",
            " 4   mode_impr_day   588111 non-null  int64\n",
            " 5   mode_impr_hour  588111 non-null  int64\n",
            "dtypes: int64(6)\n",
            "memory usage: 26.9 MB\n"
          ]
        }
      ]
    },
    {
      "cell_type": "markdown",
      "id": "c76529a2",
      "metadata": {
        "id": "c76529a2"
      },
      "source": [
        "### 1. ATE and statistical significance.\n",
        "#### 1.a What is the $\\widehat{ATE}$ of the ads on purchases (conversions)? What does the number mean in words?\n"
      ]
    },
    {
      "cell_type": "code",
      "source": [
        "ads_data['test'].astype(float)\n",
        "ads_data['converted'].astype(float)"
      ],
      "metadata": {
        "colab": {
          "base_uri": "https://localhost:8080/",
          "height": 458
        },
        "id": "KdMPoHMRFNyH",
        "outputId": "073e4ecb-50a3-4f81-bbb1-d5dcccf233f6"
      },
      "id": "KdMPoHMRFNyH",
      "execution_count": 6,
      "outputs": [
        {
          "output_type": "execute_result",
          "data": {
            "text/plain": [
              "0         0.0\n",
              "1         0.0\n",
              "2         0.0\n",
              "3         0.0\n",
              "4         0.0\n",
              "         ... \n",
              "588106    0.0\n",
              "588107    0.0\n",
              "588108    0.0\n",
              "588109    0.0\n",
              "588110    0.0\n",
              "Name: converted, Length: 588111, dtype: float64"
            ],
            "text/html": [
              "<div>\n",
              "<style scoped>\n",
              "    .dataframe tbody tr th:only-of-type {\n",
              "        vertical-align: middle;\n",
              "    }\n",
              "\n",
              "    .dataframe tbody tr th {\n",
              "        vertical-align: top;\n",
              "    }\n",
              "\n",
              "    .dataframe thead th {\n",
              "        text-align: right;\n",
              "    }\n",
              "</style>\n",
              "<table border=\"1\" class=\"dataframe\">\n",
              "  <thead>\n",
              "    <tr style=\"text-align: right;\">\n",
              "      <th></th>\n",
              "      <th>converted</th>\n",
              "    </tr>\n",
              "  </thead>\n",
              "  <tbody>\n",
              "    <tr>\n",
              "      <th>0</th>\n",
              "      <td>0.0</td>\n",
              "    </tr>\n",
              "    <tr>\n",
              "      <th>1</th>\n",
              "      <td>0.0</td>\n",
              "    </tr>\n",
              "    <tr>\n",
              "      <th>2</th>\n",
              "      <td>0.0</td>\n",
              "    </tr>\n",
              "    <tr>\n",
              "      <th>3</th>\n",
              "      <td>0.0</td>\n",
              "    </tr>\n",
              "    <tr>\n",
              "      <th>4</th>\n",
              "      <td>0.0</td>\n",
              "    </tr>\n",
              "    <tr>\n",
              "      <th>...</th>\n",
              "      <td>...</td>\n",
              "    </tr>\n",
              "    <tr>\n",
              "      <th>588106</th>\n",
              "      <td>0.0</td>\n",
              "    </tr>\n",
              "    <tr>\n",
              "      <th>588107</th>\n",
              "      <td>0.0</td>\n",
              "    </tr>\n",
              "    <tr>\n",
              "      <th>588108</th>\n",
              "      <td>0.0</td>\n",
              "    </tr>\n",
              "    <tr>\n",
              "      <th>588109</th>\n",
              "      <td>0.0</td>\n",
              "    </tr>\n",
              "    <tr>\n",
              "      <th>588110</th>\n",
              "      <td>0.0</td>\n",
              "    </tr>\n",
              "  </tbody>\n",
              "</table>\n",
              "<p>588111 rows × 1 columns</p>\n",
              "</div><br><label><b>dtype:</b> float64</label>"
            ]
          },
          "metadata": {},
          "execution_count": 6
        }
      ]
    },
    {
      "cell_type": "code",
      "execution_count": 7,
      "id": "4013dd2f",
      "metadata": {
        "id": "4013dd2f",
        "colab": {
          "base_uri": "https://localhost:8080/"
        },
        "outputId": "d1d8ac9c-f25f-4157-e0d8-433007a23511"
      },
      "outputs": [
        {
          "output_type": "stream",
          "name": "stdout",
          "text": [
            "0.007692804899280245\n"
          ]
        }
      ],
      "source": [
        "# your code here\n",
        "\n",
        "a = ads_data[ads_data['test']== 1]['converted'].mean()\n",
        "b = ads_data[ads_data['test']== 0]['converted'].mean()\n",
        "\n",
        "ATE = a-b\n",
        "print(ATE)\n"
      ]
    },
    {
      "cell_type": "markdown",
      "id": "o0EAJWhr9SdB",
      "metadata": {
        "id": "o0EAJWhr9SdB"
      },
      "source": [
        "The advertising campaign increases the conversion rate by about 0.77 percentage points, which means that compared with those not exposed to the advertisement, users with advertisements are 0.77% more likely to convert."
      ]
    },
    {
      "cell_type": "markdown",
      "id": "56167f1a",
      "metadata": {
        "id": "56167f1a"
      },
      "source": [
        "#### 1.b Did the campaign cause more purchases? Is this difference statistically significant?\n",
        "Hint: Use the pg.ttest function."
      ]
    },
    {
      "cell_type": "code",
      "source": [
        "ads_data.head()"
      ],
      "metadata": {
        "colab": {
          "base_uri": "https://localhost:8080/",
          "height": 206
        },
        "id": "qU5Oac5NQPr2",
        "outputId": "b7691a66-a287-4e73-e366-0ef245501587"
      },
      "id": "qU5Oac5NQPr2",
      "execution_count": 8,
      "outputs": [
        {
          "output_type": "execute_result",
          "data": {
            "text/plain": [
              "   user_id  test  converted  tot_impr  mode_impr_day  mode_impr_hour\n",
              "0  1069124     1          0       130              1              20\n",
              "1  1119715     1          0        93              2              22\n",
              "2  1144181     1          0        21              2              18\n",
              "3  1435133     1          0       355              2              10\n",
              "4  1015700     1          0       276              5              14"
            ],
            "text/html": [
              "\n",
              "  <div id=\"df-8e3eae82-af1c-4af9-9209-a9f638cc2e1a\" class=\"colab-df-container\">\n",
              "    <div>\n",
              "<style scoped>\n",
              "    .dataframe tbody tr th:only-of-type {\n",
              "        vertical-align: middle;\n",
              "    }\n",
              "\n",
              "    .dataframe tbody tr th {\n",
              "        vertical-align: top;\n",
              "    }\n",
              "\n",
              "    .dataframe thead th {\n",
              "        text-align: right;\n",
              "    }\n",
              "</style>\n",
              "<table border=\"1\" class=\"dataframe\">\n",
              "  <thead>\n",
              "    <tr style=\"text-align: right;\">\n",
              "      <th></th>\n",
              "      <th>user_id</th>\n",
              "      <th>test</th>\n",
              "      <th>converted</th>\n",
              "      <th>tot_impr</th>\n",
              "      <th>mode_impr_day</th>\n",
              "      <th>mode_impr_hour</th>\n",
              "    </tr>\n",
              "  </thead>\n",
              "  <tbody>\n",
              "    <tr>\n",
              "      <th>0</th>\n",
              "      <td>1069124</td>\n",
              "      <td>1</td>\n",
              "      <td>0</td>\n",
              "      <td>130</td>\n",
              "      <td>1</td>\n",
              "      <td>20</td>\n",
              "    </tr>\n",
              "    <tr>\n",
              "      <th>1</th>\n",
              "      <td>1119715</td>\n",
              "      <td>1</td>\n",
              "      <td>0</td>\n",
              "      <td>93</td>\n",
              "      <td>2</td>\n",
              "      <td>22</td>\n",
              "    </tr>\n",
              "    <tr>\n",
              "      <th>2</th>\n",
              "      <td>1144181</td>\n",
              "      <td>1</td>\n",
              "      <td>0</td>\n",
              "      <td>21</td>\n",
              "      <td>2</td>\n",
              "      <td>18</td>\n",
              "    </tr>\n",
              "    <tr>\n",
              "      <th>3</th>\n",
              "      <td>1435133</td>\n",
              "      <td>1</td>\n",
              "      <td>0</td>\n",
              "      <td>355</td>\n",
              "      <td>2</td>\n",
              "      <td>10</td>\n",
              "    </tr>\n",
              "    <tr>\n",
              "      <th>4</th>\n",
              "      <td>1015700</td>\n",
              "      <td>1</td>\n",
              "      <td>0</td>\n",
              "      <td>276</td>\n",
              "      <td>5</td>\n",
              "      <td>14</td>\n",
              "    </tr>\n",
              "  </tbody>\n",
              "</table>\n",
              "</div>\n",
              "    <div class=\"colab-df-buttons\">\n",
              "\n",
              "  <div class=\"colab-df-container\">\n",
              "    <button class=\"colab-df-convert\" onclick=\"convertToInteractive('df-8e3eae82-af1c-4af9-9209-a9f638cc2e1a')\"\n",
              "            title=\"Convert this dataframe to an interactive table.\"\n",
              "            style=\"display:none;\">\n",
              "\n",
              "  <svg xmlns=\"http://www.w3.org/2000/svg\" height=\"24px\" viewBox=\"0 -960 960 960\">\n",
              "    <path d=\"M120-120v-720h720v720H120Zm60-500h600v-160H180v160Zm220 220h160v-160H400v160Zm0 220h160v-160H400v160ZM180-400h160v-160H180v160Zm440 0h160v-160H620v160ZM180-180h160v-160H180v160Zm440 0h160v-160H620v160Z\"/>\n",
              "  </svg>\n",
              "    </button>\n",
              "\n",
              "  <style>\n",
              "    .colab-df-container {\n",
              "      display:flex;\n",
              "      gap: 12px;\n",
              "    }\n",
              "\n",
              "    .colab-df-convert {\n",
              "      background-color: #E8F0FE;\n",
              "      border: none;\n",
              "      border-radius: 50%;\n",
              "      cursor: pointer;\n",
              "      display: none;\n",
              "      fill: #1967D2;\n",
              "      height: 32px;\n",
              "      padding: 0 0 0 0;\n",
              "      width: 32px;\n",
              "    }\n",
              "\n",
              "    .colab-df-convert:hover {\n",
              "      background-color: #E2EBFA;\n",
              "      box-shadow: 0px 1px 2px rgba(60, 64, 67, 0.3), 0px 1px 3px 1px rgba(60, 64, 67, 0.15);\n",
              "      fill: #174EA6;\n",
              "    }\n",
              "\n",
              "    .colab-df-buttons div {\n",
              "      margin-bottom: 4px;\n",
              "    }\n",
              "\n",
              "    [theme=dark] .colab-df-convert {\n",
              "      background-color: #3B4455;\n",
              "      fill: #D2E3FC;\n",
              "    }\n",
              "\n",
              "    [theme=dark] .colab-df-convert:hover {\n",
              "      background-color: #434B5C;\n",
              "      box-shadow: 0px 1px 3px 1px rgba(0, 0, 0, 0.15);\n",
              "      filter: drop-shadow(0px 1px 2px rgba(0, 0, 0, 0.3));\n",
              "      fill: #FFFFFF;\n",
              "    }\n",
              "  </style>\n",
              "\n",
              "    <script>\n",
              "      const buttonEl =\n",
              "        document.querySelector('#df-8e3eae82-af1c-4af9-9209-a9f638cc2e1a button.colab-df-convert');\n",
              "      buttonEl.style.display =\n",
              "        google.colab.kernel.accessAllowed ? 'block' : 'none';\n",
              "\n",
              "      async function convertToInteractive(key) {\n",
              "        const element = document.querySelector('#df-8e3eae82-af1c-4af9-9209-a9f638cc2e1a');\n",
              "        const dataTable =\n",
              "          await google.colab.kernel.invokeFunction('convertToInteractive',\n",
              "                                                    [key], {});\n",
              "        if (!dataTable) return;\n",
              "\n",
              "        const docLinkHtml = 'Like what you see? Visit the ' +\n",
              "          '<a target=\"_blank\" href=https://colab.research.google.com/notebooks/data_table.ipynb>data table notebook</a>'\n",
              "          + ' to learn more about interactive tables.';\n",
              "        element.innerHTML = '';\n",
              "        dataTable['output_type'] = 'display_data';\n",
              "        await google.colab.output.renderOutput(dataTable, element);\n",
              "        const docLink = document.createElement('div');\n",
              "        docLink.innerHTML = docLinkHtml;\n",
              "        element.appendChild(docLink);\n",
              "      }\n",
              "    </script>\n",
              "  </div>\n",
              "\n",
              "\n",
              "<div id=\"df-101f66ef-143a-44e9-b8bb-a5c5343aad99\">\n",
              "  <button class=\"colab-df-quickchart\" onclick=\"quickchart('df-101f66ef-143a-44e9-b8bb-a5c5343aad99')\"\n",
              "            title=\"Suggest charts\"\n",
              "            style=\"display:none;\">\n",
              "\n",
              "<svg xmlns=\"http://www.w3.org/2000/svg\" height=\"24px\"viewBox=\"0 0 24 24\"\n",
              "     width=\"24px\">\n",
              "    <g>\n",
              "        <path d=\"M19 3H5c-1.1 0-2 .9-2 2v14c0 1.1.9 2 2 2h14c1.1 0 2-.9 2-2V5c0-1.1-.9-2-2-2zM9 17H7v-7h2v7zm4 0h-2V7h2v10zm4 0h-2v-4h2v4z\"/>\n",
              "    </g>\n",
              "</svg>\n",
              "  </button>\n",
              "\n",
              "<style>\n",
              "  .colab-df-quickchart {\n",
              "      --bg-color: #E8F0FE;\n",
              "      --fill-color: #1967D2;\n",
              "      --hover-bg-color: #E2EBFA;\n",
              "      --hover-fill-color: #174EA6;\n",
              "      --disabled-fill-color: #AAA;\n",
              "      --disabled-bg-color: #DDD;\n",
              "  }\n",
              "\n",
              "  [theme=dark] .colab-df-quickchart {\n",
              "      --bg-color: #3B4455;\n",
              "      --fill-color: #D2E3FC;\n",
              "      --hover-bg-color: #434B5C;\n",
              "      --hover-fill-color: #FFFFFF;\n",
              "      --disabled-bg-color: #3B4455;\n",
              "      --disabled-fill-color: #666;\n",
              "  }\n",
              "\n",
              "  .colab-df-quickchart {\n",
              "    background-color: var(--bg-color);\n",
              "    border: none;\n",
              "    border-radius: 50%;\n",
              "    cursor: pointer;\n",
              "    display: none;\n",
              "    fill: var(--fill-color);\n",
              "    height: 32px;\n",
              "    padding: 0;\n",
              "    width: 32px;\n",
              "  }\n",
              "\n",
              "  .colab-df-quickchart:hover {\n",
              "    background-color: var(--hover-bg-color);\n",
              "    box-shadow: 0 1px 2px rgba(60, 64, 67, 0.3), 0 1px 3px 1px rgba(60, 64, 67, 0.15);\n",
              "    fill: var(--button-hover-fill-color);\n",
              "  }\n",
              "\n",
              "  .colab-df-quickchart-complete:disabled,\n",
              "  .colab-df-quickchart-complete:disabled:hover {\n",
              "    background-color: var(--disabled-bg-color);\n",
              "    fill: var(--disabled-fill-color);\n",
              "    box-shadow: none;\n",
              "  }\n",
              "\n",
              "  .colab-df-spinner {\n",
              "    border: 2px solid var(--fill-color);\n",
              "    border-color: transparent;\n",
              "    border-bottom-color: var(--fill-color);\n",
              "    animation:\n",
              "      spin 1s steps(1) infinite;\n",
              "  }\n",
              "\n",
              "  @keyframes spin {\n",
              "    0% {\n",
              "      border-color: transparent;\n",
              "      border-bottom-color: var(--fill-color);\n",
              "      border-left-color: var(--fill-color);\n",
              "    }\n",
              "    20% {\n",
              "      border-color: transparent;\n",
              "      border-left-color: var(--fill-color);\n",
              "      border-top-color: var(--fill-color);\n",
              "    }\n",
              "    30% {\n",
              "      border-color: transparent;\n",
              "      border-left-color: var(--fill-color);\n",
              "      border-top-color: var(--fill-color);\n",
              "      border-right-color: var(--fill-color);\n",
              "    }\n",
              "    40% {\n",
              "      border-color: transparent;\n",
              "      border-right-color: var(--fill-color);\n",
              "      border-top-color: var(--fill-color);\n",
              "    }\n",
              "    60% {\n",
              "      border-color: transparent;\n",
              "      border-right-color: var(--fill-color);\n",
              "    }\n",
              "    80% {\n",
              "      border-color: transparent;\n",
              "      border-right-color: var(--fill-color);\n",
              "      border-bottom-color: var(--fill-color);\n",
              "    }\n",
              "    90% {\n",
              "      border-color: transparent;\n",
              "      border-bottom-color: var(--fill-color);\n",
              "    }\n",
              "  }\n",
              "</style>\n",
              "\n",
              "  <script>\n",
              "    async function quickchart(key) {\n",
              "      const quickchartButtonEl =\n",
              "        document.querySelector('#' + key + ' button');\n",
              "      quickchartButtonEl.disabled = true;  // To prevent multiple clicks.\n",
              "      quickchartButtonEl.classList.add('colab-df-spinner');\n",
              "      try {\n",
              "        const charts = await google.colab.kernel.invokeFunction(\n",
              "            'suggestCharts', [key], {});\n",
              "      } catch (error) {\n",
              "        console.error('Error during call to suggestCharts:', error);\n",
              "      }\n",
              "      quickchartButtonEl.classList.remove('colab-df-spinner');\n",
              "      quickchartButtonEl.classList.add('colab-df-quickchart-complete');\n",
              "    }\n",
              "    (() => {\n",
              "      let quickchartButtonEl =\n",
              "        document.querySelector('#df-101f66ef-143a-44e9-b8bb-a5c5343aad99 button');\n",
              "      quickchartButtonEl.style.display =\n",
              "        google.colab.kernel.accessAllowed ? 'block' : 'none';\n",
              "    })();\n",
              "  </script>\n",
              "</div>\n",
              "\n",
              "    </div>\n",
              "  </div>\n"
            ],
            "application/vnd.google.colaboratory.intrinsic+json": {
              "type": "dataframe",
              "variable_name": "ads_data"
            }
          },
          "metadata": {},
          "execution_count": 8
        }
      ]
    },
    {
      "cell_type": "code",
      "execution_count": 9,
      "id": "dd2e05b5",
      "metadata": {
        "id": "dd2e05b5",
        "colab": {
          "base_uri": "https://localhost:8080/"
        },
        "outputId": "cb88c00d-f571-4e98-f047-5deafc6d395d"
      },
      "outputs": [
        {
          "output_type": "stream",
          "name": "stdout",
          "text": [
            "              T           dof alternative         p-val                 CI95%  \\\n",
            "T-test  8.65791  26385.467637   two-sided  5.074303e-18  [0.005951, 0.009434]   \n",
            "\n",
            "         cohen-d       BF10  power  \n",
            "T-test  0.049048  1.409e+14    1.0  \n",
            "t-statistic(t):8.657910061879496\n",
            "p-value(p):5.0743031646645544e-18\n",
            "Do we reject H0? True\n",
            "Confident Interval: 0.005951, 0.009434\n"
          ]
        }
      ],
      "source": [
        "import pingouin as pg\n",
        "t_test = pg.ttest(ads_data[ads_data['test']== 1]['converted'],ads_data[ads_data['test']== 0]['converted'], paired = False, alternative = 'two-sided')\n",
        "print(t_test)\n",
        "\n",
        "alpha = 0.05\n",
        "tstat = t_test.iloc[0]['T']\n",
        "pvalue = t_test.iloc[0]['p-val']\n",
        "reject = pvalue < alpha\n",
        "ci= t_test.iloc[0]['CI95%']\n",
        "CI_lower = ci[0]\n",
        "CI_upper = ci[1]\n",
        "\n",
        "print(f't-statistic(t):{tstat}')\n",
        "print(f'p-value(p):{pvalue}')\n",
        "print(f'Do we reject H0? {reject}')\n",
        "print(f'Confident Interval: {CI_lower}, {CI_upper}')"
      ]
    },
    {
      "cell_type": "markdown",
      "source": [
        "Yes, based on the result of the function, we can see pvalue is very small, which means that if there is no effect, the probability for us to observe the current outcome is extremely small, in other words, the advertisement has effect. What's more, the 95% confidence interval for the difference in conversion rates is [0.005951, 0.009434], which does not include 0. This further supports the conclusion that the advertisement positively impacted purchases."
      ],
      "metadata": {
        "id": "d-OoP04yUrg9"
      },
      "id": "d-OoP04yUrg9"
    },
    {
      "cell_type": "markdown",
      "id": "b124a7de",
      "metadata": {
        "id": "b124a7de"
      },
      "source": [
        "### 2. Was the campaign profitable?\n",
        "#### 2.a How much more profit did TaskaBella make **per person** by showing ads (excluding advertising costs)?\n",
        "Hint: the profit per conversion is given on page 2 of the case."
      ]
    },
    {
      "cell_type": "code",
      "source": [
        "ads_data"
      ],
      "metadata": {
        "colab": {
          "base_uri": "https://localhost:8080/",
          "height": 424
        },
        "id": "0vX7S_dxWUdL",
        "outputId": "f740123c-af1c-4b44-ba2c-658cad64fd47"
      },
      "id": "0vX7S_dxWUdL",
      "execution_count": 10,
      "outputs": [
        {
          "output_type": "execute_result",
          "data": {
            "text/plain": [
              "        user_id  test  converted  tot_impr  mode_impr_day  mode_impr_hour\n",
              "0       1069124     1          0       130              1              20\n",
              "1       1119715     1          0        93              2              22\n",
              "2       1144181     1          0        21              2              18\n",
              "3       1435133     1          0       355              2              10\n",
              "4       1015700     1          0       276              5              14\n",
              "...         ...   ...        ...       ...            ...             ...\n",
              "588106  1496403     1          0        24              2              19\n",
              "588107  1496404     1          0       199              6              19\n",
              "588108  1496405     1          0       211              6              15\n",
              "588109  1496406     1          0        98              5              19\n",
              "588110  1496407     1          0        19              2              19\n",
              "\n",
              "[588111 rows x 6 columns]"
            ],
            "text/html": [
              "\n",
              "  <div id=\"df-c2dbfa40-7f0e-4089-b5e6-8086bae121ce\" class=\"colab-df-container\">\n",
              "    <div>\n",
              "<style scoped>\n",
              "    .dataframe tbody tr th:only-of-type {\n",
              "        vertical-align: middle;\n",
              "    }\n",
              "\n",
              "    .dataframe tbody tr th {\n",
              "        vertical-align: top;\n",
              "    }\n",
              "\n",
              "    .dataframe thead th {\n",
              "        text-align: right;\n",
              "    }\n",
              "</style>\n",
              "<table border=\"1\" class=\"dataframe\">\n",
              "  <thead>\n",
              "    <tr style=\"text-align: right;\">\n",
              "      <th></th>\n",
              "      <th>user_id</th>\n",
              "      <th>test</th>\n",
              "      <th>converted</th>\n",
              "      <th>tot_impr</th>\n",
              "      <th>mode_impr_day</th>\n",
              "      <th>mode_impr_hour</th>\n",
              "    </tr>\n",
              "  </thead>\n",
              "  <tbody>\n",
              "    <tr>\n",
              "      <th>0</th>\n",
              "      <td>1069124</td>\n",
              "      <td>1</td>\n",
              "      <td>0</td>\n",
              "      <td>130</td>\n",
              "      <td>1</td>\n",
              "      <td>20</td>\n",
              "    </tr>\n",
              "    <tr>\n",
              "      <th>1</th>\n",
              "      <td>1119715</td>\n",
              "      <td>1</td>\n",
              "      <td>0</td>\n",
              "      <td>93</td>\n",
              "      <td>2</td>\n",
              "      <td>22</td>\n",
              "    </tr>\n",
              "    <tr>\n",
              "      <th>2</th>\n",
              "      <td>1144181</td>\n",
              "      <td>1</td>\n",
              "      <td>0</td>\n",
              "      <td>21</td>\n",
              "      <td>2</td>\n",
              "      <td>18</td>\n",
              "    </tr>\n",
              "    <tr>\n",
              "      <th>3</th>\n",
              "      <td>1435133</td>\n",
              "      <td>1</td>\n",
              "      <td>0</td>\n",
              "      <td>355</td>\n",
              "      <td>2</td>\n",
              "      <td>10</td>\n",
              "    </tr>\n",
              "    <tr>\n",
              "      <th>4</th>\n",
              "      <td>1015700</td>\n",
              "      <td>1</td>\n",
              "      <td>0</td>\n",
              "      <td>276</td>\n",
              "      <td>5</td>\n",
              "      <td>14</td>\n",
              "    </tr>\n",
              "    <tr>\n",
              "      <th>...</th>\n",
              "      <td>...</td>\n",
              "      <td>...</td>\n",
              "      <td>...</td>\n",
              "      <td>...</td>\n",
              "      <td>...</td>\n",
              "      <td>...</td>\n",
              "    </tr>\n",
              "    <tr>\n",
              "      <th>588106</th>\n",
              "      <td>1496403</td>\n",
              "      <td>1</td>\n",
              "      <td>0</td>\n",
              "      <td>24</td>\n",
              "      <td>2</td>\n",
              "      <td>19</td>\n",
              "    </tr>\n",
              "    <tr>\n",
              "      <th>588107</th>\n",
              "      <td>1496404</td>\n",
              "      <td>1</td>\n",
              "      <td>0</td>\n",
              "      <td>199</td>\n",
              "      <td>6</td>\n",
              "      <td>19</td>\n",
              "    </tr>\n",
              "    <tr>\n",
              "      <th>588108</th>\n",
              "      <td>1496405</td>\n",
              "      <td>1</td>\n",
              "      <td>0</td>\n",
              "      <td>211</td>\n",
              "      <td>6</td>\n",
              "      <td>15</td>\n",
              "    </tr>\n",
              "    <tr>\n",
              "      <th>588109</th>\n",
              "      <td>1496406</td>\n",
              "      <td>1</td>\n",
              "      <td>0</td>\n",
              "      <td>98</td>\n",
              "      <td>5</td>\n",
              "      <td>19</td>\n",
              "    </tr>\n",
              "    <tr>\n",
              "      <th>588110</th>\n",
              "      <td>1496407</td>\n",
              "      <td>1</td>\n",
              "      <td>0</td>\n",
              "      <td>19</td>\n",
              "      <td>2</td>\n",
              "      <td>19</td>\n",
              "    </tr>\n",
              "  </tbody>\n",
              "</table>\n",
              "<p>588111 rows × 6 columns</p>\n",
              "</div>\n",
              "    <div class=\"colab-df-buttons\">\n",
              "\n",
              "  <div class=\"colab-df-container\">\n",
              "    <button class=\"colab-df-convert\" onclick=\"convertToInteractive('df-c2dbfa40-7f0e-4089-b5e6-8086bae121ce')\"\n",
              "            title=\"Convert this dataframe to an interactive table.\"\n",
              "            style=\"display:none;\">\n",
              "\n",
              "  <svg xmlns=\"http://www.w3.org/2000/svg\" height=\"24px\" viewBox=\"0 -960 960 960\">\n",
              "    <path d=\"M120-120v-720h720v720H120Zm60-500h600v-160H180v160Zm220 220h160v-160H400v160Zm0 220h160v-160H400v160ZM180-400h160v-160H180v160Zm440 0h160v-160H620v160ZM180-180h160v-160H180v160Zm440 0h160v-160H620v160Z\"/>\n",
              "  </svg>\n",
              "    </button>\n",
              "\n",
              "  <style>\n",
              "    .colab-df-container {\n",
              "      display:flex;\n",
              "      gap: 12px;\n",
              "    }\n",
              "\n",
              "    .colab-df-convert {\n",
              "      background-color: #E8F0FE;\n",
              "      border: none;\n",
              "      border-radius: 50%;\n",
              "      cursor: pointer;\n",
              "      display: none;\n",
              "      fill: #1967D2;\n",
              "      height: 32px;\n",
              "      padding: 0 0 0 0;\n",
              "      width: 32px;\n",
              "    }\n",
              "\n",
              "    .colab-df-convert:hover {\n",
              "      background-color: #E2EBFA;\n",
              "      box-shadow: 0px 1px 2px rgba(60, 64, 67, 0.3), 0px 1px 3px 1px rgba(60, 64, 67, 0.15);\n",
              "      fill: #174EA6;\n",
              "    }\n",
              "\n",
              "    .colab-df-buttons div {\n",
              "      margin-bottom: 4px;\n",
              "    }\n",
              "\n",
              "    [theme=dark] .colab-df-convert {\n",
              "      background-color: #3B4455;\n",
              "      fill: #D2E3FC;\n",
              "    }\n",
              "\n",
              "    [theme=dark] .colab-df-convert:hover {\n",
              "      background-color: #434B5C;\n",
              "      box-shadow: 0px 1px 3px 1px rgba(0, 0, 0, 0.15);\n",
              "      filter: drop-shadow(0px 1px 2px rgba(0, 0, 0, 0.3));\n",
              "      fill: #FFFFFF;\n",
              "    }\n",
              "  </style>\n",
              "\n",
              "    <script>\n",
              "      const buttonEl =\n",
              "        document.querySelector('#df-c2dbfa40-7f0e-4089-b5e6-8086bae121ce button.colab-df-convert');\n",
              "      buttonEl.style.display =\n",
              "        google.colab.kernel.accessAllowed ? 'block' : 'none';\n",
              "\n",
              "      async function convertToInteractive(key) {\n",
              "        const element = document.querySelector('#df-c2dbfa40-7f0e-4089-b5e6-8086bae121ce');\n",
              "        const dataTable =\n",
              "          await google.colab.kernel.invokeFunction('convertToInteractive',\n",
              "                                                    [key], {});\n",
              "        if (!dataTable) return;\n",
              "\n",
              "        const docLinkHtml = 'Like what you see? Visit the ' +\n",
              "          '<a target=\"_blank\" href=https://colab.research.google.com/notebooks/data_table.ipynb>data table notebook</a>'\n",
              "          + ' to learn more about interactive tables.';\n",
              "        element.innerHTML = '';\n",
              "        dataTable['output_type'] = 'display_data';\n",
              "        await google.colab.output.renderOutput(dataTable, element);\n",
              "        const docLink = document.createElement('div');\n",
              "        docLink.innerHTML = docLinkHtml;\n",
              "        element.appendChild(docLink);\n",
              "      }\n",
              "    </script>\n",
              "  </div>\n",
              "\n",
              "\n",
              "<div id=\"df-cf7c34e6-2628-40e4-b732-a38e570ff935\">\n",
              "  <button class=\"colab-df-quickchart\" onclick=\"quickchart('df-cf7c34e6-2628-40e4-b732-a38e570ff935')\"\n",
              "            title=\"Suggest charts\"\n",
              "            style=\"display:none;\">\n",
              "\n",
              "<svg xmlns=\"http://www.w3.org/2000/svg\" height=\"24px\"viewBox=\"0 0 24 24\"\n",
              "     width=\"24px\">\n",
              "    <g>\n",
              "        <path d=\"M19 3H5c-1.1 0-2 .9-2 2v14c0 1.1.9 2 2 2h14c1.1 0 2-.9 2-2V5c0-1.1-.9-2-2-2zM9 17H7v-7h2v7zm4 0h-2V7h2v10zm4 0h-2v-4h2v4z\"/>\n",
              "    </g>\n",
              "</svg>\n",
              "  </button>\n",
              "\n",
              "<style>\n",
              "  .colab-df-quickchart {\n",
              "      --bg-color: #E8F0FE;\n",
              "      --fill-color: #1967D2;\n",
              "      --hover-bg-color: #E2EBFA;\n",
              "      --hover-fill-color: #174EA6;\n",
              "      --disabled-fill-color: #AAA;\n",
              "      --disabled-bg-color: #DDD;\n",
              "  }\n",
              "\n",
              "  [theme=dark] .colab-df-quickchart {\n",
              "      --bg-color: #3B4455;\n",
              "      --fill-color: #D2E3FC;\n",
              "      --hover-bg-color: #434B5C;\n",
              "      --hover-fill-color: #FFFFFF;\n",
              "      --disabled-bg-color: #3B4455;\n",
              "      --disabled-fill-color: #666;\n",
              "  }\n",
              "\n",
              "  .colab-df-quickchart {\n",
              "    background-color: var(--bg-color);\n",
              "    border: none;\n",
              "    border-radius: 50%;\n",
              "    cursor: pointer;\n",
              "    display: none;\n",
              "    fill: var(--fill-color);\n",
              "    height: 32px;\n",
              "    padding: 0;\n",
              "    width: 32px;\n",
              "  }\n",
              "\n",
              "  .colab-df-quickchart:hover {\n",
              "    background-color: var(--hover-bg-color);\n",
              "    box-shadow: 0 1px 2px rgba(60, 64, 67, 0.3), 0 1px 3px 1px rgba(60, 64, 67, 0.15);\n",
              "    fill: var(--button-hover-fill-color);\n",
              "  }\n",
              "\n",
              "  .colab-df-quickchart-complete:disabled,\n",
              "  .colab-df-quickchart-complete:disabled:hover {\n",
              "    background-color: var(--disabled-bg-color);\n",
              "    fill: var(--disabled-fill-color);\n",
              "    box-shadow: none;\n",
              "  }\n",
              "\n",
              "  .colab-df-spinner {\n",
              "    border: 2px solid var(--fill-color);\n",
              "    border-color: transparent;\n",
              "    border-bottom-color: var(--fill-color);\n",
              "    animation:\n",
              "      spin 1s steps(1) infinite;\n",
              "  }\n",
              "\n",
              "  @keyframes spin {\n",
              "    0% {\n",
              "      border-color: transparent;\n",
              "      border-bottom-color: var(--fill-color);\n",
              "      border-left-color: var(--fill-color);\n",
              "    }\n",
              "    20% {\n",
              "      border-color: transparent;\n",
              "      border-left-color: var(--fill-color);\n",
              "      border-top-color: var(--fill-color);\n",
              "    }\n",
              "    30% {\n",
              "      border-color: transparent;\n",
              "      border-left-color: var(--fill-color);\n",
              "      border-top-color: var(--fill-color);\n",
              "      border-right-color: var(--fill-color);\n",
              "    }\n",
              "    40% {\n",
              "      border-color: transparent;\n",
              "      border-right-color: var(--fill-color);\n",
              "      border-top-color: var(--fill-color);\n",
              "    }\n",
              "    60% {\n",
              "      border-color: transparent;\n",
              "      border-right-color: var(--fill-color);\n",
              "    }\n",
              "    80% {\n",
              "      border-color: transparent;\n",
              "      border-right-color: var(--fill-color);\n",
              "      border-bottom-color: var(--fill-color);\n",
              "    }\n",
              "    90% {\n",
              "      border-color: transparent;\n",
              "      border-bottom-color: var(--fill-color);\n",
              "    }\n",
              "  }\n",
              "</style>\n",
              "\n",
              "  <script>\n",
              "    async function quickchart(key) {\n",
              "      const quickchartButtonEl =\n",
              "        document.querySelector('#' + key + ' button');\n",
              "      quickchartButtonEl.disabled = true;  // To prevent multiple clicks.\n",
              "      quickchartButtonEl.classList.add('colab-df-spinner');\n",
              "      try {\n",
              "        const charts = await google.colab.kernel.invokeFunction(\n",
              "            'suggestCharts', [key], {});\n",
              "      } catch (error) {\n",
              "        console.error('Error during call to suggestCharts:', error);\n",
              "      }\n",
              "      quickchartButtonEl.classList.remove('colab-df-spinner');\n",
              "      quickchartButtonEl.classList.add('colab-df-quickchart-complete');\n",
              "    }\n",
              "    (() => {\n",
              "      let quickchartButtonEl =\n",
              "        document.querySelector('#df-cf7c34e6-2628-40e4-b732-a38e570ff935 button');\n",
              "      quickchartButtonEl.style.display =\n",
              "        google.colab.kernel.accessAllowed ? 'block' : 'none';\n",
              "    })();\n",
              "  </script>\n",
              "</div>\n",
              "\n",
              "  <div id=\"id_fdc2172f-ede7-42d6-a48d-f2f6635f794f\">\n",
              "    <style>\n",
              "      .colab-df-generate {\n",
              "        background-color: #E8F0FE;\n",
              "        border: none;\n",
              "        border-radius: 50%;\n",
              "        cursor: pointer;\n",
              "        display: none;\n",
              "        fill: #1967D2;\n",
              "        height: 32px;\n",
              "        padding: 0 0 0 0;\n",
              "        width: 32px;\n",
              "      }\n",
              "\n",
              "      .colab-df-generate:hover {\n",
              "        background-color: #E2EBFA;\n",
              "        box-shadow: 0px 1px 2px rgba(60, 64, 67, 0.3), 0px 1px 3px 1px rgba(60, 64, 67, 0.15);\n",
              "        fill: #174EA6;\n",
              "      }\n",
              "\n",
              "      [theme=dark] .colab-df-generate {\n",
              "        background-color: #3B4455;\n",
              "        fill: #D2E3FC;\n",
              "      }\n",
              "\n",
              "      [theme=dark] .colab-df-generate:hover {\n",
              "        background-color: #434B5C;\n",
              "        box-shadow: 0px 1px 3px 1px rgba(0, 0, 0, 0.15);\n",
              "        filter: drop-shadow(0px 1px 2px rgba(0, 0, 0, 0.3));\n",
              "        fill: #FFFFFF;\n",
              "      }\n",
              "    </style>\n",
              "    <button class=\"colab-df-generate\" onclick=\"generateWithVariable('ads_data')\"\n",
              "            title=\"Generate code using this dataframe.\"\n",
              "            style=\"display:none;\">\n",
              "\n",
              "  <svg xmlns=\"http://www.w3.org/2000/svg\" height=\"24px\"viewBox=\"0 0 24 24\"\n",
              "       width=\"24px\">\n",
              "    <path d=\"M7,19H8.4L18.45,9,17,7.55,7,17.6ZM5,21V16.75L18.45,3.32a2,2,0,0,1,2.83,0l1.4,1.43a1.91,1.91,0,0,1,.58,1.4,1.91,1.91,0,0,1-.58,1.4L9.25,21ZM18.45,9,17,7.55Zm-12,3A5.31,5.31,0,0,0,4.9,8.1,5.31,5.31,0,0,0,1,6.5,5.31,5.31,0,0,0,4.9,4.9,5.31,5.31,0,0,0,6.5,1,5.31,5.31,0,0,0,8.1,4.9,5.31,5.31,0,0,0,12,6.5,5.46,5.46,0,0,0,6.5,12Z\"/>\n",
              "  </svg>\n",
              "    </button>\n",
              "    <script>\n",
              "      (() => {\n",
              "      const buttonEl =\n",
              "        document.querySelector('#id_fdc2172f-ede7-42d6-a48d-f2f6635f794f button.colab-df-generate');\n",
              "      buttonEl.style.display =\n",
              "        google.colab.kernel.accessAllowed ? 'block' : 'none';\n",
              "\n",
              "      buttonEl.onclick = () => {\n",
              "        google.colab.notebook.generateWithVariable('ads_data');\n",
              "      }\n",
              "      })();\n",
              "    </script>\n",
              "  </div>\n",
              "\n",
              "    </div>\n",
              "  </div>\n"
            ],
            "application/vnd.google.colaboratory.intrinsic+json": {
              "type": "dataframe",
              "variable_name": "ads_data"
            }
          },
          "metadata": {},
          "execution_count": 10
        }
      ]
    },
    {
      "cell_type": "code",
      "source": [
        "noad_conversion = ads_data[ads_data['test']==0]['converted'].mean()\n",
        "isad_conversion = ads_data[ads_data['test']==1]['converted'].mean()\n",
        "\n",
        "conversion_diff = isad_conversion - noad_conversion\n",
        "profit_per_conversion = 40 * conversion_diff\n",
        "print(profit_per_conversion)"
      ],
      "metadata": {
        "colab": {
          "base_uri": "https://localhost:8080/"
        },
        "id": "uILfXzUXaSZ_",
        "outputId": "4afc32db-4ed1-4dca-87e3-ce2a52bf0399"
      },
      "id": "uILfXzUXaSZ_",
      "execution_count": 11,
      "outputs": [
        {
          "output_type": "stream",
          "name": "stdout",
          "text": [
            "0.3077121959712098\n"
          ]
        }
      ]
    },
    {
      "cell_type": "code",
      "source": [
        "conversion_diff = isad_conversion - noad_conversion\n",
        "conversion_diff\n"
      ],
      "metadata": {
        "id": "wE4_pNh24mWD",
        "outputId": "3085dd22-1964-4afb-b4c9-ff4ca0cb8797",
        "colab": {
          "base_uri": "https://localhost:8080/"
        }
      },
      "id": "wE4_pNh24mWD",
      "execution_count": 12,
      "outputs": [
        {
          "output_type": "execute_result",
          "data": {
            "text/plain": [
              "0.007692804899280245"
            ]
          },
          "metadata": {},
          "execution_count": 12
        }
      ]
    },
    {
      "cell_type": "code",
      "source": [
        "import pandas as pd\n",
        "import matplotlib.pyplot as plt\n",
        "\n",
        "\n",
        "day_counts = ads_data['mode_impr_day'].value_counts().sort_index()\n",
        "hour_counts = ads_data['mode_impr_hour'].value_counts().sort_index()\n",
        "\n",
        "\n",
        "plt.figure(figsize=(8, 6))\n",
        "day_counts.plot(kind='bar', color='skyblue')\n",
        "plt.title('Distribution of mode_impr_day')\n",
        "plt.xlabel('Day of the Week')\n",
        "plt.ylabel('Count')\n",
        "plt.xticks(rotation=0)\n",
        "plt.show()\n",
        "\n",
        "plt.figure(figsize=(12, 6))\n",
        "hour_counts.plot(kind='bar', color='salmon')\n",
        "plt.title('Distribution of mode_impr_hour')\n",
        "plt.xlabel('Hour of the Day')\n",
        "plt.ylabel('Count')\n",
        "plt.xticks(rotation=0)\n",
        "plt.show()\n"
      ],
      "metadata": {
        "id": "PWHmgaxtwv1W",
        "outputId": "b8ccd30b-9f56-4507-a31c-05bca00f4308",
        "colab": {
          "base_uri": "https://localhost:8080/",
          "height": 1000
        }
      },
      "id": "PWHmgaxtwv1W",
      "execution_count": 28,
      "outputs": [
        {
          "output_type": "display_data",
          "data": {
            "text/plain": [
              "<Figure size 800x600 with 1 Axes>"
            ],
            "image/png": "[encoded data removed]"
          },
          "metadata": {}
        },
        {
          "output_type": "display_data",
          "data": {
            "text/plain": [
              "<Figure size 1200x600 with 1 Axes>"
            ],
            "image/png": "[encoded data removed]"
          },
          "metadata": {}
        }
      ]
    },
    {
      "cell_type": "markdown",
      "source": [
        "TaskaBella will make more profits of $0.31 per person by showing ads."
      ],
      "metadata": {
        "id": "tUfQkFmcbcUR"
      },
      "id": "tUfQkFmcbcUR"
    },
    {
      "cell_type": "markdown",
      "id": "9656e21a",
      "metadata": {
        "id": "9656e21a"
      },
      "source": [
        "#### 2.b What was the cost of the campaign per person (including the control group)?  \n",
        "Hint: The cost per thousand impressions is $9"
      ]
    },
    {
      "cell_type": "code",
      "source": [
        "total_cost = 9 * ads_data['tot_impr'].sum()/1000\n",
        "cost_per_person = total_cost/ads_data['user_id'].count()\n",
        "print(cost_per_person)"
      ],
      "metadata": {
        "colab": {
          "base_uri": "https://localhost:8080/"
        },
        "id": "kGxc7Zlcdyco",
        "outputId": "ec013d28-a32b-4552-92ff-f1c4380009be"
      },
      "id": "kGxc7Zlcdyco",
      "execution_count": 13,
      "outputs": [
        {
          "output_type": "stream",
          "name": "stdout",
          "text": [
            "0.22340694868825783\n"
          ]
        }
      ]
    },
    {
      "cell_type": "code",
      "source": [
        "total_cost"
      ],
      "metadata": {
        "id": "ygMNhhL62smK",
        "outputId": "ec1cadaa-2bee-4b7f-c5be-4fff89a53e7f",
        "colab": {
          "base_uri": "https://localhost:8080/"
        }
      },
      "id": "ygMNhhL62smK",
      "execution_count": 14,
      "outputs": [
        {
          "output_type": "execute_result",
          "data": {
            "text/plain": [
              "131388.084"
            ]
          },
          "metadata": {},
          "execution_count": 14
        }
      ]
    },
    {
      "cell_type": "markdown",
      "source": [
        "The cost of the campaign per person is $0.22."
      ],
      "metadata": {
        "id": "CWT0bJh5eDyx"
      },
      "id": "CWT0bJh5eDyx"
    },
    {
      "cell_type": "markdown",
      "id": "8799b9c9",
      "metadata": {
        "id": "8799b9c9"
      },
      "source": [
        "#### 2.c Calculate the ROI of the campaign (including the control group). Was the campaign profitable?  \n",
        "The ROI is calculated by\n",
        "$$\\text{ROI} = \\frac{\\text{Effect on Profits per Person in Campaign} - \\text{Cost of Ads per Person in Campaign}}{\\text{Cost of Ads per Person in Campaign}}$$"
      ]
    },
    {
      "cell_type": "code",
      "execution_count": 15,
      "id": "f12ed7f7",
      "metadata": {
        "id": "f12ed7f7",
        "colab": {
          "base_uri": "https://localhost:8080/"
        },
        "outputId": "3c585dec-3b8b-4646-a120-d9a8d83953c5"
      },
      "outputs": [
        {
          "output_type": "stream",
          "name": "stdout",
          "text": [
            "0.37736179549451504\n"
          ]
        }
      ],
      "source": [
        "ROI = (profit_per_conversion - cost_per_person)/cost_per_person\n",
        "print(ROI)"
      ]
    },
    {
      "cell_type": "markdown",
      "source": [
        "Yes, the campagin is profitable with a ROI is 0.38"
      ],
      "metadata": {
        "id": "qCOi5SEQfEig"
      },
      "id": "qCOi5SEQfEig"
    },
    {
      "cell_type": "markdown",
      "id": "cd07022b",
      "metadata": {
        "id": "cd07022b"
      },
      "source": [
        "#### 2.d What was the opportunity cost of including a control group --- how much more could TaskaBella have made by not having a control group at all?\n",
        "Hint: The opportunity cost is the profits that TaskaBella missed out by having a control group."
      ]
    },
    {
      "cell_type": "code",
      "execution_count": 16,
      "id": "ed746eca",
      "metadata": {
        "id": "ed746eca",
        "colab": {
          "base_uri": "https://localhost:8080/"
        },
        "outputId": "bd4ff068-a53a-41e1-97b5-dabaa12baf50"
      },
      "outputs": [
        {
          "output_type": "stream",
          "name": "stdout",
          "text": [
            "7238.92941022271\n"
          ]
        }
      ],
      "source": [
        "test_conversion_rate = ads_data[ads_data['test']== 1]['converted'].mean()\n",
        "control_conversion_rate = ads_data[ads_data['test']== 0]['converted'].mean()\n",
        "\n",
        "conversion_lost_rate = test_conversion_rate - control_conversion_rate\n",
        "control_number = ads_data[ads_data['test']== 0]['user_id'].count()\n",
        "opportunity_cost = 40 * conversion_lost_rate * control_number\n",
        "print(opportunity_cost)"
      ]
    },
    {
      "cell_type": "markdown",
      "source": [
        "The opportunity cost of including a control group is 7238.93, which means that if all member are in the test group, TaskaBella can earn more 7238.93 dollars."
      ],
      "metadata": {
        "id": "I3GwPFomhmTM"
      },
      "id": "I3GwPFomhmTM"
    },
    {
      "cell_type": "markdown",
      "id": "f9060332",
      "metadata": {
        "id": "f9060332"
      },
      "source": [
        "### 3. Did the number of impressions seen by each user influence the effectiveness of advertising?\n",
        "\n",
        "#### 3a. Plot the conversion rate by treatment group and by the number of impressions (groups into ranges, e.g. [0, 100), [100, 500), etc) seen by users."
      ]
    },
    {
      "cell_type": "code",
      "source": [
        "bins = pd.IntervalIndex.from_tuples([(0,50), (50,100), (100, 200), (200, 300), (300, 400), (400, 500), (500, 10000)])\n",
        "ads_data_1 = ads_data[ads_data['test']==1]\n",
        "ads_data_1['test_group_impr_count'] = pd.cut(ads_data_1['tot_impr'], bins)"
      ],
      "metadata": {
        "colab": {
          "base_uri": "https://localhost:8080/"
        },
        "id": "7Ti4BIfuiZgx",
        "outputId": "447517f8-28c7-472f-ce75-fd2b061c939f"
      },
      "id": "7Ti4BIfuiZgx",
      "execution_count": 17,
      "outputs": [
        {
          "output_type": "stream",
          "name": "stderr",
          "text": [
            "<ipython-input-17-cc157f0aa831>:3: SettingWithCopyWarning: \n",
            "A value is trying to be set on a copy of a slice from a DataFrame.\n",
            "Try using .loc[row_indexer,col_indexer] = value instead\n",
            "\n",
            "See the caveats in the documentation: https://pandas.pydata.org/pandas-docs/stable/user_guide/indexing.html#returning-a-view-versus-a-copy\n",
            "  ads_data_1['test_group_impr_count'] = pd.cut(ads_data_1['tot_impr'], bins)\n"
          ]
        }
      ]
    },
    {
      "cell_type": "markdown",
      "id": "64bd5aef",
      "metadata": {
        "id": "64bd5aef"
      },
      "source": [
        "#### 3.b Based on the above figure, can we say that more impressions cause more conversions? (No more than 2 sentences)"
      ]
    },
    {
      "cell_type": "markdown",
      "source": [
        "No, while the conversion rate shows a strong correlation with impressions (more impressions suggest higher interest, then more likely to order), this does not imply causation, as other factors may influence conversions."
      ],
      "metadata": {
        "id": "PcJ3-yczm52y"
      },
      "id": "PcJ3-yczm52y"
    },
    {
      "cell_type": "markdown",
      "id": "806e769a",
      "metadata": {
        "id": "806e769a"
      },
      "source": [
        "### 4 Calculate the power of this experiment.\n",
        "\n",
        "#### 4.a Calculate Cohen's D without using `pg.ttest`. Cohen's D, in this case, is the estimated average treatment effect on conversion divided by the standard deviation of conversion."
      ]
    },
    {
      "cell_type": "code",
      "execution_count": 19,
      "id": "00bf043b",
      "metadata": {
        "id": "00bf043b",
        "colab": {
          "base_uri": "https://localhost:8080/"
        },
        "outputId": "5a6ae6ef-b337-4749-afea-81db2bbf5920"
      },
      "outputs": [
        {
          "output_type": "stream",
          "name": "stdout",
          "text": [
            "0.04904604110542456\n"
          ]
        }
      ],
      "source": [
        "cd = ATE/ads_data['converted'].std()\n",
        "print(cd)"
      ]
    },
    {
      "cell_type": "markdown",
      "source": [
        "The Cohen's D is 0.049"
      ],
      "metadata": {
        "id": "64z2CRfWpcVX"
      },
      "id": "64z2CRfWpcVX"
    },
    {
      "cell_type": "markdown",
      "id": "2340e4a0",
      "metadata": {
        "id": "2340e4a0"
      },
      "source": [
        "#### 4.b Use the `power_ttest2n` function in `pingouin` to calculate the statistical power of the experiment."
      ]
    },
    {
      "cell_type": "code",
      "source": [
        "n = pg.power_ttest(d=cd, power=.8, alpha=.05,alternative='two-sided')\n",
        "print(f'Necessary sample size: {np.ceil(n)}')"
      ],
      "metadata": {
        "colab": {
          "base_uri": "https://localhost:8080/"
        },
        "id": "GvfWcHxjtmH8",
        "outputId": "1426c0a4-b24f-42b6-d900-f2fa9548db17"
      },
      "id": "GvfWcHxjtmH8",
      "execution_count": 20,
      "outputs": [
        {
          "output_type": "stream",
          "name": "stdout",
          "text": [
            "Necessary sample size: 6527.0\n"
          ]
        }
      ]
    },
    {
      "cell_type": "code",
      "source": [
        "power = pg.power_ttest(d=cd, n=6527.0, alpha=0.05, alternative='two-sided')\n",
        "print(f'Statistic power: {np.round(power, 3)}')\n"
      ],
      "metadata": {
        "colab": {
          "base_uri": "https://localhost:8080/"
        },
        "id": "UTamxeZRuaWL",
        "outputId": "eebfa0fd-3ae0-439d-e295-598004c06e67"
      },
      "id": "UTamxeZRuaWL",
      "execution_count": 21,
      "outputs": [
        {
          "output_type": "stream",
          "name": "stdout",
          "text": [
            "Statistic power: 0.8\n"
          ]
        }
      ]
    },
    {
      "cell_type": "markdown",
      "id": "a302fe03",
      "metadata": {
        "id": "a302fe03"
      },
      "source": [
        "#### 4.c What would the power be instead if the true effect had a cohen's D of .01?"
      ]
    },
    {
      "cell_type": "code",
      "execution_count": 22,
      "id": "17ee397c",
      "metadata": {
        "id": "17ee397c",
        "colab": {
          "base_uri": "https://localhost:8080/"
        },
        "outputId": "9ffb9174-5bd4-4ce1-c618-c2699d232ac6"
      },
      "outputs": [
        {
          "output_type": "stream",
          "name": "stdout",
          "text": [
            "Statistic power with cohens d of .01: 0.088\n"
          ]
        }
      ],
      "source": [
        "power_2 = pg.power_ttest(d=.01, n=6527.0, alpha=.05, alternative = 'two-sided')\n",
        "print(f'Statistic power with cohens d of .01: {np.round(power_2,3)}')"
      ]
    },
    {
      "cell_type": "markdown",
      "id": "8d87a53d",
      "metadata": {
        "id": "8d87a53d"
      },
      "source": [
        "#### 4.d What would the power be instead if the true effect had a cohen's of .01 and the sample was equally split between treatment and control?"
      ]
    },
    {
      "cell_type": "code",
      "execution_count": 23,
      "id": "82891f94",
      "metadata": {
        "id": "82891f94",
        "colab": {
          "base_uri": "https://localhost:8080/"
        },
        "outputId": "624cf5af-0313-4d49-f559-87d8891712bd"
      },
      "outputs": [
        {
          "output_type": "stream",
          "name": "stdout",
          "text": [
            "Statistic power with sample splited: 1.0\n"
          ]
        }
      ],
      "source": [
        "power_3 = pg.power_ttest(d=.01, n=ads_data[ads_data['test']==1]['user_id'].count(), alpha=.05, alternative = 'two-sided')\n",
        "print(f'Statistic power with sample splited: {np.round(power_3,3)}')"
      ]
    },
    {
      "cell_type": "markdown",
      "id": "22951e4d",
      "metadata": {
        "id": "22951e4d"
      },
      "source": [
        "### 5. Case Discussion in Class\n",
        "Please write what you would discuss in your presentation to TaskaBella. Your answer should be one paragraph and the paragraph should be five or fewer sentences. Be prepared to discuss in class. Think about what is the most important thing to say to TaskaBella.\n",
        "No additional analysis is needed to answer this question."
      ]
    },
    {
      "cell_type": "markdown",
      "source": [
        "Overall, this advertising campaign covered around 590,000 users with 14.5 million impressions in total, which achieved an approximately 2.5% conversion rate with 15,000 users bringing the new handbags.  Specifically, the treatment group and control group were exposed to the experiment 24 times per person, but the conversion rate of the treatment group was higher, like 0.77% than the control group. The campaign incurred a total cost of 131,388, averaging 0.22 per person, and generated an ROI of $0.38 per person, reflecting a revenue growth of approximately 172.73% due to the experiment effect. Furthermore, Friday was identified as the peak day of the week, with 11 a.m. to 3 p.m. being the most effective time window of the day."
      ],
      "metadata": {
        "id": "Hv34ZDgfs0gC"
      },
      "id": "Hv34ZDgfs0gC"
    },
    {
      "cell_type": "markdown",
      "id": "7b0569e4",
      "metadata": {
        "id": "7b0569e4"
      },
      "source": [
        "### How long did this problem set take you in hours? How did you find the level of difficulty?\n"
      ]
    },
    {
      "cell_type": "markdown",
      "id": "2124b7ee",
      "metadata": {
        "id": "2124b7ee"
      },
      "source": [
        "**Basic statement:** It took me about 4 hours to done, I found it somewhat challenging because it required understanding multiple new concepts and figuring out how they could be calculated, what's more I also spend a lot of time to understand the code that professor had showed on the slides."
      ]
    },
    {
      "cell_type": "markdown",
      "source": [
        "**GenAI disclosure**: I use artificial intelligence to help understand concepts and check code errors. In the part where artificial intelligence is used in the assignment, I pasted the record of my conversation with GPT under the corresponding answer."
      ],
      "metadata": {
        "id": "twGSxUiTxwG_"
      },
      "id": "twGSxUiTxwG_"
    },
    {
      "cell_type": "code",
      "source": [
        "import matplotlib.pyplot as plt\n",
        "conversion_rate = ads_data_1.groupby('test_group_impr_count')['converted'].mean()\n",
        "conversion_rate.plot(kind='bar', color='skyblue')\n",
        "plt.title('Conversion Rate by Treatment Group')\n",
        "plt.xlabel('Impression Bins')\n",
        "plt.ylabel('Conversion Rate')\n",
        "plt.show()"
      ],
      "metadata": {
        "colab": {
          "base_uri": "https://localhost:8080/",
          "height": 604
        },
        "id": "iLv3ae24lBxs",
        "outputId": "9672efc1-123f-4441-eb37-07011e2da96c"
      },
      "id": "iLv3ae24lBxs",
      "execution_count": 18,
      "outputs": [
        {
          "output_type": "stream",
          "name": "stderr",
          "text": [
            "<ipython-input-18-6e50babe1e4d>:2: FutureWarning: The default of observed=False is deprecated and will be changed to True in a future version of pandas. Pass observed=False to retain current behavior or observed=True to adopt the future default and silence this warning.\n",
            "  conversion_rate = ads_data_1.groupby('test_group_impr_count')['converted'].mean()\n"
          ]
        },
        {
          "output_type": "display_data",
          "data": {
            "text/plain": [
              "<Figure size 640x480 with 1 Axes>"
            ],
            "image/png": "[encoded data removed]"
          },
          "metadata": {}
        }
      ]
    }
  ],
  "metadata": {
    "colab": {
      "provenance": [],
      "include_colab_link": true
    },
    "kernelspec": {
      "display_name": "Python 3",
      "language": "python",
      "name": "python3"
    },
    "language_info": {
      "codemirror_mode": {
        "name": "ipython",
        "version": 3
      },
      "file_extension": ".py",
      "mimetype": "text/x-python",
      "name": "python",
      "nbconvert_exporter": "python",
      "pygments_lexer": "ipython3",
      "version": "3.11.4"
    }
  },
  "nbformat": 4,
  "nbformat_minor": 5
}