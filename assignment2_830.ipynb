{
  "cells": [
    {
      "cell_type": "markdown",
      "metadata": {
        "id": "view-in-github",
        "colab_type": "text"
      },
      "source": [
        "<a href=\"https://colab.research.google.com/github/MANYI-anewbird/775/blob/main/assignment2_830.ipynb\" target=\"_parent\"><img src=\"https://colab.research.google.com/assets/colab-badge.svg\" alt=\"Open In Colab\"/></a>"
      ]
    },
    {
      "cell_type": "markdown",
      "id": "fddf81eb",
      "metadata": {
        "id": "fddf81eb"
      },
      "source": [
        "# Business Experimentation and Causal Methods\n",
        "\n",
        "## Assignment 2: Rocket Fuel\n",
        "\n",
        "### Due Date: 8am, February 6th, 2025\n",
        "\n",
        "Manyi Hong\n"
      ]
    },
    {
      "cell_type": "markdown",
      "id": "6dcacf10",
      "metadata": {
        "id": "6dcacf10"
      },
      "source": [
        "__Instructions:__\n",
        "\n",
        "Please read the case about RocketFuel from the HBS Case Pack.\n",
        "For the assignment you need to read the Rocketfuel case, but answer the questions in the assignment. You can ignore the questions on the HBS website\n",
        "\n",
        "\n",
        "__Important:__\n",
        "\n",
        "- Remember to write your name in the above markdown cell.\n",
        "\n",
        "- Remember to write out your answers in words, don't just output Python statistics.\n",
        "  - EX: Rather then outputting just `10000.0`, say \"TaskaBella made $10,000.00 profit from the campaign.\"\n",
        "\n",
        "- Before you submit the notebook, please make sure that the text is readable and does not spill over the right side of the screen. To prevent this from happening, make sure to write your verbal answer in the markdown blocks.\n",
        "  \n",
        "- The definitions for the columns in the data are in case! Please read them carefully.\n"
      ]
    },
    {
      "cell_type": "code",
      "execution_count": null,
      "id": "CYyWpOIfs3Ua",
      "metadata": {
        "id": "CYyWpOIfs3Ua"
      },
      "outputs": [],
      "source": [
        "%%capture\n",
        "!pip install pingouin # install the package used for statistical analyses"
      ]
    },
    {
      "cell_type": "code",
      "execution_count": 19,
      "id": "D_EyllV7g8BJ",
      "metadata": {
        "id": "D_EyllV7g8BJ"
      },
      "outputs": [],
      "source": [
        "# import modules and functions\n",
        "import numpy as np\n",
        "import pandas as pd\n",
        "import seaborn as sns\n",
        "import pingouin as pg\n",
        "pg.options['round.column.CI95%'] = 6\n",
        "#from google.colab import drive\n",
        "#drive.mount('/content/drive')"
      ]
    },
    {
      "cell_type": "code",
      "execution_count": 24,
      "id": "01c2a3ba",
      "metadata": {
        "colab": {
          "base_uri": "https://localhost:8080/",
          "height": 442
        },
        "id": "01c2a3ba",
        "outputId": "42c14956-ac3c-4458-8639-5fd0a2a33251"
      },
      "outputs": [
        {
          "output_type": "stream",
          "name": "stdout",
          "text": [
            "Warning: total number of rows (588111) exceeds max_rows (20000). Falling back to pandas display.\n"
          ]
        },
        {
          "output_type": "execute_result",
          "data": {
            "text/plain": [
              "        user_id  test  converted  tot_impr  mode_impr_day  mode_impr_hour\n",
              "0       1069124     1          0       130              1              20\n",
              "1       1119715     1          0        93              2              22\n",
              "2       1144181     1          0        21              2              18\n",
              "3       1435133     1          0       355              2              10\n",
              "4       1015700     1          0       276              5              14\n",
              "...         ...   ...        ...       ...            ...             ...\n",
              "588106  1496403     1          0        24              2              19\n",
              "588107  1496404     1          0       199              6              19\n",
              "588108  1496405     1          0       211              6              15\n",
              "588109  1496406     1          0        98              5              19\n",
              "588110  1496407     1          0        19              2              19\n",
              "\n",
              "[588111 rows x 6 columns]"
            ],
            "text/html": [
              "\n",
              "  <div id=\"df-2233d1cc-3cc0-4ff4-9685-d65e24b5b82e\" class=\"colab-df-container\">\n",
              "    <div>\n",
              "<style scoped>\n",
              "    .dataframe tbody tr th:only-of-type {\n",
              "        vertical-align: middle;\n",
              "    }\n",
              "\n",
              "    .dataframe tbody tr th {\n",
              "        vertical-align: top;\n",
              "    }\n",
              "\n",
              "    .dataframe thead th {\n",
              "        text-align: right;\n",
              "    }\n",
              "</style>\n",
              "<table border=\"1\" class=\"dataframe\">\n",
              "  <thead>\n",
              "    <tr style=\"text-align: right;\">\n",
              "      <th></th>\n",
              "      <th>user_id</th>\n",
              "      <th>test</th>\n",
              "      <th>converted</th>\n",
              "      <th>tot_impr</th>\n",
              "      <th>mode_impr_day</th>\n",
              "      <th>mode_impr_hour</th>\n",
              "    </tr>\n",
              "  </thead>\n",
              "  <tbody>\n",
              "    <tr>\n",
              "      <th>0</th>\n",
              "      <td>1069124</td>\n",
              "      <td>1</td>\n",
              "      <td>0</td>\n",
              "      <td>130</td>\n",
              "      <td>1</td>\n",
              "      <td>20</td>\n",
              "    </tr>\n",
              "    <tr>\n",
              "      <th>1</th>\n",
              "      <td>1119715</td>\n",
              "      <td>1</td>\n",
              "      <td>0</td>\n",
              "      <td>93</td>\n",
              "      <td>2</td>\n",
              "      <td>22</td>\n",
              "    </tr>\n",
              "    <tr>\n",
              "      <th>2</th>\n",
              "      <td>1144181</td>\n",
              "      <td>1</td>\n",
              "      <td>0</td>\n",
              "      <td>21</td>\n",
              "      <td>2</td>\n",
              "      <td>18</td>\n",
              "    </tr>\n",
              "    <tr>\n",
              "      <th>3</th>\n",
              "      <td>1435133</td>\n",
              "      <td>1</td>\n",
              "      <td>0</td>\n",
              "      <td>355</td>\n",
              "      <td>2</td>\n",
              "      <td>10</td>\n",
              "    </tr>\n",
              "    <tr>\n",
              "      <th>4</th>\n",
              "      <td>1015700</td>\n",
              "      <td>1</td>\n",
              "      <td>0</td>\n",
              "      <td>276</td>\n",
              "      <td>5</td>\n",
              "      <td>14</td>\n",
              "    </tr>\n",
              "    <tr>\n",
              "      <th>...</th>\n",
              "      <td>...</td>\n",
              "      <td>...</td>\n",
              "      <td>...</td>\n",
              "      <td>...</td>\n",
              "      <td>...</td>\n",
              "      <td>...</td>\n",
              "    </tr>\n",
              "    <tr>\n",
              "      <th>588106</th>\n",
              "      <td>1496403</td>\n",
              "      <td>1</td>\n",
              "      <td>0</td>\n",
              "      <td>24</td>\n",
              "      <td>2</td>\n",
              "      <td>19</td>\n",
              "    </tr>\n",
              "    <tr>\n",
              "      <th>588107</th>\n",
              "      <td>1496404</td>\n",
              "      <td>1</td>\n",
              "      <td>0</td>\n",
              "      <td>199</td>\n",
              "      <td>6</td>\n",
              "      <td>19</td>\n",
              "    </tr>\n",
              "    <tr>\n",
              "      <th>588108</th>\n",
              "      <td>1496405</td>\n",
              "      <td>1</td>\n",
              "      <td>0</td>\n",
              "      <td>211</td>\n",
              "      <td>6</td>\n",
              "      <td>15</td>\n",
              "    </tr>\n",
              "    <tr>\n",
              "      <th>588109</th>\n",
              "      <td>1496406</td>\n",
              "      <td>1</td>\n",
              "      <td>0</td>\n",
              "      <td>98</td>\n",
              "      <td>5</td>\n",
              "      <td>19</td>\n",
              "    </tr>\n",
              "    <tr>\n",
              "      <th>588110</th>\n",
              "      <td>1496407</td>\n",
              "      <td>1</td>\n",
              "      <td>0</td>\n",
              "      <td>19</td>\n",
              "      <td>2</td>\n",
              "      <td>19</td>\n",
              "    </tr>\n",
              "  </tbody>\n",
              "</table>\n",
              "<p>588111 rows × 6 columns</p>\n",
              "</div>\n",
              "    <div class=\"colab-df-buttons\">\n",
              "\n",
              "  <div class=\"colab-df-container\">\n",
              "    <button class=\"colab-df-convert\" onclick=\"convertToInteractive('df-2233d1cc-3cc0-4ff4-9685-d65e24b5b82e')\"\n",
              "            title=\"Convert this dataframe to an interactive table.\"\n",
              "            style=\"display:none;\">\n",
              "\n",
              "  <svg xmlns=\"http://www.w3.org/2000/svg\" height=\"24px\" viewBox=\"0 -960 960 960\">\n",
              "    <path d=\"M120-120v-720h720v720H120Zm60-500h600v-160H180v160Zm220 220h160v-160H400v160Zm0 220h160v-160H400v160ZM180-400h160v-160H180v160Zm440 0h160v-160H620v160ZM180-180h160v-160H180v160Zm440 0h160v-160H620v160Z\"/>\n",
              "  </svg>\n",
              "    </button>\n",
              "\n",
              "  <style>\n",
              "    .colab-df-container {\n",
              "      display:flex;\n",
              "      gap: 12px;\n",
              "    }\n",
              "\n",
              "    .colab-df-convert {\n",
              "      background-color: #E8F0FE;\n",
              "      border: none;\n",
              "      border-radius: 50%;\n",
              "      cursor: pointer;\n",
              "      display: none;\n",
              "      fill: #1967D2;\n",
              "      height: 32px;\n",
              "      padding: 0 0 0 0;\n",
              "      width: 32px;\n",
              "    }\n",
              "\n",
              "    .colab-df-convert:hover {\n",
              "      background-color: #E2EBFA;\n",
              "      box-shadow: 0px 1px 2px rgba(60, 64, 67, 0.3), 0px 1px 3px 1px rgba(60, 64, 67, 0.15);\n",
              "      fill: #174EA6;\n",
              "    }\n",
              "\n",
              "    .colab-df-buttons div {\n",
              "      margin-bottom: 4px;\n",
              "    }\n",
              "\n",
              "    [theme=dark] .colab-df-convert {\n",
              "      background-color: #3B4455;\n",
              "      fill: #D2E3FC;\n",
              "    }\n",
              "\n",
              "    [theme=dark] .colab-df-convert:hover {\n",
              "      background-color: #434B5C;\n",
              "      box-shadow: 0px 1px 3px 1px rgba(0, 0, 0, 0.15);\n",
              "      filter: drop-shadow(0px 1px 2px rgba(0, 0, 0, 0.3));\n",
              "      fill: #FFFFFF;\n",
              "    }\n",
              "  </style>\n",
              "\n",
              "    <script>\n",
              "      const buttonEl =\n",
              "        document.querySelector('#df-2233d1cc-3cc0-4ff4-9685-d65e24b5b82e button.colab-df-convert');\n",
              "      buttonEl.style.display =\n",
              "        google.colab.kernel.accessAllowed ? 'block' : 'none';\n",
              "\n",
              "      async function convertToInteractive(key) {\n",
              "        const element = document.querySelector('#df-2233d1cc-3cc0-4ff4-9685-d65e24b5b82e');\n",
              "        const dataTable =\n",
              "          await google.colab.kernel.invokeFunction('convertToInteractive',\n",
              "                                                    [key], {});\n",
              "        if (!dataTable) return;\n",
              "\n",
              "        const docLinkHtml = 'Like what you see? Visit the ' +\n",
              "          '<a target=\"_blank\" href=https://colab.research.google.com/notebooks/data_table.ipynb>data table notebook</a>'\n",
              "          + ' to learn more about interactive tables.';\n",
              "        element.innerHTML = '';\n",
              "        dataTable['output_type'] = 'display_data';\n",
              "        await google.colab.output.renderOutput(dataTable, element);\n",
              "        const docLink = document.createElement('div');\n",
              "        docLink.innerHTML = docLinkHtml;\n",
              "        element.appendChild(docLink);\n",
              "      }\n",
              "    </script>\n",
              "  </div>\n",
              "\n",
              "\n",
              "<div id=\"df-fd937be1-60b2-4ebf-9846-23deeead2846\">\n",
              "  <button class=\"colab-df-quickchart\" onclick=\"quickchart('df-fd937be1-60b2-4ebf-9846-23deeead2846')\"\n",
              "            title=\"Suggest charts\"\n",
              "            style=\"display:none;\">\n",
              "\n",
              "<svg xmlns=\"http://www.w3.org/2000/svg\" height=\"24px\"viewBox=\"0 0 24 24\"\n",
              "     width=\"24px\">\n",
              "    <g>\n",
              "        <path d=\"M19 3H5c-1.1 0-2 .9-2 2v14c0 1.1.9 2 2 2h14c1.1 0 2-.9 2-2V5c0-1.1-.9-2-2-2zM9 17H7v-7h2v7zm4 0h-2V7h2v10zm4 0h-2v-4h2v4z\"/>\n",
              "    </g>\n",
              "</svg>\n",
              "  </button>\n",
              "\n",
              "<style>\n",
              "  .colab-df-quickchart {\n",
              "      --bg-color: #E8F0FE;\n",
              "      --fill-color: #1967D2;\n",
              "      --hover-bg-color: #E2EBFA;\n",
              "      --hover-fill-color: #174EA6;\n",
              "      --disabled-fill-color: #AAA;\n",
              "      --disabled-bg-color: #DDD;\n",
              "  }\n",
              "\n",
              "  [theme=dark] .colab-df-quickchart {\n",
              "      --bg-color: #3B4455;\n",
              "      --fill-color: #D2E3FC;\n",
              "      --hover-bg-color: #434B5C;\n",
              "      --hover-fill-color: #FFFFFF;\n",
              "      --disabled-bg-color: #3B4455;\n",
              "      --disabled-fill-color: #666;\n",
              "  }\n",
              "\n",
              "  .colab-df-quickchart {\n",
              "    background-color: var(--bg-color);\n",
              "    border: none;\n",
              "    border-radius: 50%;\n",
              "    cursor: pointer;\n",
              "    display: none;\n",
              "    fill: var(--fill-color);\n",
              "    height: 32px;\n",
              "    padding: 0;\n",
              "    width: 32px;\n",
              "  }\n",
              "\n",
              "  .colab-df-quickchart:hover {\n",
              "    background-color: var(--hover-bg-color);\n",
              "    box-shadow: 0 1px 2px rgba(60, 64, 67, 0.3), 0 1px 3px 1px rgba(60, 64, 67, 0.15);\n",
              "    fill: var(--button-hover-fill-color);\n",
              "  }\n",
              "\n",
              "  .colab-df-quickchart-complete:disabled,\n",
              "  .colab-df-quickchart-complete:disabled:hover {\n",
              "    background-color: var(--disabled-bg-color);\n",
              "    fill: var(--disabled-fill-color);\n",
              "    box-shadow: none;\n",
              "  }\n",
              "\n",
              "  .colab-df-spinner {\n",
              "    border: 2px solid var(--fill-color);\n",
              "    border-color: transparent;\n",
              "    border-bottom-color: var(--fill-color);\n",
              "    animation:\n",
              "      spin 1s steps(1) infinite;\n",
              "  }\n",
              "\n",
              "  @keyframes spin {\n",
              "    0% {\n",
              "      border-color: transparent;\n",
              "      border-bottom-color: var(--fill-color);\n",
              "      border-left-color: var(--fill-color);\n",
              "    }\n",
              "    20% {\n",
              "      border-color: transparent;\n",
              "      border-left-color: var(--fill-color);\n",
              "      border-top-color: var(--fill-color);\n",
              "    }\n",
              "    30% {\n",
              "      border-color: transparent;\n",
              "      border-left-color: var(--fill-color);\n",
              "      border-top-color: var(--fill-color);\n",
              "      border-right-color: var(--fill-color);\n",
              "    }\n",
              "    40% {\n",
              "      border-color: transparent;\n",
              "      border-right-color: var(--fill-color);\n",
              "      border-top-color: var(--fill-color);\n",
              "    }\n",
              "    60% {\n",
              "      border-color: transparent;\n",
              "      border-right-color: var(--fill-color);\n",
              "    }\n",
              "    80% {\n",
              "      border-color: transparent;\n",
              "      border-right-color: var(--fill-color);\n",
              "      border-bottom-color: var(--fill-color);\n",
              "    }\n",
              "    90% {\n",
              "      border-color: transparent;\n",
              "      border-bottom-color: var(--fill-color);\n",
              "    }\n",
              "  }\n",
              "</style>\n",
              "\n",
              "  <script>\n",
              "    async function quickchart(key) {\n",
              "      const quickchartButtonEl =\n",
              "        document.querySelector('#' + key + ' button');\n",
              "      quickchartButtonEl.disabled = true;  // To prevent multiple clicks.\n",
              "      quickchartButtonEl.classList.add('colab-df-spinner');\n",
              "      try {\n",
              "        const charts = await google.colab.kernel.invokeFunction(\n",
              "            'suggestCharts', [key], {});\n",
              "      } catch (error) {\n",
              "        console.error('Error during call to suggestCharts:', error);\n",
              "      }\n",
              "      quickchartButtonEl.classList.remove('colab-df-spinner');\n",
              "      quickchartButtonEl.classList.add('colab-df-quickchart-complete');\n",
              "    }\n",
              "    (() => {\n",
              "      let quickchartButtonEl =\n",
              "        document.querySelector('#df-fd937be1-60b2-4ebf-9846-23deeead2846 button');\n",
              "      quickchartButtonEl.style.display =\n",
              "        google.colab.kernel.accessAllowed ? 'block' : 'none';\n",
              "    })();\n",
              "  </script>\n",
              "</div>\n",
              "\n",
              "  <div id=\"id_42017ab0-0d0f-4f2c-82a9-cad356df8285\">\n",
              "    <style>\n",
              "      .colab-df-generate {\n",
              "        background-color: #E8F0FE;\n",
              "        border: none;\n",
              "        border-radius: 50%;\n",
              "        cursor: pointer;\n",
              "        display: none;\n",
              "        fill: #1967D2;\n",
              "        height: 32px;\n",
              "        padding: 0 0 0 0;\n",
              "        width: 32px;\n",
              "      }\n",
              "\n",
              "      .colab-df-generate:hover {\n",
              "        background-color: #E2EBFA;\n",
              "        box-shadow: 0px 1px 2px rgba(60, 64, 67, 0.3), 0px 1px 3px 1px rgba(60, 64, 67, 0.15);\n",
              "        fill: #174EA6;\n",
              "      }\n",
              "\n",
              "      [theme=dark] .colab-df-generate {\n",
              "        background-color: #3B4455;\n",
              "        fill: #D2E3FC;\n",
              "      }\n",
              "\n",
              "      [theme=dark] .colab-df-generate:hover {\n",
              "        background-color: #434B5C;\n",
              "        box-shadow: 0px 1px 3px 1px rgba(0, 0, 0, 0.15);\n",
              "        filter: drop-shadow(0px 1px 2px rgba(0, 0, 0, 0.3));\n",
              "        fill: #FFFFFF;\n",
              "      }\n",
              "    </style>\n",
              "    <button class=\"colab-df-generate\" onclick=\"generateWithVariable('ads_data')\"\n",
              "            title=\"Generate code using this dataframe.\"\n",
              "            style=\"display:none;\">\n",
              "\n",
              "  <svg xmlns=\"http://www.w3.org/2000/svg\" height=\"24px\"viewBox=\"0 0 24 24\"\n",
              "       width=\"24px\">\n",
              "    <path d=\"M7,19H8.4L18.45,9,17,7.55,7,17.6ZM5,21V16.75L18.45,3.32a2,2,0,0,1,2.83,0l1.4,1.43a1.91,1.91,0,0,1,.58,1.4,1.91,1.91,0,0,1-.58,1.4L9.25,21ZM18.45,9,17,7.55Zm-12,3A5.31,5.31,0,0,0,4.9,8.1,5.31,5.31,0,0,0,1,6.5,5.31,5.31,0,0,0,4.9,4.9,5.31,5.31,0,0,0,6.5,1,5.31,5.31,0,0,0,8.1,4.9,5.31,5.31,0,0,0,12,6.5,5.46,5.46,0,0,0,6.5,12Z\"/>\n",
              "  </svg>\n",
              "    </button>\n",
              "    <script>\n",
              "      (() => {\n",
              "      const buttonEl =\n",
              "        document.querySelector('#id_42017ab0-0d0f-4f2c-82a9-cad356df8285 button.colab-df-generate');\n",
              "      buttonEl.style.display =\n",
              "        google.colab.kernel.accessAllowed ? 'block' : 'none';\n",
              "\n",
              "      buttonEl.onclick = () => {\n",
              "        google.colab.notebook.generateWithVariable('ads_data');\n",
              "      }\n",
              "      })();\n",
              "    </script>\n",
              "  </div>\n",
              "\n",
              "    </div>\n",
              "  </div>\n"
            ],
            "application/vnd.google.colaboratory.intrinsic+json": {
              "type": "dataframe",
              "variable_name": "ads_data"
            }
          },
          "metadata": {},
          "execution_count": 24
        }
      ],
      "source": [
        "# read data (change the path)\n",
        "# ads_data = pd.read_csv('/content/drive/MyDrive/rocketfuel_data.csv')\n",
        "ads_data = pd.read_csv('/content/rocketfuel_data.csv')\n",
        "ads_data\n"
      ]
    },
    {
      "cell_type": "markdown",
      "id": "k-wfHf4w9OEt",
      "metadata": {
        "id": "k-wfHf4w9OEt"
      },
      "source": [
        "**Shunto Note: There are like 3 rows with NaN. No point needs to be deducted if they are not removed, but it may create some differences in answers, like in Q4.**"
      ]
    },
    {
      "cell_type": "code",
      "source": [
        "ads_data.dropna(inplace=True)"
      ],
      "metadata": {
        "id": "RT78l0jRCfMu"
      },
      "id": "RT78l0jRCfMu",
      "execution_count": 25,
      "outputs": []
    },
    {
      "cell_type": "code",
      "source": [
        "ads_data.info()"
      ],
      "metadata": {
        "colab": {
          "base_uri": "https://localhost:8080/"
        },
        "id": "kgKTAE-mCnYS",
        "outputId": "8d31174b-40ae-4dcc-d41a-0593c48dd198"
      },
      "id": "kgKTAE-mCnYS",
      "execution_count": 26,
      "outputs": [
        {
          "output_type": "stream",
          "name": "stdout",
          "text": [
            "<class 'pandas.core.frame.DataFrame'>\n",
            "RangeIndex: 588111 entries, 0 to 588110\n",
            "Data columns (total 6 columns):\n",
            " #   Column          Non-Null Count   Dtype\n",
            "---  ------          --------------   -----\n",
            " 0   user_id         588111 non-null  int64\n",
            " 1   test            588111 non-null  int64\n",
            " 2   converted       588111 non-null  int64\n",
            " 3   tot_impr        588111 non-null  int64\n",
            " 4   mode_impr_day   588111 non-null  int64\n",
            " 5   mode_impr_hour  588111 non-null  int64\n",
            "dtypes: int64(6)\n",
            "memory usage: 26.9 MB\n"
          ]
        }
      ]
    },
    {
      "cell_type": "markdown",
      "id": "c76529a2",
      "metadata": {
        "id": "c76529a2"
      },
      "source": [
        "### 1. ATE and statistical significance.\n",
        "#### 1.a What is the $\\widehat{ATE}$ of the ads on purchases (conversions)? What does the number mean in words?\n"
      ]
    },
    {
      "cell_type": "code",
      "source": [
        "ads_data['test'].astype(float)\n",
        "ads_data['converted'].astype(float)"
      ],
      "metadata": {
        "colab": {
          "base_uri": "https://localhost:8080/",
          "height": 458
        },
        "id": "KdMPoHMRFNyH",
        "outputId": "10f05f7e-e908-4e80-8f2f-9402c9270e57"
      },
      "id": "KdMPoHMRFNyH",
      "execution_count": 46,
      "outputs": [
        {
          "output_type": "execute_result",
          "data": {
            "text/plain": [
              "0         0.0\n",
              "1         0.0\n",
              "2         0.0\n",
              "3         0.0\n",
              "4         0.0\n",
              "         ... \n",
              "588106    0.0\n",
              "588107    0.0\n",
              "588108    0.0\n",
              "588109    0.0\n",
              "588110    0.0\n",
              "Name: converted, Length: 588111, dtype: float64"
            ],
            "text/html": [
              "<div>\n",
              "<style scoped>\n",
              "    .dataframe tbody tr th:only-of-type {\n",
              "        vertical-align: middle;\n",
              "    }\n",
              "\n",
              "    .dataframe tbody tr th {\n",
              "        vertical-align: top;\n",
              "    }\n",
              "\n",
              "    .dataframe thead th {\n",
              "        text-align: right;\n",
              "    }\n",
              "</style>\n",
              "<table border=\"1\" class=\"dataframe\">\n",
              "  <thead>\n",
              "    <tr style=\"text-align: right;\">\n",
              "      <th></th>\n",
              "      <th>converted</th>\n",
              "    </tr>\n",
              "  </thead>\n",
              "  <tbody>\n",
              "    <tr>\n",
              "      <th>0</th>\n",
              "      <td>0.0</td>\n",
              "    </tr>\n",
              "    <tr>\n",
              "      <th>1</th>\n",
              "      <td>0.0</td>\n",
              "    </tr>\n",
              "    <tr>\n",
              "      <th>2</th>\n",
              "      <td>0.0</td>\n",
              "    </tr>\n",
              "    <tr>\n",
              "      <th>3</th>\n",
              "      <td>0.0</td>\n",
              "    </tr>\n",
              "    <tr>\n",
              "      <th>4</th>\n",
              "      <td>0.0</td>\n",
              "    </tr>\n",
              "    <tr>\n",
              "      <th>...</th>\n",
              "      <td>...</td>\n",
              "    </tr>\n",
              "    <tr>\n",
              "      <th>588106</th>\n",
              "      <td>0.0</td>\n",
              "    </tr>\n",
              "    <tr>\n",
              "      <th>588107</th>\n",
              "      <td>0.0</td>\n",
              "    </tr>\n",
              "    <tr>\n",
              "      <th>588108</th>\n",
              "      <td>0.0</td>\n",
              "    </tr>\n",
              "    <tr>\n",
              "      <th>588109</th>\n",
              "      <td>0.0</td>\n",
              "    </tr>\n",
              "    <tr>\n",
              "      <th>588110</th>\n",
              "      <td>0.0</td>\n",
              "    </tr>\n",
              "  </tbody>\n",
              "</table>\n",
              "<p>588111 rows × 1 columns</p>\n",
              "</div><br><label><b>dtype:</b> float64</label>"
            ]
          },
          "metadata": {},
          "execution_count": 46
        }
      ]
    },
    {
      "cell_type": "code",
      "execution_count": 47,
      "id": "4013dd2f",
      "metadata": {
        "id": "4013dd2f",
        "colab": {
          "base_uri": "https://localhost:8080/"
        },
        "outputId": "92eb1544-ebb1-47e2-a86f-1b227eda0ef9"
      },
      "outputs": [
        {
          "output_type": "stream",
          "name": "stdout",
          "text": [
            "0.007692804899280245\n"
          ]
        }
      ],
      "source": [
        "# your code here\n",
        "\n",
        "a = ads_data[ads_data['test']== 1]['converted'].mean()\n",
        "b = ads_data[ads_data['test']== 0]['converted'].mean()\n",
        "\n",
        "ATE = a-b\n",
        "print(ATE)\n"
      ]
    },
    {
      "cell_type": "markdown",
      "id": "o0EAJWhr9SdB",
      "metadata": {
        "id": "o0EAJWhr9SdB"
      },
      "source": [
        "The advertising campaign increases the conversion rate by about 0.77 percentage points, which means that compared with those not exposed to the advertisement, users with advertisements are 0.77% more likely to convert."
      ]
    },
    {
      "cell_type": "markdown",
      "id": "56167f1a",
      "metadata": {
        "id": "56167f1a"
      },
      "source": [
        "#### 1.b Did the campaign cause more purchases? Is this difference statistically significant?\n",
        "Hint: Use the pg.ttest function."
      ]
    },
    {
      "cell_type": "code",
      "source": [
        "ads_data.head()"
      ],
      "metadata": {
        "colab": {
          "base_uri": "https://localhost:8080/",
          "height": 229
        },
        "id": "qU5Oac5NQPr2",
        "outputId": "4cfece54-393b-4a24-a9d7-cd5c94f216b1"
      },
      "id": "qU5Oac5NQPr2",
      "execution_count": 48,
      "outputs": [
        {
          "output_type": "execute_result",
          "data": {
            "text/plain": [
              "   user_id  test  converted  tot_impr  mode_impr_day  mode_impr_hour\n",
              "0  1069124     1          0       130              1              20\n",
              "1  1119715     1          0        93              2              22\n",
              "2  1144181     1          0        21              2              18\n",
              "3  1435133     1          0       355              2              10\n",
              "4  1015700     1          0       276              5              14"
            ],
            "text/html": [
              "\n",
              "  <div id=\"df-c23c745b-272a-4502-8292-51d4bb0afbf3\" class=\"colab-df-container\">\n",
              "    <div>\n",
              "<style scoped>\n",
              "    .dataframe tbody tr th:only-of-type {\n",
              "        vertical-align: middle;\n",
              "    }\n",
              "\n",
              "    .dataframe tbody tr th {\n",
              "        vertical-align: top;\n",
              "    }\n",
              "\n",
              "    .dataframe thead th {\n",
              "        text-align: right;\n",
              "    }\n",
              "</style>\n",
              "<table border=\"1\" class=\"dataframe\">\n",
              "  <thead>\n",
              "    <tr style=\"text-align: right;\">\n",
              "      <th></th>\n",
              "      <th>user_id</th>\n",
              "      <th>test</th>\n",
              "      <th>converted</th>\n",
              "      <th>tot_impr</th>\n",
              "      <th>mode_impr_day</th>\n",
              "      <th>mode_impr_hour</th>\n",
              "    </tr>\n",
              "  </thead>\n",
              "  <tbody>\n",
              "    <tr>\n",
              "      <th>0</th>\n",
              "      <td>1069124</td>\n",
              "      <td>1</td>\n",
              "      <td>0</td>\n",
              "      <td>130</td>\n",
              "      <td>1</td>\n",
              "      <td>20</td>\n",
              "    </tr>\n",
              "    <tr>\n",
              "      <th>1</th>\n",
              "      <td>1119715</td>\n",
              "      <td>1</td>\n",
              "      <td>0</td>\n",
              "      <td>93</td>\n",
              "      <td>2</td>\n",
              "      <td>22</td>\n",
              "    </tr>\n",
              "    <tr>\n",
              "      <th>2</th>\n",
              "      <td>1144181</td>\n",
              "      <td>1</td>\n",
              "      <td>0</td>\n",
              "      <td>21</td>\n",
              "      <td>2</td>\n",
              "      <td>18</td>\n",
              "    </tr>\n",
              "    <tr>\n",
              "      <th>3</th>\n",
              "      <td>1435133</td>\n",
              "      <td>1</td>\n",
              "      <td>0</td>\n",
              "      <td>355</td>\n",
              "      <td>2</td>\n",
              "      <td>10</td>\n",
              "    </tr>\n",
              "    <tr>\n",
              "      <th>4</th>\n",
              "      <td>1015700</td>\n",
              "      <td>1</td>\n",
              "      <td>0</td>\n",
              "      <td>276</td>\n",
              "      <td>5</td>\n",
              "      <td>14</td>\n",
              "    </tr>\n",
              "  </tbody>\n",
              "</table>\n",
              "</div>\n",
              "    <div class=\"colab-df-buttons\">\n",
              "\n",
              "  <div class=\"colab-df-container\">\n",
              "    <button class=\"colab-df-convert\" onclick=\"convertToInteractive('df-c23c745b-272a-4502-8292-51d4bb0afbf3')\"\n",
              "            title=\"Convert this dataframe to an interactive table.\"\n",
              "            style=\"display:none;\">\n",
              "\n",
              "  <svg xmlns=\"http://www.w3.org/2000/svg\" height=\"24px\" viewBox=\"0 -960 960 960\">\n",
              "    <path d=\"M120-120v-720h720v720H120Zm60-500h600v-160H180v160Zm220 220h160v-160H400v160Zm0 220h160v-160H400v160ZM180-400h160v-160H180v160Zm440 0h160v-160H620v160ZM180-180h160v-160H180v160Zm440 0h160v-160H620v160Z\"/>\n",
              "  </svg>\n",
              "    </button>\n",
              "\n",
              "  <style>\n",
              "    .colab-df-container {\n",
              "      display:flex;\n",
              "      gap: 12px;\n",
              "    }\n",
              "\n",
              "    .colab-df-convert {\n",
              "      background-color: #E8F0FE;\n",
              "      border: none;\n",
              "      border-radius: 50%;\n",
              "      cursor: pointer;\n",
              "      display: none;\n",
              "      fill: #1967D2;\n",
              "      height: 32px;\n",
              "      padding: 0 0 0 0;\n",
              "      width: 32px;\n",
              "    }\n",
              "\n",
              "    .colab-df-convert:hover {\n",
              "      background-color: #E2EBFA;\n",
              "      box-shadow: 0px 1px 2px rgba(60, 64, 67, 0.3), 0px 1px 3px 1px rgba(60, 64, 67, 0.15);\n",
              "      fill: #174EA6;\n",
              "    }\n",
              "\n",
              "    .colab-df-buttons div {\n",
              "      margin-bottom: 4px;\n",
              "    }\n",
              "\n",
              "    [theme=dark] .colab-df-convert {\n",
              "      background-color: #3B4455;\n",
              "      fill: #D2E3FC;\n",
              "    }\n",
              "\n",
              "    [theme=dark] .colab-df-convert:hover {\n",
              "      background-color: #434B5C;\n",
              "      box-shadow: 0px 1px 3px 1px rgba(0, 0, 0, 0.15);\n",
              "      filter: drop-shadow(0px 1px 2px rgba(0, 0, 0, 0.3));\n",
              "      fill: #FFFFFF;\n",
              "    }\n",
              "  </style>\n",
              "\n",
              "    <script>\n",
              "      const buttonEl =\n",
              "        document.querySelector('#df-c23c745b-272a-4502-8292-51d4bb0afbf3 button.colab-df-convert');\n",
              "      buttonEl.style.display =\n",
              "        google.colab.kernel.accessAllowed ? 'block' : 'none';\n",
              "\n",
              "      async function convertToInteractive(key) {\n",
              "        const element = document.querySelector('#df-c23c745b-272a-4502-8292-51d4bb0afbf3');\n",
              "        const dataTable =\n",
              "          await google.colab.kernel.invokeFunction('convertToInteractive',\n",
              "                                                    [key], {});\n",
              "        if (!dataTable) return;\n",
              "\n",
              "        const docLinkHtml = 'Like what you see? Visit the ' +\n",
              "          '<a target=\"_blank\" href=https://colab.research.google.com/notebooks/data_table.ipynb>data table notebook</a>'\n",
              "          + ' to learn more about interactive tables.';\n",
              "        element.innerHTML = '';\n",
              "        dataTable['output_type'] = 'display_data';\n",
              "        await google.colab.output.renderOutput(dataTable, element);\n",
              "        const docLink = document.createElement('div');\n",
              "        docLink.innerHTML = docLinkHtml;\n",
              "        element.appendChild(docLink);\n",
              "      }\n",
              "    </script>\n",
              "  </div>\n",
              "\n",
              "\n",
              "<div id=\"df-fadddf53-ce1c-4c32-8ff2-4ec052828524\">\n",
              "  <button class=\"colab-df-quickchart\" onclick=\"quickchart('df-fadddf53-ce1c-4c32-8ff2-4ec052828524')\"\n",
              "            title=\"Suggest charts\"\n",
              "            style=\"display:none;\">\n",
              "\n",
              "<svg xmlns=\"http://www.w3.org/2000/svg\" height=\"24px\"viewBox=\"0 0 24 24\"\n",
              "     width=\"24px\">\n",
              "    <g>\n",
              "        <path d=\"M19 3H5c-1.1 0-2 .9-2 2v14c0 1.1.9 2 2 2h14c1.1 0 2-.9 2-2V5c0-1.1-.9-2-2-2zM9 17H7v-7h2v7zm4 0h-2V7h2v10zm4 0h-2v-4h2v4z\"/>\n",
              "    </g>\n",
              "</svg>\n",
              "  </button>\n",
              "\n",
              "<style>\n",
              "  .colab-df-quickchart {\n",
              "      --bg-color: #E8F0FE;\n",
              "      --fill-color: #1967D2;\n",
              "      --hover-bg-color: #E2EBFA;\n",
              "      --hover-fill-color: #174EA6;\n",
              "      --disabled-fill-color: #AAA;\n",
              "      --disabled-bg-color: #DDD;\n",
              "  }\n",
              "\n",
              "  [theme=dark] .colab-df-quickchart {\n",
              "      --bg-color: #3B4455;\n",
              "      --fill-color: #D2E3FC;\n",
              "      --hover-bg-color: #434B5C;\n",
              "      --hover-fill-color: #FFFFFF;\n",
              "      --disabled-bg-color: #3B4455;\n",
              "      --disabled-fill-color: #666;\n",
              "  }\n",
              "\n",
              "  .colab-df-quickchart {\n",
              "    background-color: var(--bg-color);\n",
              "    border: none;\n",
              "    border-radius: 50%;\n",
              "    cursor: pointer;\n",
              "    display: none;\n",
              "    fill: var(--fill-color);\n",
              "    height: 32px;\n",
              "    padding: 0;\n",
              "    width: 32px;\n",
              "  }\n",
              "\n",
              "  .colab-df-quickchart:hover {\n",
              "    background-color: var(--hover-bg-color);\n",
              "    box-shadow: 0 1px 2px rgba(60, 64, 67, 0.3), 0 1px 3px 1px rgba(60, 64, 67, 0.15);\n",
              "    fill: var(--button-hover-fill-color);\n",
              "  }\n",
              "\n",
              "  .colab-df-quickchart-complete:disabled,\n",
              "  .colab-df-quickchart-complete:disabled:hover {\n",
              "    background-color: var(--disabled-bg-color);\n",
              "    fill: var(--disabled-fill-color);\n",
              "    box-shadow: none;\n",
              "  }\n",
              "\n",
              "  .colab-df-spinner {\n",
              "    border: 2px solid var(--fill-color);\n",
              "    border-color: transparent;\n",
              "    border-bottom-color: var(--fill-color);\n",
              "    animation:\n",
              "      spin 1s steps(1) infinite;\n",
              "  }\n",
              "\n",
              "  @keyframes spin {\n",
              "    0% {\n",
              "      border-color: transparent;\n",
              "      border-bottom-color: var(--fill-color);\n",
              "      border-left-color: var(--fill-color);\n",
              "    }\n",
              "    20% {\n",
              "      border-color: transparent;\n",
              "      border-left-color: var(--fill-color);\n",
              "      border-top-color: var(--fill-color);\n",
              "    }\n",
              "    30% {\n",
              "      border-color: transparent;\n",
              "      border-left-color: var(--fill-color);\n",
              "      border-top-color: var(--fill-color);\n",
              "      border-right-color: var(--fill-color);\n",
              "    }\n",
              "    40% {\n",
              "      border-color: transparent;\n",
              "      border-right-color: var(--fill-color);\n",
              "      border-top-color: var(--fill-color);\n",
              "    }\n",
              "    60% {\n",
              "      border-color: transparent;\n",
              "      border-right-color: var(--fill-color);\n",
              "    }\n",
              "    80% {\n",
              "      border-color: transparent;\n",
              "      border-right-color: var(--fill-color);\n",
              "      border-bottom-color: var(--fill-color);\n",
              "    }\n",
              "    90% {\n",
              "      border-color: transparent;\n",
              "      border-bottom-color: var(--fill-color);\n",
              "    }\n",
              "  }\n",
              "</style>\n",
              "\n",
              "  <script>\n",
              "    async function quickchart(key) {\n",
              "      const quickchartButtonEl =\n",
              "        document.querySelector('#' + key + ' button');\n",
              "      quickchartButtonEl.disabled = true;  // To prevent multiple clicks.\n",
              "      quickchartButtonEl.classList.add('colab-df-spinner');\n",
              "      try {\n",
              "        const charts = await google.colab.kernel.invokeFunction(\n",
              "            'suggestCharts', [key], {});\n",
              "      } catch (error) {\n",
              "        console.error('Error during call to suggestCharts:', error);\n",
              "      }\n",
              "      quickchartButtonEl.classList.remove('colab-df-spinner');\n",
              "      quickchartButtonEl.classList.add('colab-df-quickchart-complete');\n",
              "    }\n",
              "    (() => {\n",
              "      let quickchartButtonEl =\n",
              "        document.querySelector('#df-fadddf53-ce1c-4c32-8ff2-4ec052828524 button');\n",
              "      quickchartButtonEl.style.display =\n",
              "        google.colab.kernel.accessAllowed ? 'block' : 'none';\n",
              "    })();\n",
              "  </script>\n",
              "</div>\n",
              "\n",
              "    </div>\n",
              "  </div>\n"
            ],
            "application/vnd.google.colaboratory.intrinsic+json": {
              "type": "dataframe",
              "variable_name": "ads_data"
            },
            "application/vnd.google.colaboratory.module+javascript": "\n      import \"https://ssl.gstatic.com/colaboratory/data_table/e523c247d1e24a05/data_table.js\";\n\n      const table = window.createDataTable({\n        data: [[{\n            'v': 0,\n            'f': \"0\",\n        },\n{\n            'v': 1069124,\n            'f': \"1069124\",\n        },\n{\n            'v': 1,\n            'f': \"1\",\n        },\n{\n            'v': 0,\n            'f': \"0\",\n        },\n{\n            'v': 130,\n            'f': \"130\",\n        },\n{\n            'v': 1,\n            'f': \"1\",\n        },\n{\n            'v': 20,\n            'f': \"20\",\n        }],\n [{\n            'v': 1,\n            'f': \"1\",\n        },\n{\n            'v': 1119715,\n            'f': \"1119715\",\n        },\n{\n            'v': 1,\n            'f': \"1\",\n        },\n{\n            'v': 0,\n            'f': \"0\",\n        },\n{\n            'v': 93,\n            'f': \"93\",\n        },\n{\n            'v': 2,\n            'f': \"2\",\n        },\n{\n            'v': 22,\n            'f': \"22\",\n        }],\n [{\n            'v': 2,\n            'f': \"2\",\n        },\n{\n            'v': 1144181,\n            'f': \"1144181\",\n        },\n{\n            'v': 1,\n            'f': \"1\",\n        },\n{\n            'v': 0,\n            'f': \"0\",\n        },\n{\n            'v': 21,\n            'f': \"21\",\n        },\n{\n            'v': 2,\n            'f': \"2\",\n        },\n{\n            'v': 18,\n            'f': \"18\",\n        }],\n [{\n            'v': 3,\n            'f': \"3\",\n        },\n{\n            'v': 1435133,\n            'f': \"1435133\",\n        },\n{\n            'v': 1,\n            'f': \"1\",\n        },\n{\n            'v': 0,\n            'f': \"0\",\n        },\n{\n            'v': 355,\n            'f': \"355\",\n        },\n{\n            'v': 2,\n            'f': \"2\",\n        },\n{\n            'v': 10,\n            'f': \"10\",\n        }],\n [{\n            'v': 4,\n            'f': \"4\",\n        },\n{\n            'v': 1015700,\n            'f': \"1015700\",\n        },\n{\n            'v': 1,\n            'f': \"1\",\n        },\n{\n            'v': 0,\n            'f': \"0\",\n        },\n{\n            'v': 276,\n            'f': \"276\",\n        },\n{\n            'v': 5,\n            'f': \"5\",\n        },\n{\n            'v': 14,\n            'f': \"14\",\n        }]],\n        columns: [[\"number\", \"index\"], [\"number\", \"user_id\"], [\"number\", \"test\"], [\"number\", \"converted\"], [\"number\", \"tot_impr\"], [\"number\", \"mode_impr_day\"], [\"number\", \"mode_impr_hour\"]],\n        columnOptions: [{\"width\": \"1px\", \"className\": \"index_column\"}],\n        rowsPerPage: 25,\n        helpUrl: \"https://colab.research.google.com/notebooks/data_table.ipynb\",\n        suppressOutputScrolling: true,\n        minimumWidth: undefined,\n      });\n\n      function appendQuickchartButton(parentElement) {\n        let quickchartButtonContainerElement = document.createElement('div');\n        quickchartButtonContainerElement.innerHTML = `\n<div id=\"df-47d68cd2-70a5-4418-8462-372d63bf19c8\">\n  <button class=\"colab-df-quickchart\" onclick=\"quickchart('df-47d68cd2-70a5-4418-8462-372d63bf19c8')\"\n            title=\"Suggest charts\"\n            style=\"display:none;\">\n    \n<svg xmlns=\"http://www.w3.org/2000/svg\" height=\"24px\"viewBox=\"0 0 24 24\"\n     width=\"24px\">\n    <g>\n        <path d=\"M19 3H5c-1.1 0-2 .9-2 2v14c0 1.1.9 2 2 2h14c1.1 0 2-.9 2-2V5c0-1.1-.9-2-2-2zM9 17H7v-7h2v7zm4 0h-2V7h2v10zm4 0h-2v-4h2v4z\"/>\n    </g>\n</svg>\n  </button>\n  \n<style>\n  .colab-df-quickchart {\n      --bg-color: #E8F0FE;\n      --fill-color: #1967D2;\n      --hover-bg-color: #E2EBFA;\n      --hover-fill-color: #174EA6;\n      --disabled-fill-color: #AAA;\n      --disabled-bg-color: #DDD;\n  }\n\n  [theme=dark] .colab-df-quickchart {\n      --bg-color: #3B4455;\n      --fill-color: #D2E3FC;\n      --hover-bg-color: #434B5C;\n      --hover-fill-color: #FFFFFF;\n      --disabled-bg-color: #3B4455;\n      --disabled-fill-color: #666;\n  }\n\n  .colab-df-quickchart {\n    background-color: var(--bg-color);\n    border: none;\n    border-radius: 50%;\n    cursor: pointer;\n    display: none;\n    fill: var(--fill-color);\n    height: 32px;\n    padding: 0;\n    width: 32px;\n  }\n\n  .colab-df-quickchart:hover {\n    background-color: var(--hover-bg-color);\n    box-shadow: 0 1px 2px rgba(60, 64, 67, 0.3), 0 1px 3px 1px rgba(60, 64, 67, 0.15);\n    fill: var(--button-hover-fill-color);\n  }\n\n  .colab-df-quickchart-complete:disabled,\n  .colab-df-quickchart-complete:disabled:hover {\n    background-color: var(--disabled-bg-color);\n    fill: var(--disabled-fill-color);\n    box-shadow: none;\n  }\n\n  .colab-df-spinner {\n    border: 2px solid var(--fill-color);\n    border-color: transparent;\n    border-bottom-color: var(--fill-color);\n    animation:\n      spin 1s steps(1) infinite;\n  }\n\n  @keyframes spin {\n    0% {\n      border-color: transparent;\n      border-bottom-color: var(--fill-color);\n      border-left-color: var(--fill-color);\n    }\n    20% {\n      border-color: transparent;\n      border-left-color: var(--fill-color);\n      border-top-color: var(--fill-color);\n    }\n    30% {\n      border-color: transparent;\n      border-left-color: var(--fill-color);\n      border-top-color: var(--fill-color);\n      border-right-color: var(--fill-color);\n    }\n    40% {\n      border-color: transparent;\n      border-right-color: var(--fill-color);\n      border-top-color: var(--fill-color);\n    }\n    60% {\n      border-color: transparent;\n      border-right-color: var(--fill-color);\n    }\n    80% {\n      border-color: transparent;\n      border-right-color: var(--fill-color);\n      border-bottom-color: var(--fill-color);\n    }\n    90% {\n      border-color: transparent;\n      border-bottom-color: var(--fill-color);\n    }\n  }\n</style>\n\n  <script>\n    async function quickchart(key) {\n      const quickchartButtonEl =\n        document.querySelector('#' + key + ' button');\n      quickchartButtonEl.disabled = true;  // To prevent multiple clicks.\n      quickchartButtonEl.classList.add('colab-df-spinner');\n      try {\n        const charts = await google.colab.kernel.invokeFunction(\n            'suggestCharts', [key], {});\n      } catch (error) {\n        console.error('Error during call to suggestCharts:', error);\n      }\n      quickchartButtonEl.classList.remove('colab-df-spinner');\n      quickchartButtonEl.classList.add('colab-df-quickchart-complete');\n    }\n    (() => {\n      let quickchartButtonEl =\n        document.querySelector('#df-47d68cd2-70a5-4418-8462-372d63bf19c8 button');\n      quickchartButtonEl.style.display =\n        google.colab.kernel.accessAllowed ? 'block' : 'none';\n    })();\n  </script>\n</div>`;\n        parentElement.appendChild(quickchartButtonContainerElement);\n      }\n\n      appendQuickchartButton(table);\n    "
          },
          "metadata": {},
          "execution_count": 48
        }
      ]
    },
    {
      "cell_type": "code",
      "execution_count": 56,
      "id": "dd2e05b5",
      "metadata": {
        "id": "dd2e05b5",
        "colab": {
          "base_uri": "https://localhost:8080/"
        },
        "outputId": "1ac3e773-a88a-402b-9c4b-7559bf360516"
      },
      "outputs": [
        {
          "output_type": "stream",
          "name": "stdout",
          "text": [
            "              T           dof alternative         p-val                 CI95%  \\\n",
            "T-test  8.65791  26385.467637   two-sided  5.074303e-18  [0.005951, 0.009434]   \n",
            "\n",
            "         cohen-d       BF10  power  \n",
            "T-test  0.049048  1.409e+14    1.0  \n",
            "t-statistic(t):8.657910061879496\n",
            "p-value(p):5.0743031646645544e-18\n",
            "Do we reject H0? True\n",
            "Confident Interval: 0.005951, 0.009434\n"
          ]
        }
      ],
      "source": [
        "import pingouin as pg\n",
        "t_test = pg.ttest(ads_data[ads_data['test']== 1]['converted'],ads_data[ads_data['test']== 0]['converted'], paired = False, alternative = 'two-sided')\n",
        "print(t_test)\n",
        "\n",
        "alpha = 0.05\n",
        "tstat = t_test.iloc[0]['T']\n",
        "pvalue = t_test.iloc[0]['p-val']\n",
        "reject = pvalue < alpha\n",
        "ci= t_test.iloc[0]['CI95%']\n",
        "CI_lower = ci[0]\n",
        "CI_upper = ci[1]\n",
        "\n",
        "print(f't-statistic(t):{tstat}')\n",
        "print(f'p-value(p):{pvalue}')\n",
        "print(f'Do we reject H0? {reject}')\n",
        "print(f'Confident Interval: {CI_lower}, {CI_upper}')"
      ]
    },
    {
      "cell_type": "markdown",
      "source": [
        "Yes, based on the result of the function, we can see pvalue is very small, which means that if there is no effect, the probability for us to observe the current outcome is extremely small, in other words, the advertisement has effect. What's more, the 95% confidence interval for the difference in conversion rates is [0.005951, 0.009434], which does not include 0. This further supports the conclusion that the advertisement positively impacted purchases."
      ],
      "metadata": {
        "id": "d-OoP04yUrg9"
      },
      "id": "d-OoP04yUrg9"
    },
    {
      "cell_type": "markdown",
      "id": "b124a7de",
      "metadata": {
        "id": "b124a7de"
      },
      "source": [
        "### 2. Was the campaign profitable?\n",
        "#### 2.a How much more profit did TaskaBella make **per person** by showing ads (excluding advertising costs)?\n",
        "Hint: the profit per conversion is given on page 2 of the case."
      ]
    },
    {
      "cell_type": "code",
      "source": [
        "ads_data"
      ],
      "metadata": {
        "colab": {
          "base_uri": "https://localhost:8080/",
          "height": 442
        },
        "id": "0vX7S_dxWUdL",
        "outputId": "5e3b7f05-1e2f-4f07-b03a-dea8a16e87a8"
      },
      "id": "0vX7S_dxWUdL",
      "execution_count": 57,
      "outputs": [
        {
          "output_type": "stream",
          "name": "stdout",
          "text": [
            "Warning: total number of rows (588111) exceeds max_rows (20000). Falling back to pandas display.\n"
          ]
        },
        {
          "output_type": "execute_result",
          "data": {
            "text/plain": [
              "        user_id  test  converted  tot_impr  mode_impr_day  mode_impr_hour\n",
              "0       1069124     1          0       130              1              20\n",
              "1       1119715     1          0        93              2              22\n",
              "2       1144181     1          0        21              2              18\n",
              "3       1435133     1          0       355              2              10\n",
              "4       1015700     1          0       276              5              14\n",
              "...         ...   ...        ...       ...            ...             ...\n",
              "588106  1496403     1          0        24              2              19\n",
              "588107  1496404     1          0       199              6              19\n",
              "588108  1496405     1          0       211              6              15\n",
              "588109  1496406     1          0        98              5              19\n",
              "588110  1496407     1          0        19              2              19\n",
              "\n",
              "[588111 rows x 6 columns]"
            ],
            "text/html": [
              "\n",
              "  <div id=\"df-d4b84e7f-ec02-4d81-9ef5-14eccbf47228\" class=\"colab-df-container\">\n",
              "    <div>\n",
              "<style scoped>\n",
              "    .dataframe tbody tr th:only-of-type {\n",
              "        vertical-align: middle;\n",
              "    }\n",
              "\n",
              "    .dataframe tbody tr th {\n",
              "        vertical-align: top;\n",
              "    }\n",
              "\n",
              "    .dataframe thead th {\n",
              "        text-align: right;\n",
              "    }\n",
              "</style>\n",
              "<table border=\"1\" class=\"dataframe\">\n",
              "  <thead>\n",
              "    <tr style=\"text-align: right;\">\n",
              "      <th></th>\n",
              "      <th>user_id</th>\n",
              "      <th>test</th>\n",
              "      <th>converted</th>\n",
              "      <th>tot_impr</th>\n",
              "      <th>mode_impr_day</th>\n",
              "      <th>mode_impr_hour</th>\n",
              "    </tr>\n",
              "  </thead>\n",
              "  <tbody>\n",
              "    <tr>\n",
              "      <th>0</th>\n",
              "      <td>1069124</td>\n",
              "      <td>1</td>\n",
              "      <td>0</td>\n",
              "      <td>130</td>\n",
              "      <td>1</td>\n",
              "      <td>20</td>\n",
              "    </tr>\n",
              "    <tr>\n",
              "      <th>1</th>\n",
              "      <td>1119715</td>\n",
              "      <td>1</td>\n",
              "      <td>0</td>\n",
              "      <td>93</td>\n",
              "      <td>2</td>\n",
              "      <td>22</td>\n",
              "    </tr>\n",
              "    <tr>\n",
              "      <th>2</th>\n",
              "      <td>1144181</td>\n",
              "      <td>1</td>\n",
              "      <td>0</td>\n",
              "      <td>21</td>\n",
              "      <td>2</td>\n",
              "      <td>18</td>\n",
              "    </tr>\n",
              "    <tr>\n",
              "      <th>3</th>\n",
              "      <td>1435133</td>\n",
              "      <td>1</td>\n",
              "      <td>0</td>\n",
              "      <td>355</td>\n",
              "      <td>2</td>\n",
              "      <td>10</td>\n",
              "    </tr>\n",
              "    <tr>\n",
              "      <th>4</th>\n",
              "      <td>1015700</td>\n",
              "      <td>1</td>\n",
              "      <td>0</td>\n",
              "      <td>276</td>\n",
              "      <td>5</td>\n",
              "      <td>14</td>\n",
              "    </tr>\n",
              "    <tr>\n",
              "      <th>...</th>\n",
              "      <td>...</td>\n",
              "      <td>...</td>\n",
              "      <td>...</td>\n",
              "      <td>...</td>\n",
              "      <td>...</td>\n",
              "      <td>...</td>\n",
              "    </tr>\n",
              "    <tr>\n",
              "      <th>588106</th>\n",
              "      <td>1496403</td>\n",
              "      <td>1</td>\n",
              "      <td>0</td>\n",
              "      <td>24</td>\n",
              "      <td>2</td>\n",
              "      <td>19</td>\n",
              "    </tr>\n",
              "    <tr>\n",
              "      <th>588107</th>\n",
              "      <td>1496404</td>\n",
              "      <td>1</td>\n",
              "      <td>0</td>\n",
              "      <td>199</td>\n",
              "      <td>6</td>\n",
              "      <td>19</td>\n",
              "    </tr>\n",
              "    <tr>\n",
              "      <th>588108</th>\n",
              "      <td>1496405</td>\n",
              "      <td>1</td>\n",
              "      <td>0</td>\n",
              "      <td>211</td>\n",
              "      <td>6</td>\n",
              "      <td>15</td>\n",
              "    </tr>\n",
              "    <tr>\n",
              "      <th>588109</th>\n",
              "      <td>1496406</td>\n",
              "      <td>1</td>\n",
              "      <td>0</td>\n",
              "      <td>98</td>\n",
              "      <td>5</td>\n",
              "      <td>19</td>\n",
              "    </tr>\n",
              "    <tr>\n",
              "      <th>588110</th>\n",
              "      <td>1496407</td>\n",
              "      <td>1</td>\n",
              "      <td>0</td>\n",
              "      <td>19</td>\n",
              "      <td>2</td>\n",
              "      <td>19</td>\n",
              "    </tr>\n",
              "  </tbody>\n",
              "</table>\n",
              "<p>588111 rows × 6 columns</p>\n",
              "</div>\n",
              "    <div class=\"colab-df-buttons\">\n",
              "\n",
              "  <div class=\"colab-df-container\">\n",
              "    <button class=\"colab-df-convert\" onclick=\"convertToInteractive('df-d4b84e7f-ec02-4d81-9ef5-14eccbf47228')\"\n",
              "            title=\"Convert this dataframe to an interactive table.\"\n",
              "            style=\"display:none;\">\n",
              "\n",
              "  <svg xmlns=\"http://www.w3.org/2000/svg\" height=\"24px\" viewBox=\"0 -960 960 960\">\n",
              "    <path d=\"M120-120v-720h720v720H120Zm60-500h600v-160H180v160Zm220 220h160v-160H400v160Zm0 220h160v-160H400v160ZM180-400h160v-160H180v160Zm440 0h160v-160H620v160ZM180-180h160v-160H180v160Zm440 0h160v-160H620v160Z\"/>\n",
              "  </svg>\n",
              "    </button>\n",
              "\n",
              "  <style>\n",
              "    .colab-df-container {\n",
              "      display:flex;\n",
              "      gap: 12px;\n",
              "    }\n",
              "\n",
              "    .colab-df-convert {\n",
              "      background-color: #E8F0FE;\n",
              "      border: none;\n",
              "      border-radius: 50%;\n",
              "      cursor: pointer;\n",
              "      display: none;\n",
              "      fill: #1967D2;\n",
              "      height: 32px;\n",
              "      padding: 0 0 0 0;\n",
              "      width: 32px;\n",
              "    }\n",
              "\n",
              "    .colab-df-convert:hover {\n",
              "      background-color: #E2EBFA;\n",
              "      box-shadow: 0px 1px 2px rgba(60, 64, 67, 0.3), 0px 1px 3px 1px rgba(60, 64, 67, 0.15);\n",
              "      fill: #174EA6;\n",
              "    }\n",
              "\n",
              "    .colab-df-buttons div {\n",
              "      margin-bottom: 4px;\n",
              "    }\n",
              "\n",
              "    [theme=dark] .colab-df-convert {\n",
              "      background-color: #3B4455;\n",
              "      fill: #D2E3FC;\n",
              "    }\n",
              "\n",
              "    [theme=dark] .colab-df-convert:hover {\n",
              "      background-color: #434B5C;\n",
              "      box-shadow: 0px 1px 3px 1px rgba(0, 0, 0, 0.15);\n",
              "      filter: drop-shadow(0px 1px 2px rgba(0, 0, 0, 0.3));\n",
              "      fill: #FFFFFF;\n",
              "    }\n",
              "  </style>\n",
              "\n",
              "    <script>\n",
              "      const buttonEl =\n",
              "        document.querySelector('#df-d4b84e7f-ec02-4d81-9ef5-14eccbf47228 button.colab-df-convert');\n",
              "      buttonEl.style.display =\n",
              "        google.colab.kernel.accessAllowed ? 'block' : 'none';\n",
              "\n",
              "      async function convertToInteractive(key) {\n",
              "        const element = document.querySelector('#df-d4b84e7f-ec02-4d81-9ef5-14eccbf47228');\n",
              "        const dataTable =\n",
              "          await google.colab.kernel.invokeFunction('convertToInteractive',\n",
              "                                                    [key], {});\n",
              "        if (!dataTable) return;\n",
              "\n",
              "        const docLinkHtml = 'Like what you see? Visit the ' +\n",
              "          '<a target=\"_blank\" href=https://colab.research.google.com/notebooks/data_table.ipynb>data table notebook</a>'\n",
              "          + ' to learn more about interactive tables.';\n",
              "        element.innerHTML = '';\n",
              "        dataTable['output_type'] = 'display_data';\n",
              "        await google.colab.output.renderOutput(dataTable, element);\n",
              "        const docLink = document.createElement('div');\n",
              "        docLink.innerHTML = docLinkHtml;\n",
              "        element.appendChild(docLink);\n",
              "      }\n",
              "    </script>\n",
              "  </div>\n",
              "\n",
              "\n",
              "<div id=\"df-9fb7d1ba-8e66-401b-8bd8-d98da340c1f4\">\n",
              "  <button class=\"colab-df-quickchart\" onclick=\"quickchart('df-9fb7d1ba-8e66-401b-8bd8-d98da340c1f4')\"\n",
              "            title=\"Suggest charts\"\n",
              "            style=\"display:none;\">\n",
              "\n",
              "<svg xmlns=\"http://www.w3.org/2000/svg\" height=\"24px\"viewBox=\"0 0 24 24\"\n",
              "     width=\"24px\">\n",
              "    <g>\n",
              "        <path d=\"M19 3H5c-1.1 0-2 .9-2 2v14c0 1.1.9 2 2 2h14c1.1 0 2-.9 2-2V5c0-1.1-.9-2-2-2zM9 17H7v-7h2v7zm4 0h-2V7h2v10zm4 0h-2v-4h2v4z\"/>\n",
              "    </g>\n",
              "</svg>\n",
              "  </button>\n",
              "\n",
              "<style>\n",
              "  .colab-df-quickchart {\n",
              "      --bg-color: #E8F0FE;\n",
              "      --fill-color: #1967D2;\n",
              "      --hover-bg-color: #E2EBFA;\n",
              "      --hover-fill-color: #174EA6;\n",
              "      --disabled-fill-color: #AAA;\n",
              "      --disabled-bg-color: #DDD;\n",
              "  }\n",
              "\n",
              "  [theme=dark] .colab-df-quickchart {\n",
              "      --bg-color: #3B4455;\n",
              "      --fill-color: #D2E3FC;\n",
              "      --hover-bg-color: #434B5C;\n",
              "      --hover-fill-color: #FFFFFF;\n",
              "      --disabled-bg-color: #3B4455;\n",
              "      --disabled-fill-color: #666;\n",
              "  }\n",
              "\n",
              "  .colab-df-quickchart {\n",
              "    background-color: var(--bg-color);\n",
              "    border: none;\n",
              "    border-radius: 50%;\n",
              "    cursor: pointer;\n",
              "    display: none;\n",
              "    fill: var(--fill-color);\n",
              "    height: 32px;\n",
              "    padding: 0;\n",
              "    width: 32px;\n",
              "  }\n",
              "\n",
              "  .colab-df-quickchart:hover {\n",
              "    background-color: var(--hover-bg-color);\n",
              "    box-shadow: 0 1px 2px rgba(60, 64, 67, 0.3), 0 1px 3px 1px rgba(60, 64, 67, 0.15);\n",
              "    fill: var(--button-hover-fill-color);\n",
              "  }\n",
              "\n",
              "  .colab-df-quickchart-complete:disabled,\n",
              "  .colab-df-quickchart-complete:disabled:hover {\n",
              "    background-color: var(--disabled-bg-color);\n",
              "    fill: var(--disabled-fill-color);\n",
              "    box-shadow: none;\n",
              "  }\n",
              "\n",
              "  .colab-df-spinner {\n",
              "    border: 2px solid var(--fill-color);\n",
              "    border-color: transparent;\n",
              "    border-bottom-color: var(--fill-color);\n",
              "    animation:\n",
              "      spin 1s steps(1) infinite;\n",
              "  }\n",
              "\n",
              "  @keyframes spin {\n",
              "    0% {\n",
              "      border-color: transparent;\n",
              "      border-bottom-color: var(--fill-color);\n",
              "      border-left-color: var(--fill-color);\n",
              "    }\n",
              "    20% {\n",
              "      border-color: transparent;\n",
              "      border-left-color: var(--fill-color);\n",
              "      border-top-color: var(--fill-color);\n",
              "    }\n",
              "    30% {\n",
              "      border-color: transparent;\n",
              "      border-left-color: var(--fill-color);\n",
              "      border-top-color: var(--fill-color);\n",
              "      border-right-color: var(--fill-color);\n",
              "    }\n",
              "    40% {\n",
              "      border-color: transparent;\n",
              "      border-right-color: var(--fill-color);\n",
              "      border-top-color: var(--fill-color);\n",
              "    }\n",
              "    60% {\n",
              "      border-color: transparent;\n",
              "      border-right-color: var(--fill-color);\n",
              "    }\n",
              "    80% {\n",
              "      border-color: transparent;\n",
              "      border-right-color: var(--fill-color);\n",
              "      border-bottom-color: var(--fill-color);\n",
              "    }\n",
              "    90% {\n",
              "      border-color: transparent;\n",
              "      border-bottom-color: var(--fill-color);\n",
              "    }\n",
              "  }\n",
              "</style>\n",
              "\n",
              "  <script>\n",
              "    async function quickchart(key) {\n",
              "      const quickchartButtonEl =\n",
              "        document.querySelector('#' + key + ' button');\n",
              "      quickchartButtonEl.disabled = true;  // To prevent multiple clicks.\n",
              "      quickchartButtonEl.classList.add('colab-df-spinner');\n",
              "      try {\n",
              "        const charts = await google.colab.kernel.invokeFunction(\n",
              "            'suggestCharts', [key], {});\n",
              "      } catch (error) {\n",
              "        console.error('Error during call to suggestCharts:', error);\n",
              "      }\n",
              "      quickchartButtonEl.classList.remove('colab-df-spinner');\n",
              "      quickchartButtonEl.classList.add('colab-df-quickchart-complete');\n",
              "    }\n",
              "    (() => {\n",
              "      let quickchartButtonEl =\n",
              "        document.querySelector('#df-9fb7d1ba-8e66-401b-8bd8-d98da340c1f4 button');\n",
              "      quickchartButtonEl.style.display =\n",
              "        google.colab.kernel.accessAllowed ? 'block' : 'none';\n",
              "    })();\n",
              "  </script>\n",
              "</div>\n",
              "\n",
              "  <div id=\"id_807d64ff-66bf-4c8a-a908-5aab46fa0cf3\">\n",
              "    <style>\n",
              "      .colab-df-generate {\n",
              "        background-color: #E8F0FE;\n",
              "        border: none;\n",
              "        border-radius: 50%;\n",
              "        cursor: pointer;\n",
              "        display: none;\n",
              "        fill: #1967D2;\n",
              "        height: 32px;\n",
              "        padding: 0 0 0 0;\n",
              "        width: 32px;\n",
              "      }\n",
              "\n",
              "      .colab-df-generate:hover {\n",
              "        background-color: #E2EBFA;\n",
              "        box-shadow: 0px 1px 2px rgba(60, 64, 67, 0.3), 0px 1px 3px 1px rgba(60, 64, 67, 0.15);\n",
              "        fill: #174EA6;\n",
              "      }\n",
              "\n",
              "      [theme=dark] .colab-df-generate {\n",
              "        background-color: #3B4455;\n",
              "        fill: #D2E3FC;\n",
              "      }\n",
              "\n",
              "      [theme=dark] .colab-df-generate:hover {\n",
              "        background-color: #434B5C;\n",
              "        box-shadow: 0px 1px 3px 1px rgba(0, 0, 0, 0.15);\n",
              "        filter: drop-shadow(0px 1px 2px rgba(0, 0, 0, 0.3));\n",
              "        fill: #FFFFFF;\n",
              "      }\n",
              "    </style>\n",
              "    <button class=\"colab-df-generate\" onclick=\"generateWithVariable('ads_data')\"\n",
              "            title=\"Generate code using this dataframe.\"\n",
              "            style=\"display:none;\">\n",
              "\n",
              "  <svg xmlns=\"http://www.w3.org/2000/svg\" height=\"24px\"viewBox=\"0 0 24 24\"\n",
              "       width=\"24px\">\n",
              "    <path d=\"M7,19H8.4L18.45,9,17,7.55,7,17.6ZM5,21V16.75L18.45,3.32a2,2,0,0,1,2.83,0l1.4,1.43a1.91,1.91,0,0,1,.58,1.4,1.91,1.91,0,0,1-.58,1.4L9.25,21ZM18.45,9,17,7.55Zm-12,3A5.31,5.31,0,0,0,4.9,8.1,5.31,5.31,0,0,0,1,6.5,5.31,5.31,0,0,0,4.9,4.9,5.31,5.31,0,0,0,6.5,1,5.31,5.31,0,0,0,8.1,4.9,5.31,5.31,0,0,0,12,6.5,5.46,5.46,0,0,0,6.5,12Z\"/>\n",
              "  </svg>\n",
              "    </button>\n",
              "    <script>\n",
              "      (() => {\n",
              "      const buttonEl =\n",
              "        document.querySelector('#id_807d64ff-66bf-4c8a-a908-5aab46fa0cf3 button.colab-df-generate');\n",
              "      buttonEl.style.display =\n",
              "        google.colab.kernel.accessAllowed ? 'block' : 'none';\n",
              "\n",
              "      buttonEl.onclick = () => {\n",
              "        google.colab.notebook.generateWithVariable('ads_data');\n",
              "      }\n",
              "      })();\n",
              "    </script>\n",
              "  </div>\n",
              "\n",
              "    </div>\n",
              "  </div>\n"
            ],
            "application/vnd.google.colaboratory.intrinsic+json": {
              "type": "dataframe",
              "variable_name": "ads_data"
            }
          },
          "metadata": {},
          "execution_count": 57
        }
      ]
    },
    {
      "cell_type": "code",
      "source": [
        "noad_conversion = ads_data[ads_data['test']==0]['converted'].mean()\n",
        "isad_conversion = ads_data[ads_data['test']==1]['converted'].mean()\n",
        "\n",
        "conversion_diff = isad_conversion - noad_conversion\n",
        "profit_per_conversion = 40 * conversion_diff\n",
        "print(profit_per_conversion)"
      ],
      "metadata": {
        "colab": {
          "base_uri": "https://localhost:8080/"
        },
        "id": "uILfXzUXaSZ_",
        "outputId": "6fe6cea6-2a47-4f9e-e489-887e13fccff5"
      },
      "id": "uILfXzUXaSZ_",
      "execution_count": 61,
      "outputs": [
        {
          "output_type": "stream",
          "name": "stdout",
          "text": [
            "0.3077121959712098\n"
          ]
        }
      ]
    },
    {
      "cell_type": "markdown",
      "source": [
        "TaskaBella will make more profits of $0.31 per person by showing ads."
      ],
      "metadata": {
        "id": "tUfQkFmcbcUR"
      },
      "id": "tUfQkFmcbcUR"
    },
    {
      "cell_type": "markdown",
      "id": "9656e21a",
      "metadata": {
        "id": "9656e21a"
      },
      "source": [
        "#### 2.b What was the cost of the campaign per person (including the control group)?  \n",
        "Hint: The cost per thousand impressions is $9"
      ]
    },
    {
      "cell_type": "code",
      "source": [
        "total_cost = 9 * ads_data['tot_impr'].sum()/1000\n",
        "cost_per_person = total_cost/ads_data['user_id'].count()\n",
        "print(cost_per_person)"
      ],
      "metadata": {
        "colab": {
          "base_uri": "https://localhost:8080/"
        },
        "id": "kGxc7Zlcdyco",
        "outputId": "b310d685-535a-4f8e-947d-9cee6d33569b"
      },
      "id": "kGxc7Zlcdyco",
      "execution_count": 64,
      "outputs": [
        {
          "output_type": "stream",
          "name": "stdout",
          "text": [
            "0.22340694868825783\n"
          ]
        }
      ]
    },
    {
      "cell_type": "markdown",
      "source": [
        "The cost of the campaign per person is $0.22."
      ],
      "metadata": {
        "id": "CWT0bJh5eDyx"
      },
      "id": "CWT0bJh5eDyx"
    },
    {
      "cell_type": "markdown",
      "id": "8799b9c9",
      "metadata": {
        "id": "8799b9c9"
      },
      "source": [
        "#### 2.c Calculate the ROI of the campaign (including the control group). Was the campaign profitable?  \n",
        "The ROI is calculated by\n",
        "$$\\text{ROI} = \\frac{\\text{Effect on Profits per Person in Campaign} - \\text{Cost of Ads per Person in Campaign}}{\\text{Cost of Ads per Person in Campaign}}$$"
      ]
    },
    {
      "cell_type": "code",
      "execution_count": 65,
      "id": "f12ed7f7",
      "metadata": {
        "id": "f12ed7f7",
        "colab": {
          "base_uri": "https://localhost:8080/"
        },
        "outputId": "1be2af0b-6c32-4a94-8997-0336d886483e"
      },
      "outputs": [
        {
          "output_type": "stream",
          "name": "stdout",
          "text": [
            "0.37736179549451504\n"
          ]
        }
      ],
      "source": [
        "ROI = (profit_per_conversion - cost_per_person)/cost_per_person\n",
        "print(ROI)"
      ]
    },
    {
      "cell_type": "markdown",
      "source": [
        "Yes, the campagin is profitable with a ROI is 0.38"
      ],
      "metadata": {
        "id": "qCOi5SEQfEig"
      },
      "id": "qCOi5SEQfEig"
    },
    {
      "cell_type": "markdown",
      "id": "cd07022b",
      "metadata": {
        "id": "cd07022b"
      },
      "source": [
        "#### 2.d What was the opportunity cost of including a control group --- how much more could TaskaBella have made by not having a control group at all?\n",
        "Hint: The opportunity cost is the profits that TaskaBella missed out by having a control group."
      ]
    },
    {
      "cell_type": "code",
      "execution_count": 66,
      "id": "ed746eca",
      "metadata": {
        "id": "ed746eca",
        "colab": {
          "base_uri": "https://localhost:8080/"
        },
        "outputId": "7d657e4b-7d14-47cf-95f1-1a294e9a1f7f"
      },
      "outputs": [
        {
          "output_type": "stream",
          "name": "stdout",
          "text": [
            "7238.92941022271\n"
          ]
        }
      ],
      "source": [
        "test_conversion_rate = ads_data[ads_data['test']== 1]['converted'].mean()\n",
        "control_conversion_rate = ads_data[ads_data['test']== 0]['converted'].mean()\n",
        "\n",
        "conversion_lost_rate = test_conversion_rate - control_conversion_rate\n",
        "control_number = ads_data[ads_data['test']== 0]['user_id'].count()\n",
        "opportunity_cost = 40 * conversion_lost_rate * control_number\n",
        "print(opportunity_cost)"
      ]
    },
    {
      "cell_type": "markdown",
      "source": [
        "The opportunity cost of including a control group is 7238.93, which means that if all member are in the test group, TaskaBella can earn more 7238.93 dollars."
      ],
      "metadata": {
        "id": "I3GwPFomhmTM"
      },
      "id": "I3GwPFomhmTM"
    },
    {
      "cell_type": "markdown",
      "id": "f9060332",
      "metadata": {
        "id": "f9060332"
      },
      "source": [
        "### 3. Did the number of impressions seen by each user influence the effectiveness of advertising?\n",
        "\n",
        "#### 3a. Plot the conversion rate by treatment group and by the number of impressions (groups into ranges, e.g. [0, 100), [100, 500), etc) seen by users."
      ]
    },
    {
      "cell_type": "code",
      "source": [
        "bins = pd.IntervalIndex.from_tuples([(0,50), (50,100), (100, 200), (200, 300), (300, 400), (400, 500), (500, 10000)])\n",
        "ads_data_1 = ads_data[ads_data['test']==1]\n",
        "ads_data_1['test_group_impr_count'] = pd.cut(ads_data_1['tot_impr'], bins)"
      ],
      "metadata": {
        "colab": {
          "base_uri": "https://localhost:8080/"
        },
        "id": "7Ti4BIfuiZgx",
        "outputId": "d72b3891-db3b-43a9-c7d4-ae5b8f9e6a45"
      },
      "id": "7Ti4BIfuiZgx",
      "execution_count": 78,
      "outputs": [
        {
          "output_type": "stream",
          "name": "stderr",
          "text": [
            "<ipython-input-78-cc157f0aa831>:3: SettingWithCopyWarning: \n",
            "A value is trying to be set on a copy of a slice from a DataFrame.\n",
            "Try using .loc[row_indexer,col_indexer] = value instead\n",
            "\n",
            "See the caveats in the documentation: https://pandas.pydata.org/pandas-docs/stable/user_guide/indexing.html#returning-a-view-versus-a-copy\n",
            "  ads_data_1['test_group_impr_count'] = pd.cut(ads_data_1['tot_impr'], bins)\n"
          ]
        }
      ]
    },
    {
      "cell_type": "code",
      "source": [
        "import matplotlib.pyplot as plt\n",
        "conversion_rate = ads_data_1.groupby('test_group_impr_count')['converted'].mean()\n",
        "conversion_rate.plot(kind='bar', color='skyblue')\n",
        "plt.title('Conversion Rate by Treatment Group')\n",
        "plt.xlabel('Impression Bins')\n",
        "plt.ylabel('Conversion Rate')\n",
        "plt.show()"
      ],
      "metadata": {
        "colab": {
          "base_uri": "https://localhost:8080/",
          "height": 604
        },
        "id": "iLv3ae24lBxs",
        "outputId": "d9055ebd-8d40-471c-c6a3-74e5629e92bf"
      },
      "id": "iLv3ae24lBxs",
      "execution_count": 79,
      "outputs": [
        {
          "output_type": "stream",
          "name": "stderr",
          "text": [
            "<ipython-input-79-6e50babe1e4d>:2: FutureWarning: The default of observed=False is deprecated and will be changed to True in a future version of pandas. Pass observed=False to retain current behavior or observed=True to adopt the future default and silence this warning.\n",
            "  conversion_rate = ads_data_1.groupby('test_group_impr_count')['converted'].mean()\n"
          ]
        },
        {
          "output_type": "display_data",
          "data": {
            "text/plain": [
              "<Figure size 640x480 with 1 Axes>"
            ],
            "image/png": "[encoded data removed]"
          },
          "metadata": {}
        }
      ]
    },
    {
      "cell_type": "markdown",
      "id": "64bd5aef",
      "metadata": {
        "id": "64bd5aef"
      },
      "source": [
        "#### 3.b Based on the above figure, can we say that more impressions cause more conversions? (No more than 2 sentences)"
      ]
    },
    {
      "cell_type": "markdown",
      "source": [
        "No, while the conversion rate shows a strong correlation with impressions (more impressions suggest higher interest, then more likely to order), this does not imply causation, as other factors may influence conversions."
      ],
      "metadata": {
        "id": "PcJ3-yczm52y"
      },
      "id": "PcJ3-yczm52y"
    },
    {
      "cell_type": "markdown",
      "id": "806e769a",
      "metadata": {
        "id": "806e769a"
      },
      "source": [
        "### 4 Calculate the power of this experiment.\n",
        "\n",
        "#### 4.a Calculate Cohen's D without using `pg.ttest`. Cohen's D, in this case, is the estimated average treatment effect on conversion divided by the standard deviation of conversion."
      ]
    },
    {
      "cell_type": "code",
      "execution_count": 80,
      "id": "00bf043b",
      "metadata": {
        "id": "00bf043b",
        "colab": {
          "base_uri": "https://localhost:8080/"
        },
        "outputId": "02076787-347b-4e30-d870-793117bdc947"
      },
      "outputs": [
        {
          "output_type": "stream",
          "name": "stdout",
          "text": [
            "0.04904604110542456\n"
          ]
        }
      ],
      "source": [
        "cd = ATE/ads_data['converted'].std()\n",
        "print(cd)"
      ]
    },
    {
      "cell_type": "markdown",
      "source": [
        "The Cohen's D is 0.049"
      ],
      "metadata": {
        "id": "64z2CRfWpcVX"
      },
      "id": "64z2CRfWpcVX"
    },
    {
      "cell_type": "markdown",
      "id": "2340e4a0",
      "metadata": {
        "id": "2340e4a0"
      },
      "source": [
        "#### 4.b Use the `power_ttest2n` function in `pingouin` to calculate the statistical power of the experiment."
      ]
    },
    {
      "cell_type": "code",
      "source": [
        "n = pg.power_ttest(d=cd, power=.8, alpha=.05,alternative='two-sided')\n",
        "print(f'Necessary sample size: {np.ceil(n)}')"
      ],
      "metadata": {
        "colab": {
          "base_uri": "https://localhost:8080/"
        },
        "id": "GvfWcHxjtmH8",
        "outputId": "e5761eca-3ef3-4ebf-c6f4-440ad56ad2a3"
      },
      "id": "GvfWcHxjtmH8",
      "execution_count": 99,
      "outputs": [
        {
          "output_type": "stream",
          "name": "stdout",
          "text": [
            "Necessary sample size: 6527.0\n"
          ]
        }
      ]
    },
    {
      "cell_type": "code",
      "source": [
        "power = pg.power_ttest(d=cd, n=6527.0, alpha=0.05, alternative='two-sided')\n",
        "print(f'Statistic power: {np.round(power, 3)}')\n"
      ],
      "metadata": {
        "colab": {
          "base_uri": "https://localhost:8080/"
        },
        "id": "UTamxeZRuaWL",
        "outputId": "6e70114f-189e-4e51-ea47-b58819c629d1"
      },
      "id": "UTamxeZRuaWL",
      "execution_count": 105,
      "outputs": [
        {
          "output_type": "stream",
          "name": "stdout",
          "text": [
            "Statistic power: 0.8\n"
          ]
        }
      ]
    },
    {
      "cell_type": "markdown",
      "id": "a302fe03",
      "metadata": {
        "id": "a302fe03"
      },
      "source": [
        "#### 4.c What would the power be instead if the true effect had a cohen's D of .01?"
      ]
    },
    {
      "cell_type": "code",
      "execution_count": 111,
      "id": "17ee397c",
      "metadata": {
        "id": "17ee397c",
        "colab": {
          "base_uri": "https://localhost:8080/"
        },
        "outputId": "54ae547d-52cc-4adf-aff6-2e2067dc4deb"
      },
      "outputs": [
        {
          "output_type": "stream",
          "name": "stdout",
          "text": [
            "Statistic power with cohens d of .01: 0.088\n"
          ]
        }
      ],
      "source": [
        "power_2 = pg.power_ttest(d=.01, n=6527.0, alpha=.05, alternative = 'two-sided')\n",
        "print(f'Statistic power with cohens d of .01: {np.round(power_2,3)}')"
      ]
    },
    {
      "cell_type": "markdown",
      "id": "8d87a53d",
      "metadata": {
        "id": "8d87a53d"
      },
      "source": [
        "#### 4.d What would the power be instead if the true effect had a cohen's of .01 and the sample was equally split between treatment and control?"
      ]
    },
    {
      "cell_type": "code",
      "execution_count": 117,
      "id": "82891f94",
      "metadata": {
        "id": "82891f94",
        "colab": {
          "base_uri": "https://localhost:8080/"
        },
        "outputId": "7d7a1072-2f37-446e-e549-7f57f05e3e9a"
      },
      "outputs": [
        {
          "output_type": "stream",
          "name": "stdout",
          "text": [
            "Statistic power with sample splited: 1.0\n"
          ]
        }
      ],
      "source": [
        "power_3 = pg.power_ttest(d=.01, n=ads_data[ads_data['test']==1]['user_id'].count(), alpha=.05, alternative = 'two-sided')\n",
        "print(f'Statistic power with sample splited: {np.round(power_3,3)}')"
      ]
    },
    {
      "cell_type": "markdown",
      "id": "22951e4d",
      "metadata": {
        "id": "22951e4d"
      },
      "source": [
        "### 5. Case Discussion in Class\n",
        "Please write what you would discuss in your presentation to TaskaBella. Your answer should be one paragraph and the paragraph should be five or fewer sentences. Be prepared to discuss in class. Think about what is the most important thing to say to TaskaBella.\n",
        "No additional analysis is needed to answer this question."
      ]
    },
    {
      "cell_type": "markdown",
      "id": "7b0569e4",
      "metadata": {
        "id": "7b0569e4"
      },
      "source": [
        "### How long did this problem set take you in hours? How did you find the level of difficulty?\n"
      ]
    },
    {
      "cell_type": "markdown",
      "id": "2124b7ee",
      "metadata": {
        "id": "2124b7ee"
      },
      "source": [
        "**Basic statement:** It took me about 4 hours to done, I found it somewhat challenging because it required understanding multiple new concepts and figuring out how they could be calculated, what's more I also spend a lot of time to understand the code that professor had showed on the slides."
      ]
    },
    {
      "cell_type": "markdown",
      "source": [
        "**GenAI disclosure**: I use artificial intelligence to help understand concepts and check code errors. In the part where artificial intelligence is used in the assignment, I pasted the record of my conversation with GPT under the corresponding answer."
      ],
      "metadata": {
        "id": "twGSxUiTxwG_"
      },
      "id": "twGSxUiTxwG_"
    }
  ],
  "metadata": {
    "colab": {
      "provenance": [],
      "include_colab_link": true
    },
    "kernelspec": {
      "display_name": "Python 3",
      "language": "python",
      "name": "python3"
    },
    "language_info": {
      "codemirror_mode": {
        "name": "ipython",
        "version": 3
      },
      "file_extension": ".py",
      "mimetype": "text/x-python",
      "name": "python",
      "nbconvert_exporter": "python",
      "pygments_lexer": "ipython3",
      "version": "3.11.4"
    }
  },
  "nbformat": 4,
  "nbformat_minor": 5
}