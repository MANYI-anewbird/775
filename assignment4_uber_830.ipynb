{
  "cells": [
    {
      "cell_type": "markdown",
      "metadata": {
        "id": "view-in-github",
        "colab_type": "text"
      },
      "source": [
        "<a href=\"https://colab.research.google.com/github/MANYI-anewbird/775/blob/main/assignment4_uber_830.ipynb\" target=\"_parent\"><img src=\"https://colab.research.google.com/assets/colab-badge.svg\" alt=\"Open In Colab\"/></a>"
      ]
    },
    {
      "cell_type": "markdown",
      "metadata": {
        "id": "Brte3-W5sQ6Z"
      },
      "source": [
        "**Assignment 3**\n",
        "\n",
        "Name:\n",
        "\n",
        "\n",
        "### 1. Read the HBS Case. What is the difference between Uber POOL and Express POOL? No more than two sentences."
      ]
    },
    {
      "cell_type": "markdown",
      "metadata": {
        "id": "hoekIoHlsQ6a"
      },
      "source": [
        "Compare with Uber POOL, Express POOL first requires customers to walk a short distance to the pick-up point to save time while Uber POOL provide door-to-door service. Secondly, Express POOL requires customers for a short-time waiting while Uber POOL provide no-time-wait service."
      ]
    },
    {
      "cell_type": "markdown",
      "metadata": {
        "id": "dGogjKb6sQ6a"
      },
      "source": [
        "### 2. How did Uber use surveys in designing Uber Express Pool? No more than two sentences.\n"
      ]
    },
    {
      "cell_type": "markdown",
      "metadata": {
        "id": "UqyKnS8ysQ6a"
      },
      "source": [
        "Uber conducted conjoint surveys to assess customers' sensitivity to different variables, including waiting time, walking distance, and price. These surveys provided a structured way to understand customers' behaviors to trade off convenience for cost savings, enabling Uber to develop a pricing calculator that predicted the acceptable price that gained the best benefits."
      ]
    },
    {
      "cell_type": "markdown",
      "metadata": {
        "id": "oxrSIPA_sQ6a"
      },
      "source": [
        "### 3. Suppose Uber was considering a new algorithm to recommend ride destinations in the app. Which type of research strategy should they use (A/B Test, Switchback, Synthetic Control)? No more than two sentences.\n"
      ]
    },
    {
      "cell_type": "markdown",
      "metadata": {
        "id": "ziO4_UqCsQ6a"
      },
      "source": []
    },
    {
      "cell_type": "markdown",
      "metadata": {
        "id": "fBc8w2cSsQ6a"
      },
      "source": [
        "###  4. Create two new columns in the dataset that represent the total number of trips for both pool products and the profit from these products.\n",
        "\n",
        "Note, the data is in the data folder and is called `wait_time_switchback_3.csv`\n",
        "\n"
      ]
    },
    {
      "cell_type": "code",
      "execution_count": null,
      "metadata": {
        "id": "9L_zcdossQ6a"
      },
      "outputs": [],
      "source": []
    },
    {
      "cell_type": "markdown",
      "metadata": {
        "id": "ZbhBv_W4sQ6a"
      },
      "source": [
        "###  5. Plot the average number of trips as a function of the time of the day. Describe a reason why this pattern exists (no more than 2 sentences). (20 points)\n"
      ]
    },
    {
      "cell_type": "code",
      "execution_count": null,
      "metadata": {
        "id": "JSxfjPhfsQ6a"
      },
      "outputs": [],
      "source": []
    },
    {
      "cell_type": "markdown",
      "metadata": {
        "id": "JliThbRdsQ6a"
      },
      "source": [
        "###  6. Conduct a regression analysis of the experiment (considering the outcomes: revenue, total_driver_payout_sr, rider_cancellations, total_trips). Make sure to think carefully about the correct regression specification. The regression output should be easy to read, so use ‘stargazer’. What do you learn in words from this regression analysis (no more than 5 sentences but it can be less)?\n"
      ]
    },
    {
      "cell_type": "markdown",
      "metadata": {
        "id": "E1aeHwxMsQ6b"
      },
      "source": []
    },
    {
      "cell_type": "markdown",
      "metadata": {
        "id": "h3RtzLLLsQ6b"
      },
      "source": [
        "###  7. One of your data scientists suggests that the optimal wait time may differ by whether it’s a commuting period. Test whether the effects of a 5 minute wait period on total trips and cancelations differ by whether it’s a commuting period (the column 'commute'). Which policy works better during commute times? (10 points)\n"
      ]
    },
    {
      "cell_type": "code",
      "execution_count": null,
      "metadata": {
        "id": "3TdNKc3PsQ6b"
      },
      "outputs": [],
      "source": []
    }
  ],
  "metadata": {
    "kernelspec": {
      "display_name": "Python 3",
      "language": "python",
      "name": "python3"
    },
    "language_info": {
      "name": "python",
      "version": "3.11.4"
    },
    "colab": {
      "provenance": [],
      "include_colab_link": true
    }
  },
  "nbformat": 4,
  "nbformat_minor": 0
}