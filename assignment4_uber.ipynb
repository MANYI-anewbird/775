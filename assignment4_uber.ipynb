{
  "cells": [
    {
      "cell_type": "markdown",
      "metadata": {
        "id": "view-in-github",
        "colab_type": "text"
      },
      "source": [
        "<a href=\"https://colab.research.google.com/github/MANYI-anewbird/775/blob/main/assignment4_uber.ipynb\" target=\"_parent\"><img src=\"https://colab.research.google.com/assets/colab-badge.svg\" alt=\"Open In Colab\"/></a>"
      ]
    },
    {
      "cell_type": "markdown",
      "metadata": {
        "id": "Brte3-W5sQ6Z"
      },
      "source": [
        "**Assignment 3**\n",
        "\n",
        "Name: Manyi Hong\n",
        "\n",
        "\n",
        "### 1. Read the HBS Case. What is the difference between Uber POOL and Express POOL? No more than two sentences."
      ]
    },
    {
      "cell_type": "markdown",
      "metadata": {
        "id": "hoekIoHlsQ6a"
      },
      "source": [
        "Compare with Uber POOL, Express POOL first requires customers to walk a short distance to the pick-up point to save time while Uber POOL provide door-to-door service. Secondly, Express POOL requires customers for a short-time waiting while Uber POOL provide no-time-wait service."
      ]
    },
    {
      "cell_type": "markdown",
      "metadata": {
        "id": "dGogjKb6sQ6a"
      },
      "source": [
        "### 2. How did Uber use surveys in designing Uber Express Pool? No more than two sentences.\n"
      ]
    },
    {
      "cell_type": "markdown",
      "metadata": {
        "id": "UqyKnS8ysQ6a"
      },
      "source": [
        "Uber conducted conjoint surveys to assess customers' sensitivity to different variables, including waiting time, walking distance, and price. These surveys provided a structured way to understand customers' behaviors to trade off convenience for cost savings, enabling Uber to develop a pricing calculator that predicted the acceptable price that gained the best benefits."
      ]
    },
    {
      "cell_type": "markdown",
      "metadata": {
        "id": "oxrSIPA_sQ6a"
      },
      "source": [
        "### 3. Suppose Uber was considering a new algorithm to recommend ride destinations in the app. Which type of research strategy should they use (A/B Test, Switchback, Synthetic Control)? No more than two sentences.\n"
      ]
    },
    {
      "cell_type": "markdown",
      "metadata": {
        "id": "ziO4_UqCsQ6a"
      },
      "source": [
        "Uber should use an A/B Test to evaluate for this method allows for a randomized comparison between a control group (existing algorithm) and a treatment group (new algorithm). This approach is a direct measurement of whether the new algorithm has a positive impact on user behavior, such as selection rates and engagement."
      ]
    },
    {
      "cell_type": "markdown",
      "metadata": {
        "id": "fBc8w2cSsQ6a"
      },
      "source": [
        "###  4. Create two new columns in the dataset that represent the total number of trips for both pool products and the profit from these products.\n",
        "\n",
        "Note, the data is in the data folder and is called `wait_time_switchback_3.csv`\n",
        "\n"
      ]
    },
    {
      "cell_type": "code",
      "execution_count": 23,
      "metadata": {
        "id": "9L_zcdossQ6a",
        "colab": {
          "base_uri": "https://localhost:8080/",
          "height": 226
        },
        "outputId": "4961a9e7-83ce-47c7-8aef-b3137ccaec15"
      },
      "outputs": [
        {
          "output_type": "execute_result",
          "data": {
            "text/plain": [
              "  city_id   period_start wait_time  treat  commute  trips_pool  \\\n",
              "0  Boston   2/19/18 7:00    2 mins  False     True        1417   \n",
              "1  Boston   2/19/18 9:40    5 mins   True    False        1462   \n",
              "2  Boston  2/19/18 12:20    2 mins  False    False        1360   \n",
              "3  Boston  2/19/18 15:00    5 mins   True     True        1977   \n",
              "4  Boston  2/19/18 17:40    2 mins  False    False        1368   \n",
              "\n",
              "   trips_express_pool  rider_cancellations  total_driver_payout_sr  \\\n",
              "0                3252                  256             34459.41163   \n",
              "1                2364                  201             29770.34982   \n",
              "2                2189                  115             27446.36736   \n",
              "3                3580                  356             44992.45299   \n",
              "4                2575                  187             27582.95530   \n",
              "\n",
              "   total_matches_sr  total_double_matches_sr      revenue  total_trips  \\\n",
              "0              3365                     1479  46041.85585         4669   \n",
              "1              2292                     1279  32174.38133         3826   \n",
              "2              2288                      957  31042.59758         3549   \n",
              "3              4040                     2029  53747.43785         5557   \n",
              "4              2193                      975  32799.79836         3943   \n",
              "\n",
              "        profit  \n",
              "0  11582.44422  \n",
              "1   2404.03151  \n",
              "2   3596.23022  \n",
              "3   8754.98486  \n",
              "4   5216.84306  "
            ],
            "text/html": [
              "\n",
              "  <div id=\"df-7ac573f6-6fb9-4744-a560-600c3a150264\" class=\"colab-df-container\">\n",
              "    <div>\n",
              "<style scoped>\n",
              "    .dataframe tbody tr th:only-of-type {\n",
              "        vertical-align: middle;\n",
              "    }\n",
              "\n",
              "    .dataframe tbody tr th {\n",
              "        vertical-align: top;\n",
              "    }\n",
              "\n",
              "    .dataframe thead th {\n",
              "        text-align: right;\n",
              "    }\n",
              "</style>\n",
              "<table border=\"1\" class=\"dataframe\">\n",
              "  <thead>\n",
              "    <tr style=\"text-align: right;\">\n",
              "      <th></th>\n",
              "      <th>city_id</th>\n",
              "      <th>period_start</th>\n",
              "      <th>wait_time</th>\n",
              "      <th>treat</th>\n",
              "      <th>commute</th>\n",
              "      <th>trips_pool</th>\n",
              "      <th>trips_express_pool</th>\n",
              "      <th>rider_cancellations</th>\n",
              "      <th>total_driver_payout_sr</th>\n",
              "      <th>total_matches_sr</th>\n",
              "      <th>total_double_matches_sr</th>\n",
              "      <th>revenue</th>\n",
              "      <th>total_trips</th>\n",
              "      <th>profit</th>\n",
              "    </tr>\n",
              "  </thead>\n",
              "  <tbody>\n",
              "    <tr>\n",
              "      <th>0</th>\n",
              "      <td>Boston</td>\n",
              "      <td>2/19/18 7:00</td>\n",
              "      <td>2 mins</td>\n",
              "      <td>False</td>\n",
              "      <td>True</td>\n",
              "      <td>1417</td>\n",
              "      <td>3252</td>\n",
              "      <td>256</td>\n",
              "      <td>34459.41163</td>\n",
              "      <td>3365</td>\n",
              "      <td>1479</td>\n",
              "      <td>46041.85585</td>\n",
              "      <td>4669</td>\n",
              "      <td>11582.44422</td>\n",
              "    </tr>\n",
              "    <tr>\n",
              "      <th>1</th>\n",
              "      <td>Boston</td>\n",
              "      <td>2/19/18 9:40</td>\n",
              "      <td>5 mins</td>\n",
              "      <td>True</td>\n",
              "      <td>False</td>\n",
              "      <td>1462</td>\n",
              "      <td>2364</td>\n",
              "      <td>201</td>\n",
              "      <td>29770.34982</td>\n",
              "      <td>2292</td>\n",
              "      <td>1279</td>\n",
              "      <td>32174.38133</td>\n",
              "      <td>3826</td>\n",
              "      <td>2404.03151</td>\n",
              "    </tr>\n",
              "    <tr>\n",
              "      <th>2</th>\n",
              "      <td>Boston</td>\n",
              "      <td>2/19/18 12:20</td>\n",
              "      <td>2 mins</td>\n",
              "      <td>False</td>\n",
              "      <td>False</td>\n",
              "      <td>1360</td>\n",
              "      <td>2189</td>\n",
              "      <td>115</td>\n",
              "      <td>27446.36736</td>\n",
              "      <td>2288</td>\n",
              "      <td>957</td>\n",
              "      <td>31042.59758</td>\n",
              "      <td>3549</td>\n",
              "      <td>3596.23022</td>\n",
              "    </tr>\n",
              "    <tr>\n",
              "      <th>3</th>\n",
              "      <td>Boston</td>\n",
              "      <td>2/19/18 15:00</td>\n",
              "      <td>5 mins</td>\n",
              "      <td>True</td>\n",
              "      <td>True</td>\n",
              "      <td>1977</td>\n",
              "      <td>3580</td>\n",
              "      <td>356</td>\n",
              "      <td>44992.45299</td>\n",
              "      <td>4040</td>\n",
              "      <td>2029</td>\n",
              "      <td>53747.43785</td>\n",
              "      <td>5557</td>\n",
              "      <td>8754.98486</td>\n",
              "    </tr>\n",
              "    <tr>\n",
              "      <th>4</th>\n",
              "      <td>Boston</td>\n",
              "      <td>2/19/18 17:40</td>\n",
              "      <td>2 mins</td>\n",
              "      <td>False</td>\n",
              "      <td>False</td>\n",
              "      <td>1368</td>\n",
              "      <td>2575</td>\n",
              "      <td>187</td>\n",
              "      <td>27582.95530</td>\n",
              "      <td>2193</td>\n",
              "      <td>975</td>\n",
              "      <td>32799.79836</td>\n",
              "      <td>3943</td>\n",
              "      <td>5216.84306</td>\n",
              "    </tr>\n",
              "  </tbody>\n",
              "</table>\n",
              "</div>\n",
              "    <div class=\"colab-df-buttons\">\n",
              "\n",
              "  <div class=\"colab-df-container\">\n",
              "    <button class=\"colab-df-convert\" onclick=\"convertToInteractive('df-7ac573f6-6fb9-4744-a560-600c3a150264')\"\n",
              "            title=\"Convert this dataframe to an interactive table.\"\n",
              "            style=\"display:none;\">\n",
              "\n",
              "  <svg xmlns=\"http://www.w3.org/2000/svg\" height=\"24px\" viewBox=\"0 -960 960 960\">\n",
              "    <path d=\"M120-120v-720h720v720H120Zm60-500h600v-160H180v160Zm220 220h160v-160H400v160Zm0 220h160v-160H400v160ZM180-400h160v-160H180v160Zm440 0h160v-160H620v160ZM180-180h160v-160H180v160Zm440 0h160v-160H620v160Z\"/>\n",
              "  </svg>\n",
              "    </button>\n",
              "\n",
              "  <style>\n",
              "    .colab-df-container {\n",
              "      display:flex;\n",
              "      gap: 12px;\n",
              "    }\n",
              "\n",
              "    .colab-df-convert {\n",
              "      background-color: #E8F0FE;\n",
              "      border: none;\n",
              "      border-radius: 50%;\n",
              "      cursor: pointer;\n",
              "      display: none;\n",
              "      fill: #1967D2;\n",
              "      height: 32px;\n",
              "      padding: 0 0 0 0;\n",
              "      width: 32px;\n",
              "    }\n",
              "\n",
              "    .colab-df-convert:hover {\n",
              "      background-color: #E2EBFA;\n",
              "      box-shadow: 0px 1px 2px rgba(60, 64, 67, 0.3), 0px 1px 3px 1px rgba(60, 64, 67, 0.15);\n",
              "      fill: #174EA6;\n",
              "    }\n",
              "\n",
              "    .colab-df-buttons div {\n",
              "      margin-bottom: 4px;\n",
              "    }\n",
              "\n",
              "    [theme=dark] .colab-df-convert {\n",
              "      background-color: #3B4455;\n",
              "      fill: #D2E3FC;\n",
              "    }\n",
              "\n",
              "    [theme=dark] .colab-df-convert:hover {\n",
              "      background-color: #434B5C;\n",
              "      box-shadow: 0px 1px 3px 1px rgba(0, 0, 0, 0.15);\n",
              "      filter: drop-shadow(0px 1px 2px rgba(0, 0, 0, 0.3));\n",
              "      fill: #FFFFFF;\n",
              "    }\n",
              "  </style>\n",
              "\n",
              "    <script>\n",
              "      const buttonEl =\n",
              "        document.querySelector('#df-7ac573f6-6fb9-4744-a560-600c3a150264 button.colab-df-convert');\n",
              "      buttonEl.style.display =\n",
              "        google.colab.kernel.accessAllowed ? 'block' : 'none';\n",
              "\n",
              "      async function convertToInteractive(key) {\n",
              "        const element = document.querySelector('#df-7ac573f6-6fb9-4744-a560-600c3a150264');\n",
              "        const dataTable =\n",
              "          await google.colab.kernel.invokeFunction('convertToInteractive',\n",
              "                                                    [key], {});\n",
              "        if (!dataTable) return;\n",
              "\n",
              "        const docLinkHtml = 'Like what you see? Visit the ' +\n",
              "          '<a target=\"_blank\" href=https://colab.research.google.com/notebooks/data_table.ipynb>data table notebook</a>'\n",
              "          + ' to learn more about interactive tables.';\n",
              "        element.innerHTML = '';\n",
              "        dataTable['output_type'] = 'display_data';\n",
              "        await google.colab.output.renderOutput(dataTable, element);\n",
              "        const docLink = document.createElement('div');\n",
              "        docLink.innerHTML = docLinkHtml;\n",
              "        element.appendChild(docLink);\n",
              "      }\n",
              "    </script>\n",
              "  </div>\n",
              "\n",
              "\n",
              "<div id=\"df-2a427238-801c-4e13-9332-9f0e9a430623\">\n",
              "  <button class=\"colab-df-quickchart\" onclick=\"quickchart('df-2a427238-801c-4e13-9332-9f0e9a430623')\"\n",
              "            title=\"Suggest charts\"\n",
              "            style=\"display:none;\">\n",
              "\n",
              "<svg xmlns=\"http://www.w3.org/2000/svg\" height=\"24px\"viewBox=\"0 0 24 24\"\n",
              "     width=\"24px\">\n",
              "    <g>\n",
              "        <path d=\"M19 3H5c-1.1 0-2 .9-2 2v14c0 1.1.9 2 2 2h14c1.1 0 2-.9 2-2V5c0-1.1-.9-2-2-2zM9 17H7v-7h2v7zm4 0h-2V7h2v10zm4 0h-2v-4h2v4z\"/>\n",
              "    </g>\n",
              "</svg>\n",
              "  </button>\n",
              "\n",
              "<style>\n",
              "  .colab-df-quickchart {\n",
              "      --bg-color: #E8F0FE;\n",
              "      --fill-color: #1967D2;\n",
              "      --hover-bg-color: #E2EBFA;\n",
              "      --hover-fill-color: #174EA6;\n",
              "      --disabled-fill-color: #AAA;\n",
              "      --disabled-bg-color: #DDD;\n",
              "  }\n",
              "\n",
              "  [theme=dark] .colab-df-quickchart {\n",
              "      --bg-color: #3B4455;\n",
              "      --fill-color: #D2E3FC;\n",
              "      --hover-bg-color: #434B5C;\n",
              "      --hover-fill-color: #FFFFFF;\n",
              "      --disabled-bg-color: #3B4455;\n",
              "      --disabled-fill-color: #666;\n",
              "  }\n",
              "\n",
              "  .colab-df-quickchart {\n",
              "    background-color: var(--bg-color);\n",
              "    border: none;\n",
              "    border-radius: 50%;\n",
              "    cursor: pointer;\n",
              "    display: none;\n",
              "    fill: var(--fill-color);\n",
              "    height: 32px;\n",
              "    padding: 0;\n",
              "    width: 32px;\n",
              "  }\n",
              "\n",
              "  .colab-df-quickchart:hover {\n",
              "    background-color: var(--hover-bg-color);\n",
              "    box-shadow: 0 1px 2px rgba(60, 64, 67, 0.3), 0 1px 3px 1px rgba(60, 64, 67, 0.15);\n",
              "    fill: var(--button-hover-fill-color);\n",
              "  }\n",
              "\n",
              "  .colab-df-quickchart-complete:disabled,\n",
              "  .colab-df-quickchart-complete:disabled:hover {\n",
              "    background-color: var(--disabled-bg-color);\n",
              "    fill: var(--disabled-fill-color);\n",
              "    box-shadow: none;\n",
              "  }\n",
              "\n",
              "  .colab-df-spinner {\n",
              "    border: 2px solid var(--fill-color);\n",
              "    border-color: transparent;\n",
              "    border-bottom-color: var(--fill-color);\n",
              "    animation:\n",
              "      spin 1s steps(1) infinite;\n",
              "  }\n",
              "\n",
              "  @keyframes spin {\n",
              "    0% {\n",
              "      border-color: transparent;\n",
              "      border-bottom-color: var(--fill-color);\n",
              "      border-left-color: var(--fill-color);\n",
              "    }\n",
              "    20% {\n",
              "      border-color: transparent;\n",
              "      border-left-color: var(--fill-color);\n",
              "      border-top-color: var(--fill-color);\n",
              "    }\n",
              "    30% {\n",
              "      border-color: transparent;\n",
              "      border-left-color: var(--fill-color);\n",
              "      border-top-color: var(--fill-color);\n",
              "      border-right-color: var(--fill-color);\n",
              "    }\n",
              "    40% {\n",
              "      border-color: transparent;\n",
              "      border-right-color: var(--fill-color);\n",
              "      border-top-color: var(--fill-color);\n",
              "    }\n",
              "    60% {\n",
              "      border-color: transparent;\n",
              "      border-right-color: var(--fill-color);\n",
              "    }\n",
              "    80% {\n",
              "      border-color: transparent;\n",
              "      border-right-color: var(--fill-color);\n",
              "      border-bottom-color: var(--fill-color);\n",
              "    }\n",
              "    90% {\n",
              "      border-color: transparent;\n",
              "      border-bottom-color: var(--fill-color);\n",
              "    }\n",
              "  }\n",
              "</style>\n",
              "\n",
              "  <script>\n",
              "    async function quickchart(key) {\n",
              "      const quickchartButtonEl =\n",
              "        document.querySelector('#' + key + ' button');\n",
              "      quickchartButtonEl.disabled = true;  // To prevent multiple clicks.\n",
              "      quickchartButtonEl.classList.add('colab-df-spinner');\n",
              "      try {\n",
              "        const charts = await google.colab.kernel.invokeFunction(\n",
              "            'suggestCharts', [key], {});\n",
              "      } catch (error) {\n",
              "        console.error('Error during call to suggestCharts:', error);\n",
              "      }\n",
              "      quickchartButtonEl.classList.remove('colab-df-spinner');\n",
              "      quickchartButtonEl.classList.add('colab-df-quickchart-complete');\n",
              "    }\n",
              "    (() => {\n",
              "      let quickchartButtonEl =\n",
              "        document.querySelector('#df-2a427238-801c-4e13-9332-9f0e9a430623 button');\n",
              "      quickchartButtonEl.style.display =\n",
              "        google.colab.kernel.accessAllowed ? 'block' : 'none';\n",
              "    })();\n",
              "  </script>\n",
              "</div>\n",
              "\n",
              "    </div>\n",
              "  </div>\n"
            ],
            "application/vnd.google.colaboratory.intrinsic+json": {
              "type": "dataframe",
              "variable_name": "df_wait",
              "summary": "{\n  \"name\": \"df_wait\",\n  \"rows\": 126,\n  \"fields\": [\n    {\n      \"column\": \"city_id\",\n      \"properties\": {\n        \"dtype\": \"category\",\n        \"num_unique_values\": 1,\n        \"samples\": [\n          \"Boston\"\n        ],\n        \"semantic_type\": \"\",\n        \"description\": \"\"\n      }\n    },\n    {\n      \"column\": \"period_start\",\n      \"properties\": {\n        \"dtype\": \"object\",\n        \"num_unique_values\": 126,\n        \"samples\": [\n          \"2/27/18 9:40\"\n        ],\n        \"semantic_type\": \"\",\n        \"description\": \"\"\n      }\n    },\n    {\n      \"column\": \"wait_time\",\n      \"properties\": {\n        \"dtype\": \"category\",\n        \"num_unique_values\": 2,\n        \"samples\": [\n          \"5 mins\"\n        ],\n        \"semantic_type\": \"\",\n        \"description\": \"\"\n      }\n    },\n    {\n      \"column\": \"treat\",\n      \"properties\": {\n        \"dtype\": \"boolean\",\n        \"num_unique_values\": 2,\n        \"samples\": [\n          true\n        ],\n        \"semantic_type\": \"\",\n        \"description\": \"\"\n      }\n    },\n    {\n      \"column\": \"commute\",\n      \"properties\": {\n        \"dtype\": \"boolean\",\n        \"num_unique_values\": 2,\n        \"samples\": [\n          false\n        ],\n        \"semantic_type\": \"\",\n        \"description\": \"\"\n      }\n    },\n    {\n      \"column\": \"trips_pool\",\n      \"properties\": {\n        \"dtype\": \"number\",\n        \"std\": 258,\n        \"min\": 778,\n        \"max\": 2235,\n        \"num_unique_values\": 114,\n        \"samples\": [\n          1168\n        ],\n        \"semantic_type\": \"\",\n        \"description\": \"\"\n      }\n    },\n    {\n      \"column\": \"trips_express_pool\",\n      \"properties\": {\n        \"dtype\": \"number\",\n        \"std\": 496,\n        \"min\": 1644,\n        \"max\": 4502,\n        \"num_unique_values\": 124,\n        \"samples\": [\n          3463\n        ],\n        \"semantic_type\": \"\",\n        \"description\": \"\"\n      }\n    },\n    {\n      \"column\": \"rider_cancellations\",\n      \"properties\": {\n        \"dtype\": \"number\",\n        \"std\": 52,\n        \"min\": 97,\n        \"max\": 356,\n        \"num_unique_values\": 82,\n        \"samples\": [\n          224\n        ],\n        \"semantic_type\": \"\",\n        \"description\": \"\"\n      }\n    },\n    {\n      \"column\": \"total_driver_payout_sr\",\n      \"properties\": {\n        \"dtype\": \"number\",\n        \"std\": 5451.377098602281,\n        \"min\": 18761.99299,\n        \"max\": 48598.42196,\n        \"num_unique_values\": 126,\n        \"samples\": [\n          22518.40805\n        ],\n        \"semantic_type\": \"\",\n        \"description\": \"\"\n      }\n    },\n    {\n      \"column\": \"total_matches_sr\",\n      \"properties\": {\n        \"dtype\": \"number\",\n        \"std\": 607,\n        \"min\": 1581,\n        \"max\": 5015,\n        \"num_unique_values\": 118,\n        \"samples\": [\n          2911\n        ],\n        \"semantic_type\": \"\",\n        \"description\": \"\"\n      }\n    },\n    {\n      \"column\": \"total_double_matches_sr\",\n      \"properties\": {\n        \"dtype\": \"number\",\n        \"std\": 350,\n        \"min\": 726,\n        \"max\": 2744,\n        \"num_unique_values\": 115,\n        \"samples\": [\n          1034\n        ],\n        \"semantic_type\": \"\",\n        \"description\": \"\"\n      }\n    },\n    {\n      \"column\": \"revenue\",\n      \"properties\": {\n        \"dtype\": \"number\",\n        \"std\": 7049.162329149074,\n        \"min\": 24997.93987,\n        \"max\": 58880.2692,\n        \"num_unique_values\": 126,\n        \"samples\": [\n          27262.2433\n        ],\n        \"semantic_type\": \"\",\n        \"description\": \"\"\n      }\n    },\n    {\n      \"column\": \"total_trips\",\n      \"properties\": {\n        \"dtype\": \"number\",\n        \"std\": 572,\n        \"min\": 3001,\n        \"max\": 6011,\n        \"num_unique_values\": 123,\n        \"samples\": [\n          5385\n        ],\n        \"semantic_type\": \"\",\n        \"description\": \"\"\n      }\n    },\n    {\n      \"column\": \"profit\",\n      \"properties\": {\n        \"dtype\": \"number\",\n        \"std\": 3253.532374866462,\n        \"min\": -2231.534609999999,\n        \"max\": 16719.621850000003,\n        \"num_unique_values\": 126,\n        \"samples\": [\n          4743.83525\n        ],\n        \"semantic_type\": \"\",\n        \"description\": \"\"\n      }\n    }\n  ]\n}"
            }
          },
          "metadata": {},
          "execution_count": 23
        }
      ],
      "source": [
        "import numpy as np\n",
        "import pandas as pd\n",
        "\n",
        "df_wait = pd.read_csv('/content/wait_time_switchback_3.csv')\n",
        "\n",
        "df_wait['total_trips'] = df_wait['trips_pool'] + df_wait['trips_express_pool']\n",
        "df_wait['profit'] = df_wait['revenue'] - df_wait['total_driver_payout_sr']\n",
        "df_wait.head()"
      ]
    },
    {
      "cell_type": "markdown",
      "metadata": {
        "id": "ZbhBv_W4sQ6a"
      },
      "source": [
        "###  5. Plot the average number of trips as a function of the time of the day. Describe a reason why this pattern exists (no more than 2 sentences). (20 points)\n"
      ]
    },
    {
      "cell_type": "code",
      "execution_count": 24,
      "metadata": {
        "id": "JSxfjPhfsQ6a",
        "colab": {
          "base_uri": "https://localhost:8080/",
          "height": 543
        },
        "outputId": "0b927a16-6081-41da-86c9-7239fbaf04b0"
      },
      "outputs": [
        {
          "output_type": "stream",
          "name": "stderr",
          "text": [
            "<ipython-input-24-0a12024fec2f>:4: UserWarning: Could not infer format, so each element will be parsed individually, falling back to `dateutil`. To ensure parsing is consistent and as-expected, please specify a format.\n",
            "  df_wait['hour'] = pd.to_datetime(df_wait['period_start']).dt.hour\n"
          ]
        },
        {
          "output_type": "display_data",
          "data": {
            "text/plain": [
              "<Figure size 1000x500 with 1 Axes>"
            ],
            "image/png": "[encoded data removed]"
          },
          "metadata": {}
        }
      ],
      "source": [
        "import pandas as pd\n",
        "import matplotlib.pyplot as plt\n",
        "\n",
        "df_wait['hour'] = pd.to_datetime(df_wait['period_start']).dt.hour\n",
        "avg_trips_by_hour = df_wait.groupby('hour')['total_trips'].mean()\n",
        "\n",
        "plt.figure(figsize=(10,5))\n",
        "plt.plot(avg_trips_by_hour.index, avg_trips_by_hour.values, marker='o', linestyle='-')\n",
        "plt.xlabel(\"Hour of the Day\")\n",
        "plt.ylabel(\"Average Number of Trips\")\n",
        "plt.title(\"Average Number of Trips by Time of Day\")\n",
        "plt.xticks(range(0, 25))\n",
        "plt.grid(True)\n",
        "plt.show()\n"
      ]
    },
    {
      "cell_type": "markdown",
      "source": [
        "The trips peaks  isin the morning (6-8 AM) and afternoon 15 pm, reflecting commuter travel patterns as customer is on the way to and return from work or school, this is usually the time the companies/schools requires workers to start work or allow to get off work. The midday drop and late-night decline occur because demand is lower for people are at the companies/schools or home."
      ],
      "metadata": {
        "id": "4VD96ROV9Mpv"
      }
    },
    {
      "cell_type": "markdown",
      "metadata": {
        "id": "JliThbRdsQ6a"
      },
      "source": [
        "###  6. Conduct a regression analysis of the experiment (considering the outcomes: revenue, total_driver_payout_sr, rider_cancellations, total_trips). Make sure to think carefully about the correct regression specification. The regression output should be easy to read, so use ‘stargazer’. What do you learn in words from this regression analysis (no more than 5 sentences but it can be less)?\n"
      ]
    },
    {
      "cell_type": "code",
      "source": [
        "!pip install stargazer\n"
      ],
      "metadata": {
        "colab": {
          "base_uri": "https://localhost:8080/"
        },
        "id": "53Yoyi29AILw",
        "outputId": "21f54da6-1d66-439a-d4e6-2b0d5a72be4a"
      },
      "execution_count": 25,
      "outputs": [
        {
          "output_type": "stream",
          "name": "stdout",
          "text": [
            "Requirement already satisfied: stargazer in /usr/local/lib/python3.11/dist-packages (0.0.7)\n"
          ]
        }
      ]
    },
    {
      "cell_type": "code",
      "source": [
        "import statsmodels.api as sm\n",
        "import statsmodels.formula.api as smf\n",
        "from stargazer.stargazer import Stargazer\n",
        "\n",
        "\n",
        "fit_covariate_treat= smf.ols('revenue ~ total_trips + total_driver_payout_sr +rider_cancellations',data=df_wait).fit(cov_type='HC1')\n",
        "Stargazer([fit_covariate_treat])"
      ],
      "metadata": {
        "colab": {
          "base_uri": "https://localhost:8080/",
          "height": 406
        },
        "id": "sBC_A0L2_DWT",
        "outputId": "27edbf6b-53d4-4923-8f8d-2096d74d9b7c"
      },
      "execution_count": 27,
      "outputs": [
        {
          "output_type": "execute_result",
          "data": {
            "text/plain": [
              "<stargazer.stargazer.Stargazer at 0x78f7f82fcb10>"
            ],
            "text/html": [
              "<table style=\"text-align:center\"><tr><td colspan=\"2\" style=\"border-bottom: 1px solid black\"></td></tr>\n",
              "<tr><td style=\"text-align:left\"></td><td colspan=\"1\"><em>Dependent variable: revenue</em></td></tr><tr><td style=\"text-align:left\"></td><tr><td style=\"text-align:left\"></td><td>(1)</td></tr>\n",
              "<tr><td colspan=\"2\" style=\"border-bottom: 1px solid black\"></td></tr>\n",
              "\n",
              "<tr><td style=\"text-align:left\">Intercept</td><td>-7938.008<sup>***</sup></td></tr>\n",
              "<tr><td style=\"text-align:left\"></td><td>(1121.399)</td></tr>\n",
              "<tr><td style=\"text-align:left\">rider_cancellations</td><td>30.302<sup>***</sup></td></tr>\n",
              "<tr><td style=\"text-align:left\"></td><td>(5.287)</td></tr>\n",
              "<tr><td style=\"text-align:left\">total_driver_payout_sr</td><td>0.221<sup>***</sup></td></tr>\n",
              "<tr><td style=\"text-align:left\"></td><td>(0.056)</td></tr>\n",
              "<tr><td style=\"text-align:left\">total_trips</td><td>7.767<sup>***</sup></td></tr>\n",
              "<tr><td style=\"text-align:left\"></td><td>(0.599)</td></tr>\n",
              "\n",
              "<td colspan=\"2\" style=\"border-bottom: 1px solid black\"></td></tr>\n",
              "<tr><td style=\"text-align: left\">Observations</td><td>126</td></tr><tr><td style=\"text-align: left\">R<sup>2</sup></td><td>0.948</td></tr><tr><td style=\"text-align: left\">Adjusted R<sup>2</sup></td><td>0.947</td></tr><tr><td style=\"text-align: left\">Residual Std. Error</td><td>1619.465 (df=122)</td></tr><tr><td style=\"text-align: left\">F Statistic</td><td>688.358<sup>***</sup> (df=3; 122)</td></tr>\n",
              "<tr><td colspan=\"2\" style=\"border-bottom: 1px solid black\"></td></tr><tr><td style=\"text-align: left\">Note:</td><td colspan=\"1\" style=\"text-align: right\"><sup>*</sup>p&lt;0.1; <sup>**</sup>p&lt;0.05; <sup>***</sup>p&lt;0.01</td></tr></table>"
            ]
          },
          "metadata": {},
          "execution_count": 27
        }
      ]
    },
    {
      "cell_type": "markdown",
      "metadata": {
        "id": "E1aeHwxMsQ6b"
      },
      "source": [
        "01 `total_trips` has a significant positive effect on `revenue` with coefficient = 7.767 and p<0.01, it's easy to understand that more trips has more transaction then increase the sales and revenue.\n",
        "\n",
        "02 `total_driver_payout_sr` also has a significant positive effect on revenue with coefficient = 0.221 and p<0.01, higher driver payouts means more trips and transactions, then they are correlated with higher revenue.\n",
        "\n",
        "03 `rider_cancellations` has a significant positive impact on revenue, with a coefficient of 30.302 and p<0.01. This may be because cancellations often have a fee. Additionally, customers tend to cancel because of a  long wait times or when drivers are far away, which can help reduce inefficient trips. Fewer inefficient trips mean drivers spend less time on unproductive rides and have more opportunities to take higher-value, efficient orders."
      ]
    },
    {
      "cell_type": "markdown",
      "metadata": {
        "id": "h3RtzLLLsQ6b"
      },
      "source": [
        "###  7. One of your data scientists suggests that the optimal wait time may differ by whether it’s a commuting period. Test whether the effects of a 5 minute wait period on total trips and cancelations differ by whether it’s a commuting period (the column 'commute'). Which policy works better during commute times? (10 points)\n"
      ]
    },
    {
      "cell_type": "code",
      "execution_count": null,
      "metadata": {
        "id": "3TdNKc3PsQ6b"
      },
      "outputs": [],
      "source": []
    }
  ],
  "metadata": {
    "kernelspec": {
      "display_name": "Python 3",
      "language": "python",
      "name": "python3"
    },
    "language_info": {
      "name": "python",
      "version": "3.11.4"
    },
    "colab": {
      "provenance": [],
      "include_colab_link": true
    }
  },
  "nbformat": 4,
  "nbformat_minor": 0
}